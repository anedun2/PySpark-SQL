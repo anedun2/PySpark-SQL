{
  "nbformat": 4,
  "nbformat_minor": 0,
  "metadata": {
    "colab": {
      "name": "anedun2_HW3.ipynb",
      "provenance": [],
      "collapsed_sections": []
    },
    "kernelspec": {
      "name": "python3",
      "display_name": "Python 3"
    }
  },
  "cells": [
    {
      "cell_type": "code",
      "metadata": {
        "id": "iOSVZM5E7RAL",
        "colab_type": "code",
        "colab": {}
      },
      "source": [
        "!apt-get install openjdk-8-jdk-headless -qq > /dev/null"
      ],
      "execution_count": 0,
      "outputs": []
    },
    {
      "cell_type": "code",
      "metadata": {
        "id": "-xqfRx6s7Zl7",
        "colab_type": "code",
        "colab": {}
      },
      "source": [
        "!wget -q http://apache.mirrors.pair.com/spark/spark-2.4.4/spark-2.4.4-bin-hadoop2.7.tgz"
      ],
      "execution_count": 0,
      "outputs": []
    },
    {
      "cell_type": "code",
      "metadata": {
        "id": "-OjYDsHb7cdT",
        "colab_type": "code",
        "outputId": "9a430426-110c-4134-b70d-a27488dadc43",
        "colab": {
          "base_uri": "https://localhost:8080/",
          "height": 34
        }
      },
      "source": [
        "!ls"
      ],
      "execution_count": 3,
      "outputs": [
        {
          "output_type": "stream",
          "text": [
            "sample_data  spark-2.4.4-bin-hadoop2.7.tgz\n"
          ],
          "name": "stdout"
        }
      ]
    },
    {
      "cell_type": "code",
      "metadata": {
        "id": "7MS2-3jU7haz",
        "colab_type": "code",
        "outputId": "725d8831-49a0-4384-80f2-5ce4f1e71691",
        "colab": {
          "base_uri": "https://localhost:8080/",
          "height": 1000
        }
      },
      "source": [
        "!tar -xvf spark-2.4.4-bin-hadoop2.7.tgz"
      ],
      "execution_count": 4,
      "outputs": [
        {
          "output_type": "stream",
          "text": [
            "spark-2.4.4-bin-hadoop2.7/\n",
            "spark-2.4.4-bin-hadoop2.7/R/\n",
            "spark-2.4.4-bin-hadoop2.7/R/lib/\n",
            "spark-2.4.4-bin-hadoop2.7/R/lib/sparkr.zip\n",
            "spark-2.4.4-bin-hadoop2.7/R/lib/SparkR/\n",
            "spark-2.4.4-bin-hadoop2.7/R/lib/SparkR/INDEX\n",
            "spark-2.4.4-bin-hadoop2.7/R/lib/SparkR/html/\n",
            "spark-2.4.4-bin-hadoop2.7/R/lib/SparkR/html/R.css\n",
            "spark-2.4.4-bin-hadoop2.7/R/lib/SparkR/html/00Index.html\n",
            "spark-2.4.4-bin-hadoop2.7/R/lib/SparkR/help/\n",
            "spark-2.4.4-bin-hadoop2.7/R/lib/SparkR/help/aliases.rds\n",
            "spark-2.4.4-bin-hadoop2.7/R/lib/SparkR/help/AnIndex\n",
            "spark-2.4.4-bin-hadoop2.7/R/lib/SparkR/help/SparkR.rdx\n",
            "spark-2.4.4-bin-hadoop2.7/R/lib/SparkR/help/SparkR.rdb\n",
            "spark-2.4.4-bin-hadoop2.7/R/lib/SparkR/help/paths.rds\n",
            "spark-2.4.4-bin-hadoop2.7/R/lib/SparkR/worker/\n",
            "spark-2.4.4-bin-hadoop2.7/R/lib/SparkR/worker/worker.R\n",
            "spark-2.4.4-bin-hadoop2.7/R/lib/SparkR/worker/daemon.R\n",
            "spark-2.4.4-bin-hadoop2.7/R/lib/SparkR/tests/\n",
            "spark-2.4.4-bin-hadoop2.7/R/lib/SparkR/tests/testthat/\n",
            "spark-2.4.4-bin-hadoop2.7/R/lib/SparkR/tests/testthat/test_basic.R\n",
            "spark-2.4.4-bin-hadoop2.7/R/lib/SparkR/profile/\n",
            "spark-2.4.4-bin-hadoop2.7/R/lib/SparkR/profile/shell.R\n",
            "spark-2.4.4-bin-hadoop2.7/R/lib/SparkR/profile/general.R\n",
            "spark-2.4.4-bin-hadoop2.7/R/lib/SparkR/R/\n",
            "spark-2.4.4-bin-hadoop2.7/R/lib/SparkR/R/SparkR.rdx\n",
            "spark-2.4.4-bin-hadoop2.7/R/lib/SparkR/R/SparkR.rdb\n",
            "spark-2.4.4-bin-hadoop2.7/R/lib/SparkR/R/SparkR\n",
            "spark-2.4.4-bin-hadoop2.7/R/lib/SparkR/Meta/\n",
            "spark-2.4.4-bin-hadoop2.7/R/lib/SparkR/Meta/nsInfo.rds\n",
            "spark-2.4.4-bin-hadoop2.7/R/lib/SparkR/Meta/links.rds\n",
            "spark-2.4.4-bin-hadoop2.7/R/lib/SparkR/Meta/hsearch.rds\n",
            "spark-2.4.4-bin-hadoop2.7/R/lib/SparkR/Meta/Rd.rds\n",
            "spark-2.4.4-bin-hadoop2.7/R/lib/SparkR/Meta/features.rds\n",
            "spark-2.4.4-bin-hadoop2.7/R/lib/SparkR/Meta/package.rds\n",
            "spark-2.4.4-bin-hadoop2.7/R/lib/SparkR/DESCRIPTION\n",
            "spark-2.4.4-bin-hadoop2.7/R/lib/SparkR/NAMESPACE\n",
            "spark-2.4.4-bin-hadoop2.7/sbin/\n",
            "spark-2.4.4-bin-hadoop2.7/sbin/stop-shuffle-service.sh\n",
            "spark-2.4.4-bin-hadoop2.7/sbin/start-thriftserver.sh\n",
            "spark-2.4.4-bin-hadoop2.7/sbin/start-slave.sh\n",
            "spark-2.4.4-bin-hadoop2.7/sbin/start-shuffle-service.sh\n",
            "spark-2.4.4-bin-hadoop2.7/sbin/start-mesos-shuffle-service.sh\n",
            "spark-2.4.4-bin-hadoop2.7/sbin/start-master.sh\n",
            "spark-2.4.4-bin-hadoop2.7/sbin/start-history-server.sh\n",
            "spark-2.4.4-bin-hadoop2.7/sbin/spark-config.sh\n",
            "spark-2.4.4-bin-hadoop2.7/sbin/stop-thriftserver.sh\n",
            "spark-2.4.4-bin-hadoop2.7/sbin/stop-slaves.sh\n",
            "spark-2.4.4-bin-hadoop2.7/sbin/stop-slave.sh\n",
            "spark-2.4.4-bin-hadoop2.7/sbin/stop-mesos-shuffle-service.sh\n",
            "spark-2.4.4-bin-hadoop2.7/sbin/stop-mesos-dispatcher.sh\n",
            "spark-2.4.4-bin-hadoop2.7/sbin/stop-master.sh\n",
            "spark-2.4.4-bin-hadoop2.7/sbin/stop-history-server.sh\n",
            "spark-2.4.4-bin-hadoop2.7/sbin/stop-all.sh\n",
            "spark-2.4.4-bin-hadoop2.7/sbin/start-slaves.sh\n",
            "spark-2.4.4-bin-hadoop2.7/sbin/start-mesos-dispatcher.sh\n",
            "spark-2.4.4-bin-hadoop2.7/sbin/start-all.sh\n",
            "spark-2.4.4-bin-hadoop2.7/sbin/spark-daemons.sh\n",
            "spark-2.4.4-bin-hadoop2.7/sbin/spark-daemon.sh\n",
            "spark-2.4.4-bin-hadoop2.7/sbin/slaves.sh\n",
            "spark-2.4.4-bin-hadoop2.7/python/\n",
            "spark-2.4.4-bin-hadoop2.7/python/dist/\n",
            "spark-2.4.4-bin-hadoop2.7/python/pyspark.egg-info/\n",
            "spark-2.4.4-bin-hadoop2.7/python/pyspark.egg-info/SOURCES.txt\n",
            "spark-2.4.4-bin-hadoop2.7/python/pyspark.egg-info/dependency_links.txt\n",
            "spark-2.4.4-bin-hadoop2.7/python/pyspark.egg-info/top_level.txt\n",
            "spark-2.4.4-bin-hadoop2.7/python/pyspark.egg-info/PKG-INFO\n",
            "spark-2.4.4-bin-hadoop2.7/python/pyspark.egg-info/requires.txt\n",
            "spark-2.4.4-bin-hadoop2.7/python/README.md\n",
            "spark-2.4.4-bin-hadoop2.7/python/MANIFEST.in\n",
            "spark-2.4.4-bin-hadoop2.7/python/setup.py\n",
            "spark-2.4.4-bin-hadoop2.7/python/run-tests.py\n",
            "spark-2.4.4-bin-hadoop2.7/python/run-tests-with-coverage\n",
            "spark-2.4.4-bin-hadoop2.7/python/test_support/\n",
            "spark-2.4.4-bin-hadoop2.7/python/test_support/userlibrary.py\n",
            "spark-2.4.4-bin-hadoop2.7/python/test_support/userlib-0.1.zip\n",
            "spark-2.4.4-bin-hadoop2.7/python/test_support/sql/\n",
            "spark-2.4.4-bin-hadoop2.7/python/test_support/sql/text-test.txt\n",
            "spark-2.4.4-bin-hadoop2.7/python/test_support/sql/streaming/\n",
            "spark-2.4.4-bin-hadoop2.7/python/test_support/sql/streaming/text-test.txt\n",
            "spark-2.4.4-bin-hadoop2.7/python/test_support/sql/people_array_utf16le.json\n",
            "spark-2.4.4-bin-hadoop2.7/python/test_support/sql/people_array.json\n",
            "spark-2.4.4-bin-hadoop2.7/python/test_support/sql/people1.json\n",
            "spark-2.4.4-bin-hadoop2.7/python/test_support/sql/people.json\n",
            "spark-2.4.4-bin-hadoop2.7/python/test_support/sql/parquet_partitioned/\n",
            "spark-2.4.4-bin-hadoop2.7/python/test_support/sql/parquet_partitioned/year=2015/\n",
            "spark-2.4.4-bin-hadoop2.7/python/test_support/sql/parquet_partitioned/year=2015/month=9/\n",
            "spark-2.4.4-bin-hadoop2.7/python/test_support/sql/parquet_partitioned/year=2015/month=9/day=1/\n",
            "spark-2.4.4-bin-hadoop2.7/python/test_support/sql/parquet_partitioned/year=2015/month=9/day=1/part-r-00007.gz.parquet\n",
            "spark-2.4.4-bin-hadoop2.7/python/test_support/sql/parquet_partitioned/year=2015/month=9/day=1/.part-r-00007.gz.parquet.crc\n",
            "spark-2.4.4-bin-hadoop2.7/python/test_support/sql/parquet_partitioned/year=2015/month=10/\n",
            "spark-2.4.4-bin-hadoop2.7/python/test_support/sql/parquet_partitioned/year=2015/month=10/day=26/\n",
            "spark-2.4.4-bin-hadoop2.7/python/test_support/sql/parquet_partitioned/year=2015/month=10/day=26/part-r-00005.gz.parquet\n",
            "spark-2.4.4-bin-hadoop2.7/python/test_support/sql/parquet_partitioned/year=2015/month=10/day=26/.part-r-00005.gz.parquet.crc\n",
            "spark-2.4.4-bin-hadoop2.7/python/test_support/sql/parquet_partitioned/year=2015/month=10/day=25/\n",
            "spark-2.4.4-bin-hadoop2.7/python/test_support/sql/parquet_partitioned/year=2015/month=10/day=25/part-r-00004.gz.parquet\n",
            "spark-2.4.4-bin-hadoop2.7/python/test_support/sql/parquet_partitioned/year=2015/month=10/day=25/part-r-00002.gz.parquet\n",
            "spark-2.4.4-bin-hadoop2.7/python/test_support/sql/parquet_partitioned/year=2015/month=10/day=25/.part-r-00004.gz.parquet.crc\n",
            "spark-2.4.4-bin-hadoop2.7/python/test_support/sql/parquet_partitioned/year=2015/month=10/day=25/.part-r-00002.gz.parquet.crc\n",
            "spark-2.4.4-bin-hadoop2.7/python/test_support/sql/parquet_partitioned/year=2014/\n",
            "spark-2.4.4-bin-hadoop2.7/python/test_support/sql/parquet_partitioned/year=2014/month=9/\n",
            "spark-2.4.4-bin-hadoop2.7/python/test_support/sql/parquet_partitioned/year=2014/month=9/day=1/\n",
            "spark-2.4.4-bin-hadoop2.7/python/test_support/sql/parquet_partitioned/year=2014/month=9/day=1/part-r-00008.gz.parquet\n",
            "spark-2.4.4-bin-hadoop2.7/python/test_support/sql/parquet_partitioned/year=2014/month=9/day=1/.part-r-00008.gz.parquet.crc\n",
            "spark-2.4.4-bin-hadoop2.7/python/test_support/sql/parquet_partitioned/_metadata\n",
            "spark-2.4.4-bin-hadoop2.7/python/test_support/sql/parquet_partitioned/_common_metadata\n",
            "spark-2.4.4-bin-hadoop2.7/python/test_support/sql/parquet_partitioned/_SUCCESS\n",
            "spark-2.4.4-bin-hadoop2.7/python/test_support/sql/orc_partitioned/\n",
            "spark-2.4.4-bin-hadoop2.7/python/test_support/sql/orc_partitioned/b=1/\n",
            "spark-2.4.4-bin-hadoop2.7/python/test_support/sql/orc_partitioned/b=1/c=1/\n",
            "spark-2.4.4-bin-hadoop2.7/python/test_support/sql/orc_partitioned/b=1/c=1/part-r-00000-829af031-b970-49d6-ad39-30460a0be2c8.orc\n",
            "spark-2.4.4-bin-hadoop2.7/python/test_support/sql/orc_partitioned/b=1/c=1/.part-r-00000-829af031-b970-49d6-ad39-30460a0be2c8.orc.crc\n",
            "spark-2.4.4-bin-hadoop2.7/python/test_support/sql/orc_partitioned/b=0/\n",
            "spark-2.4.4-bin-hadoop2.7/python/test_support/sql/orc_partitioned/b=0/c=0/\n",
            "spark-2.4.4-bin-hadoop2.7/python/test_support/sql/orc_partitioned/b=0/c=0/part-r-00000-829af031-b970-49d6-ad39-30460a0be2c8.orc\n",
            "spark-2.4.4-bin-hadoop2.7/python/test_support/sql/orc_partitioned/b=0/c=0/.part-r-00000-829af031-b970-49d6-ad39-30460a0be2c8.orc.crc\n",
            "spark-2.4.4-bin-hadoop2.7/python/test_support/sql/orc_partitioned/_SUCCESS\n",
            "spark-2.4.4-bin-hadoop2.7/python/test_support/sql/ages_newlines.csv\n",
            "spark-2.4.4-bin-hadoop2.7/python/test_support/sql/ages.csv\n",
            "spark-2.4.4-bin-hadoop2.7/python/test_support/hello/\n",
            "spark-2.4.4-bin-hadoop2.7/python/test_support/hello/sub_hello/\n",
            "spark-2.4.4-bin-hadoop2.7/python/test_support/hello/sub_hello/sub_hello.txt\n",
            "spark-2.4.4-bin-hadoop2.7/python/test_support/hello/hello.txt\n",
            "spark-2.4.4-bin-hadoop2.7/python/test_support/SimpleHTTPServer.py\n",
            "spark-2.4.4-bin-hadoop2.7/python/test_coverage/\n",
            "spark-2.4.4-bin-hadoop2.7/python/test_coverage/sitecustomize.py\n",
            "spark-2.4.4-bin-hadoop2.7/python/test_coverage/coverage_daemon.py\n",
            "spark-2.4.4-bin-hadoop2.7/python/test_coverage/conf/\n",
            "spark-2.4.4-bin-hadoop2.7/python/test_coverage/conf/spark-defaults.conf\n",
            "spark-2.4.4-bin-hadoop2.7/python/setup.cfg\n",
            "spark-2.4.4-bin-hadoop2.7/python/run-tests\n",
            "spark-2.4.4-bin-hadoop2.7/python/pyspark/\n",
            "spark-2.4.4-bin-hadoop2.7/python/pyspark/python/\n",
            "spark-2.4.4-bin-hadoop2.7/python/pyspark/python/pyspark/\n",
            "spark-2.4.4-bin-hadoop2.7/python/pyspark/python/pyspark/shell.py\n",
            "spark-2.4.4-bin-hadoop2.7/python/pyspark/shuffle.py\n",
            "spark-2.4.4-bin-hadoop2.7/python/pyspark/serializers.py\n",
            "spark-2.4.4-bin-hadoop2.7/python/pyspark/rdd.py\n",
            "spark-2.4.4-bin-hadoop2.7/python/pyspark/profiler.py\n",
            "spark-2.4.4-bin-hadoop2.7/python/pyspark/java_gateway.py\n",
            "spark-2.4.4-bin-hadoop2.7/python/pyspark/files.py\n",
            "spark-2.4.4-bin-hadoop2.7/python/pyspark/daemon.py\n",
            "spark-2.4.4-bin-hadoop2.7/python/pyspark/context.py\n",
            "spark-2.4.4-bin-hadoop2.7/python/pyspark/conf.py\n",
            "spark-2.4.4-bin-hadoop2.7/python/pyspark/cloudpickle.py\n",
            "spark-2.4.4-bin-hadoop2.7/python/pyspark/broadcast.py\n",
            "spark-2.4.4-bin-hadoop2.7/python/pyspark/accumulators.py\n",
            "spark-2.4.4-bin-hadoop2.7/python/pyspark/__init__.py\n",
            "spark-2.4.4-bin-hadoop2.7/python/pyspark/worker.py\n",
            "spark-2.4.4-bin-hadoop2.7/python/pyspark/version.py\n",
            "spark-2.4.4-bin-hadoop2.7/python/pyspark/util.py\n",
            "spark-2.4.4-bin-hadoop2.7/python/pyspark/tests.py\n",
            "spark-2.4.4-bin-hadoop2.7/python/pyspark/test_serializers.py\n",
            "spark-2.4.4-bin-hadoop2.7/python/pyspark/test_broadcast.py\n",
            "spark-2.4.4-bin-hadoop2.7/python/pyspark/taskcontext.py\n",
            "spark-2.4.4-bin-hadoop2.7/python/pyspark/storagelevel.py\n",
            "spark-2.4.4-bin-hadoop2.7/python/pyspark/traceback_utils.py\n",
            "spark-2.4.4-bin-hadoop2.7/python/pyspark/streaming/\n",
            "spark-2.4.4-bin-hadoop2.7/python/pyspark/streaming/tests.py\n",
            "spark-2.4.4-bin-hadoop2.7/python/pyspark/streaming/kinesis.py\n",
            "spark-2.4.4-bin-hadoop2.7/python/pyspark/streaming/kafka.py\n",
            "spark-2.4.4-bin-hadoop2.7/python/pyspark/streaming/flume.py\n",
            "spark-2.4.4-bin-hadoop2.7/python/pyspark/streaming/dstream.py\n",
            "spark-2.4.4-bin-hadoop2.7/python/pyspark/streaming/context.py\n",
            "spark-2.4.4-bin-hadoop2.7/python/pyspark/streaming/util.py\n",
            "spark-2.4.4-bin-hadoop2.7/python/pyspark/streaming/listener.py\n",
            "spark-2.4.4-bin-hadoop2.7/python/pyspark/streaming/__init__.py\n",
            "spark-2.4.4-bin-hadoop2.7/python/pyspark/status.py\n",
            "spark-2.4.4-bin-hadoop2.7/python/pyspark/statcounter.py\n",
            "spark-2.4.4-bin-hadoop2.7/python/pyspark/sql/\n",
            "spark-2.4.4-bin-hadoop2.7/python/pyspark/sql/tests.py\n",
            "spark-2.4.4-bin-hadoop2.7/python/pyspark/sql/streaming.py\n",
            "spark-2.4.4-bin-hadoop2.7/python/pyspark/sql/session.py\n",
            "spark-2.4.4-bin-hadoop2.7/python/pyspark/sql/readwriter.py\n",
            "spark-2.4.4-bin-hadoop2.7/python/pyspark/sql/functions.py\n",
            "spark-2.4.4-bin-hadoop2.7/python/pyspark/sql/dataframe.py\n",
            "spark-2.4.4-bin-hadoop2.7/python/pyspark/sql/context.py\n",
            "spark-2.4.4-bin-hadoop2.7/python/pyspark/sql/window.py\n",
            "spark-2.4.4-bin-hadoop2.7/python/pyspark/sql/utils.py\n",
            "spark-2.4.4-bin-hadoop2.7/python/pyspark/sql/udf.py\n",
            "spark-2.4.4-bin-hadoop2.7/python/pyspark/sql/types.py\n",
            "spark-2.4.4-bin-hadoop2.7/python/pyspark/sql/group.py\n",
            "spark-2.4.4-bin-hadoop2.7/python/pyspark/sql/conf.py\n",
            "spark-2.4.4-bin-hadoop2.7/python/pyspark/sql/column.py\n",
            "spark-2.4.4-bin-hadoop2.7/python/pyspark/sql/catalog.py\n",
            "spark-2.4.4-bin-hadoop2.7/python/pyspark/sql/__init__.py\n",
            "spark-2.4.4-bin-hadoop2.7/python/pyspark/shell.py\n",
            "spark-2.4.4-bin-hadoop2.7/python/pyspark/resultiterable.py\n",
            "spark-2.4.4-bin-hadoop2.7/python/pyspark/rddsampler.py\n",
            "spark-2.4.4-bin-hadoop2.7/python/pyspark/mllib/\n",
            "spark-2.4.4-bin-hadoop2.7/python/pyspark/mllib/util.py\n",
            "spark-2.4.4-bin-hadoop2.7/python/pyspark/mllib/tree.py\n",
            "spark-2.4.4-bin-hadoop2.7/python/pyspark/mllib/tests.py\n",
            "spark-2.4.4-bin-hadoop2.7/python/pyspark/mllib/regression.py\n",
            "spark-2.4.4-bin-hadoop2.7/python/pyspark/mllib/recommendation.py\n",
            "spark-2.4.4-bin-hadoop2.7/python/pyspark/mllib/random.py\n",
            "spark-2.4.4-bin-hadoop2.7/python/pyspark/mllib/fpm.py\n",
            "spark-2.4.4-bin-hadoop2.7/python/pyspark/mllib/feature.py\n",
            "spark-2.4.4-bin-hadoop2.7/python/pyspark/mllib/evaluation.py\n",
            "spark-2.4.4-bin-hadoop2.7/python/pyspark/mllib/clustering.py\n",
            "spark-2.4.4-bin-hadoop2.7/python/pyspark/mllib/classification.py\n",
            "spark-2.4.4-bin-hadoop2.7/python/pyspark/mllib/stat/\n",
            "spark-2.4.4-bin-hadoop2.7/python/pyspark/mllib/stat/_statistics.py\n",
            "spark-2.4.4-bin-hadoop2.7/python/pyspark/mllib/stat/test.py\n",
            "spark-2.4.4-bin-hadoop2.7/python/pyspark/mllib/stat/distribution.py\n",
            "spark-2.4.4-bin-hadoop2.7/python/pyspark/mllib/stat/__init__.py\n",
            "spark-2.4.4-bin-hadoop2.7/python/pyspark/mllib/stat/KernelDensity.py\n",
            "spark-2.4.4-bin-hadoop2.7/python/pyspark/mllib/linalg/\n",
            "spark-2.4.4-bin-hadoop2.7/python/pyspark/mllib/linalg/distributed.py\n",
            "spark-2.4.4-bin-hadoop2.7/python/pyspark/mllib/linalg/__init__.py\n",
            "spark-2.4.4-bin-hadoop2.7/python/pyspark/mllib/common.py\n",
            "spark-2.4.4-bin-hadoop2.7/python/pyspark/mllib/__init__.py\n",
            "spark-2.4.4-bin-hadoop2.7/python/pyspark/ml/\n",
            "spark-2.4.4-bin-hadoop2.7/python/pyspark/ml/wrapper.py\n",
            "spark-2.4.4-bin-hadoop2.7/python/pyspark/ml/util.py\n",
            "spark-2.4.4-bin-hadoop2.7/python/pyspark/ml/tuning.py\n",
            "spark-2.4.4-bin-hadoop2.7/python/pyspark/ml/tests.py\n",
            "spark-2.4.4-bin-hadoop2.7/python/pyspark/ml/regression.py\n",
            "spark-2.4.4-bin-hadoop2.7/python/pyspark/ml/recommendation.py\n",
            "spark-2.4.4-bin-hadoop2.7/python/pyspark/ml/image.py\n",
            "spark-2.4.4-bin-hadoop2.7/python/pyspark/ml/fpm.py\n",
            "spark-2.4.4-bin-hadoop2.7/python/pyspark/ml/feature.py\n",
            "spark-2.4.4-bin-hadoop2.7/python/pyspark/ml/evaluation.py\n",
            "spark-2.4.4-bin-hadoop2.7/python/pyspark/ml/clustering.py\n",
            "spark-2.4.4-bin-hadoop2.7/python/pyspark/ml/classification.py\n",
            "spark-2.4.4-bin-hadoop2.7/python/pyspark/ml/stat.py\n",
            "spark-2.4.4-bin-hadoop2.7/python/pyspark/ml/pipeline.py\n",
            "spark-2.4.4-bin-hadoop2.7/python/pyspark/ml/param/\n",
            "spark-2.4.4-bin-hadoop2.7/python/pyspark/ml/param/shared.py\n",
            "spark-2.4.4-bin-hadoop2.7/python/pyspark/ml/param/_shared_params_code_gen.py\n",
            "spark-2.4.4-bin-hadoop2.7/python/pyspark/ml/param/__init__.py\n",
            "spark-2.4.4-bin-hadoop2.7/python/pyspark/ml/linalg/\n",
            "spark-2.4.4-bin-hadoop2.7/python/pyspark/ml/linalg/__init__.py\n",
            "spark-2.4.4-bin-hadoop2.7/python/pyspark/ml/common.py\n",
            "spark-2.4.4-bin-hadoop2.7/python/pyspark/ml/base.py\n",
            "spark-2.4.4-bin-hadoop2.7/python/pyspark/ml/__init__.py\n",
            "spark-2.4.4-bin-hadoop2.7/python/pyspark/join.py\n",
            "spark-2.4.4-bin-hadoop2.7/python/pyspark/heapq3.py\n",
            "spark-2.4.4-bin-hadoop2.7/python/pyspark/find_spark_home.py\n",
            "spark-2.4.4-bin-hadoop2.7/python/pyspark/_globals.py\n",
            "spark-2.4.4-bin-hadoop2.7/python/pylintrc\n",
            "spark-2.4.4-bin-hadoop2.7/python/lib/\n",
            "spark-2.4.4-bin-hadoop2.7/python/lib/pyspark.zip\n",
            "spark-2.4.4-bin-hadoop2.7/python/lib/py4j-0.10.7-src.zip\n",
            "spark-2.4.4-bin-hadoop2.7/python/lib/PY4J_LICENSE.txt\n",
            "spark-2.4.4-bin-hadoop2.7/python/docs/\n",
            "spark-2.4.4-bin-hadoop2.7/python/docs/pyspark.streaming.rst\n",
            "spark-2.4.4-bin-hadoop2.7/python/docs/pyspark.sql.rst\n",
            "spark-2.4.4-bin-hadoop2.7/python/docs/epytext.py\n",
            "spark-2.4.4-bin-hadoop2.7/python/docs/conf.py\n",
            "spark-2.4.4-bin-hadoop2.7/python/docs/Makefile\n",
            "spark-2.4.4-bin-hadoop2.7/python/docs/pyspark.rst\n",
            "spark-2.4.4-bin-hadoop2.7/python/docs/pyspark.mllib.rst\n",
            "spark-2.4.4-bin-hadoop2.7/python/docs/pyspark.ml.rst\n",
            "spark-2.4.4-bin-hadoop2.7/python/docs/make2.bat\n",
            "spark-2.4.4-bin-hadoop2.7/python/docs/make.bat\n",
            "spark-2.4.4-bin-hadoop2.7/python/docs/index.rst\n",
            "spark-2.4.4-bin-hadoop2.7/python/docs/_templates/\n",
            "spark-2.4.4-bin-hadoop2.7/python/docs/_templates/layout.html\n",
            "spark-2.4.4-bin-hadoop2.7/python/docs/_static/\n",
            "spark-2.4.4-bin-hadoop2.7/python/docs/_static/pyspark.js\n",
            "spark-2.4.4-bin-hadoop2.7/python/docs/_static/pyspark.css\n",
            "spark-2.4.4-bin-hadoop2.7/python/.gitignore\n",
            "spark-2.4.4-bin-hadoop2.7/python/.coveragerc\n",
            "spark-2.4.4-bin-hadoop2.7/bin/\n",
            "spark-2.4.4-bin-hadoop2.7/bin/spark-class\n",
            "spark-2.4.4-bin-hadoop2.7/bin/pyspark2.cmd\n",
            "spark-2.4.4-bin-hadoop2.7/bin/pyspark\n",
            "spark-2.4.4-bin-hadoop2.7/bin/load-spark-env.sh\n",
            "spark-2.4.4-bin-hadoop2.7/bin/load-spark-env.cmd\n",
            "spark-2.4.4-bin-hadoop2.7/bin/docker-image-tool.sh\n",
            "spark-2.4.4-bin-hadoop2.7/bin/sparkR2.cmd\n",
            "spark-2.4.4-bin-hadoop2.7/bin/sparkR.cmd\n",
            "spark-2.4.4-bin-hadoop2.7/bin/sparkR\n",
            "spark-2.4.4-bin-hadoop2.7/bin/spark-submit2.cmd\n",
            "spark-2.4.4-bin-hadoop2.7/bin/spark-submit.cmd\n",
            "spark-2.4.4-bin-hadoop2.7/bin/spark-submit\n",
            "spark-2.4.4-bin-hadoop2.7/bin/spark-sql2.cmd\n",
            "spark-2.4.4-bin-hadoop2.7/bin/spark-sql.cmd\n",
            "spark-2.4.4-bin-hadoop2.7/bin/spark-sql\n",
            "spark-2.4.4-bin-hadoop2.7/bin/spark-shell2.cmd\n",
            "spark-2.4.4-bin-hadoop2.7/bin/spark-shell.cmd\n",
            "spark-2.4.4-bin-hadoop2.7/bin/spark-shell\n",
            "spark-2.4.4-bin-hadoop2.7/bin/spark-class2.cmd\n",
            "spark-2.4.4-bin-hadoop2.7/bin/spark-class.cmd\n",
            "spark-2.4.4-bin-hadoop2.7/bin/run-example.cmd\n",
            "spark-2.4.4-bin-hadoop2.7/bin/run-example\n",
            "spark-2.4.4-bin-hadoop2.7/bin/pyspark.cmd\n",
            "spark-2.4.4-bin-hadoop2.7/bin/find-spark-home.cmd\n",
            "spark-2.4.4-bin-hadoop2.7/bin/find-spark-home\n",
            "spark-2.4.4-bin-hadoop2.7/bin/beeline.cmd\n",
            "spark-2.4.4-bin-hadoop2.7/bin/beeline\n",
            "spark-2.4.4-bin-hadoop2.7/README.md\n",
            "spark-2.4.4-bin-hadoop2.7/conf/\n",
            "spark-2.4.4-bin-hadoop2.7/conf/spark-env.sh.template\n",
            "spark-2.4.4-bin-hadoop2.7/conf/spark-defaults.conf.template\n",
            "spark-2.4.4-bin-hadoop2.7/conf/slaves.template\n",
            "spark-2.4.4-bin-hadoop2.7/conf/metrics.properties.template\n",
            "spark-2.4.4-bin-hadoop2.7/conf/log4j.properties.template\n",
            "spark-2.4.4-bin-hadoop2.7/conf/fairscheduler.xml.template\n",
            "spark-2.4.4-bin-hadoop2.7/conf/docker.properties.template\n",
            "spark-2.4.4-bin-hadoop2.7/data/\n",
            "spark-2.4.4-bin-hadoop2.7/data/mllib/\n",
            "spark-2.4.4-bin-hadoop2.7/data/mllib/gmm_data.txt\n",
            "spark-2.4.4-bin-hadoop2.7/data/mllib/als/\n",
            "spark-2.4.4-bin-hadoop2.7/data/mllib/als/test.data\n",
            "spark-2.4.4-bin-hadoop2.7/data/mllib/als/sample_movielens_ratings.txt\n",
            "spark-2.4.4-bin-hadoop2.7/data/mllib/streaming_kmeans_data_test.txt\n",
            "spark-2.4.4-bin-hadoop2.7/data/mllib/sample_svm_data.txt\n",
            "spark-2.4.4-bin-hadoop2.7/data/mllib/sample_multiclass_classification_data.txt\n",
            "spark-2.4.4-bin-hadoop2.7/data/mllib/sample_movielens_data.txt\n",
            "spark-2.4.4-bin-hadoop2.7/data/mllib/sample_linear_regression_data.txt\n",
            "spark-2.4.4-bin-hadoop2.7/data/mllib/sample_libsvm_data.txt\n",
            "spark-2.4.4-bin-hadoop2.7/data/mllib/sample_lda_libsvm_data.txt\n",
            "spark-2.4.4-bin-hadoop2.7/data/mllib/sample_lda_data.txt\n",
            "spark-2.4.4-bin-hadoop2.7/data/mllib/sample_kmeans_data.txt\n",
            "spark-2.4.4-bin-hadoop2.7/data/mllib/sample_isotonic_regression_libsvm_data.txt\n",
            "spark-2.4.4-bin-hadoop2.7/data/mllib/sample_fpgrowth.txt\n",
            "spark-2.4.4-bin-hadoop2.7/data/mllib/sample_binary_classification_data.txt\n",
            "spark-2.4.4-bin-hadoop2.7/data/mllib/ridge-data/\n",
            "spark-2.4.4-bin-hadoop2.7/data/mllib/ridge-data/lpsa.data\n",
            "spark-2.4.4-bin-hadoop2.7/data/mllib/pic_data.txt\n",
            "spark-2.4.4-bin-hadoop2.7/data/mllib/pagerank_data.txt\n",
            "spark-2.4.4-bin-hadoop2.7/data/mllib/kmeans_data.txt\n",
            "spark-2.4.4-bin-hadoop2.7/data/mllib/iris_libsvm.txt\n",
            "spark-2.4.4-bin-hadoop2.7/data/mllib/images/\n",
            "spark-2.4.4-bin-hadoop2.7/data/mllib/images/partitioned/\n",
            "spark-2.4.4-bin-hadoop2.7/data/mllib/images/partitioned/cls=multichannel/\n",
            "spark-2.4.4-bin-hadoop2.7/data/mllib/images/partitioned/cls=multichannel/date=2018-02/\n",
            "spark-2.4.4-bin-hadoop2.7/data/mllib/images/partitioned/cls=multichannel/date=2018-02/grayscale.jpg\n",
            "spark-2.4.4-bin-hadoop2.7/data/mllib/images/partitioned/cls=multichannel/date=2018-02/chr30.4.184.jpg\n",
            "spark-2.4.4-bin-hadoop2.7/data/mllib/images/partitioned/cls=multichannel/date=2018-01/\n",
            "spark-2.4.4-bin-hadoop2.7/data/mllib/images/partitioned/cls=multichannel/date=2018-01/BGRA_alpha_60.png\n",
            "spark-2.4.4-bin-hadoop2.7/data/mllib/images/partitioned/cls=multichannel/date=2018-01/BGRA.png\n",
            "spark-2.4.4-bin-hadoop2.7/data/mllib/images/partitioned/cls=kittens/\n",
            "spark-2.4.4-bin-hadoop2.7/data/mllib/images/partitioned/cls=kittens/date=2018-02/\n",
            "spark-2.4.4-bin-hadoop2.7/data/mllib/images/partitioned/cls=kittens/date=2018-02/DP802813.jpg\n",
            "spark-2.4.4-bin-hadoop2.7/data/mllib/images/partitioned/cls=kittens/date=2018-02/DP153539.jpg\n",
            "spark-2.4.4-bin-hadoop2.7/data/mllib/images/partitioned/cls=kittens/date=2018-02/54893.jpg\n",
            "spark-2.4.4-bin-hadoop2.7/data/mllib/images/partitioned/cls=kittens/date=2018-01/\n",
            "spark-2.4.4-bin-hadoop2.7/data/mllib/images/partitioned/cls=kittens/date=2018-01/not-image.txt\n",
            "spark-2.4.4-bin-hadoop2.7/data/mllib/images/partitioned/cls=kittens/date=2018-01/29.5.a_b_EGDP022204.jpg\n",
            "spark-2.4.4-bin-hadoop2.7/data/mllib/images/origin/\n",
            "spark-2.4.4-bin-hadoop2.7/data/mllib/images/origin/multi-channel/\n",
            "spark-2.4.4-bin-hadoop2.7/data/mllib/images/origin/multi-channel/grayscale.jpg\n",
            "spark-2.4.4-bin-hadoop2.7/data/mllib/images/origin/multi-channel/chr30.4.184.jpg\n",
            "spark-2.4.4-bin-hadoop2.7/data/mllib/images/origin/multi-channel/BGRA_alpha_60.png\n",
            "spark-2.4.4-bin-hadoop2.7/data/mllib/images/origin/multi-channel/BGRA.png\n",
            "spark-2.4.4-bin-hadoop2.7/data/mllib/images/origin/license.txt\n",
            "spark-2.4.4-bin-hadoop2.7/data/mllib/images/origin/kittens/\n",
            "spark-2.4.4-bin-hadoop2.7/data/mllib/images/origin/kittens/not-image.txt\n",
            "spark-2.4.4-bin-hadoop2.7/data/mllib/images/origin/kittens/DP802813.jpg\n",
            "spark-2.4.4-bin-hadoop2.7/data/mllib/images/origin/kittens/DP153539.jpg\n",
            "spark-2.4.4-bin-hadoop2.7/data/mllib/images/origin/kittens/54893.jpg\n",
            "spark-2.4.4-bin-hadoop2.7/data/mllib/images/origin/kittens/29.5.a_b_EGDP022204.jpg\n",
            "spark-2.4.4-bin-hadoop2.7/data/mllib/images/license.txt\n",
            "spark-2.4.4-bin-hadoop2.7/data/graphx/\n",
            "spark-2.4.4-bin-hadoop2.7/data/graphx/users.txt\n",
            "spark-2.4.4-bin-hadoop2.7/data/graphx/followers.txt\n",
            "spark-2.4.4-bin-hadoop2.7/data/streaming/\n",
            "spark-2.4.4-bin-hadoop2.7/data/streaming/AFINN-111.txt\n",
            "spark-2.4.4-bin-hadoop2.7/NOTICE\n",
            "spark-2.4.4-bin-hadoop2.7/licenses/\n",
            "spark-2.4.4-bin-hadoop2.7/licenses/LICENSE-jtransforms.html\n",
            "spark-2.4.4-bin-hadoop2.7/licenses/LICENSE-json-formatter.txt\n",
            "spark-2.4.4-bin-hadoop2.7/licenses/LICENSE-jquery.txt\n",
            "spark-2.4.4-bin-hadoop2.7/licenses/LICENSE-join.txt\n",
            "spark-2.4.4-bin-hadoop2.7/licenses/LICENSE-jodd.txt\n",
            "spark-2.4.4-bin-hadoop2.7/licenses/LICENSE-jline.txt\n",
            "spark-2.4.4-bin-hadoop2.7/licenses/LICENSE-javolution.txt\n",
            "spark-2.4.4-bin-hadoop2.7/licenses/LICENSE-javassist.html\n",
            "spark-2.4.4-bin-hadoop2.7/licenses/LICENSE-janino.txt\n",
            "spark-2.4.4-bin-hadoop2.7/licenses/LICENSE-heapq.txt\n",
            "spark-2.4.4-bin-hadoop2.7/licenses/LICENSE-graphlib-dot.txt\n",
            "spark-2.4.4-bin-hadoop2.7/licenses/LICENSE-f2j.txt\n",
            "spark-2.4.4-bin-hadoop2.7/licenses/LICENSE-datatables.txt\n",
            "spark-2.4.4-bin-hadoop2.7/licenses/LICENSE-dagre-d3.txt\n",
            "spark-2.4.4-bin-hadoop2.7/licenses/LICENSE-d3.min.js.txt\n",
            "spark-2.4.4-bin-hadoop2.7/licenses/LICENSE-cloudpickle.txt\n",
            "spark-2.4.4-bin-hadoop2.7/licenses/LICENSE-bootstrap.txt\n",
            "spark-2.4.4-bin-hadoop2.7/licenses/LICENSE-automaton.txt\n",
            "spark-2.4.4-bin-hadoop2.7/licenses/LICENSE-arpack.txt\n",
            "spark-2.4.4-bin-hadoop2.7/licenses/LICENSE-antlr.txt\n",
            "spark-2.4.4-bin-hadoop2.7/licenses/LICENSE-CC0.txt\n",
            "spark-2.4.4-bin-hadoop2.7/licenses/LICENSE-AnchorJS.txt\n",
            "spark-2.4.4-bin-hadoop2.7/licenses/LICENSE-zstd.txt\n",
            "spark-2.4.4-bin-hadoop2.7/licenses/LICENSE-zstd-jni.txt\n",
            "spark-2.4.4-bin-hadoop2.7/licenses/LICENSE-xmlenc.txt\n",
            "spark-2.4.4-bin-hadoop2.7/licenses/LICENSE-vis.txt\n",
            "spark-2.4.4-bin-hadoop2.7/licenses/LICENSE-spire.txt\n",
            "spark-2.4.4-bin-hadoop2.7/licenses/LICENSE-sorttable.js.txt\n",
            "spark-2.4.4-bin-hadoop2.7/licenses/LICENSE-slf4j.txt\n",
            "spark-2.4.4-bin-hadoop2.7/licenses/LICENSE-scopt.txt\n",
            "spark-2.4.4-bin-hadoop2.7/licenses/LICENSE-scala.txt\n",
            "spark-2.4.4-bin-hadoop2.7/licenses/LICENSE-sbt-launch-lib.txt\n",
            "spark-2.4.4-bin-hadoop2.7/licenses/LICENSE-respond.txt\n",
            "spark-2.4.4-bin-hadoop2.7/licenses/LICENSE-reflectasm.txt\n",
            "spark-2.4.4-bin-hadoop2.7/licenses/LICENSE-pyrolite.txt\n",
            "spark-2.4.4-bin-hadoop2.7/licenses/LICENSE-py4j.txt\n",
            "spark-2.4.4-bin-hadoop2.7/licenses/LICENSE-protobuf.txt\n",
            "spark-2.4.4-bin-hadoop2.7/licenses/LICENSE-pmml-model.txt\n",
            "spark-2.4.4-bin-hadoop2.7/licenses/LICENSE-paranamer.txt\n",
            "spark-2.4.4-bin-hadoop2.7/licenses/LICENSE-netlib.txt\n",
            "spark-2.4.4-bin-hadoop2.7/licenses/LICENSE-mustache.txt\n",
            "spark-2.4.4-bin-hadoop2.7/licenses/LICENSE-modernizr.txt\n",
            "spark-2.4.4-bin-hadoop2.7/licenses/LICENSE-minlog.txt\n",
            "spark-2.4.4-bin-hadoop2.7/licenses/LICENSE-matchMedia-polyfill.txt\n",
            "spark-2.4.4-bin-hadoop2.7/licenses/LICENSE-machinist.txt\n",
            "spark-2.4.4-bin-hadoop2.7/licenses/LICENSE-leveldbjni.txt\n",
            "spark-2.4.4-bin-hadoop2.7/licenses/LICENSE-kryo.txt\n",
            "spark-2.4.4-bin-hadoop2.7/LICENSE\n",
            "spark-2.4.4-bin-hadoop2.7/examples/\n",
            "spark-2.4.4-bin-hadoop2.7/examples/src/\n",
            "spark-2.4.4-bin-hadoop2.7/examples/src/main/\n",
            "spark-2.4.4-bin-hadoop2.7/examples/src/main/scala/\n",
            "spark-2.4.4-bin-hadoop2.7/examples/src/main/scala/org/\n",
            "spark-2.4.4-bin-hadoop2.7/examples/src/main/scala/org/apache/\n",
            "spark-2.4.4-bin-hadoop2.7/examples/src/main/scala/org/apache/spark/\n",
            "spark-2.4.4-bin-hadoop2.7/examples/src/main/scala/org/apache/spark/examples/\n",
            "spark-2.4.4-bin-hadoop2.7/examples/src/main/scala/org/apache/spark/examples/mllib/\n",
            "spark-2.4.4-bin-hadoop2.7/examples/src/main/scala/org/apache/spark/examples/mllib/ElementwiseProductExample.scala\n",
            "spark-2.4.4-bin-hadoop2.7/examples/src/main/scala/org/apache/spark/examples/mllib/DenseKMeans.scala\n",
            "spark-2.4.4-bin-hadoop2.7/examples/src/main/scala/org/apache/spark/examples/mllib/DecisionTreeRegressionExample.scala\n",
            "spark-2.4.4-bin-hadoop2.7/examples/src/main/scala/org/apache/spark/examples/mllib/DecisionTreeClassificationExample.scala\n",
            "spark-2.4.4-bin-hadoop2.7/examples/src/main/scala/org/apache/spark/examples/mllib/CosineSimilarity.scala\n",
            "spark-2.4.4-bin-hadoop2.7/examples/src/main/scala/org/apache/spark/examples/mllib/CorrelationsExample.scala\n",
            "spark-2.4.4-bin-hadoop2.7/examples/src/main/scala/org/apache/spark/examples/mllib/Correlations.scala\n",
            "spark-2.4.4-bin-hadoop2.7/examples/src/main/scala/org/apache/spark/examples/mllib/ChiSqSelectorExample.scala\n",
            "spark-2.4.4-bin-hadoop2.7/examples/src/main/scala/org/apache/spark/examples/mllib/BisectingKMeansExample.scala\n",
            "spark-2.4.4-bin-hadoop2.7/examples/src/main/scala/org/apache/spark/examples/mllib/BinaryClassificationMetricsExample.scala\n",
            "spark-2.4.4-bin-hadoop2.7/examples/src/main/scala/org/apache/spark/examples/mllib/AssociationRulesExample.scala\n",
            "spark-2.4.4-bin-hadoop2.7/examples/src/main/scala/org/apache/spark/examples/mllib/AbstractParams.scala\n",
            "spark-2.4.4-bin-hadoop2.7/examples/src/main/scala/org/apache/spark/examples/mllib/Word2VecExample.scala\n",
            "spark-2.4.4-bin-hadoop2.7/examples/src/main/scala/org/apache/spark/examples/mllib/TallSkinnySVD.scala\n",
            "spark-2.4.4-bin-hadoop2.7/examples/src/main/scala/org/apache/spark/examples/mllib/TallSkinnyPCA.scala\n",
            "spark-2.4.4-bin-hadoop2.7/examples/src/main/scala/org/apache/spark/examples/mllib/TFIDFExample.scala\n",
            "spark-2.4.4-bin-hadoop2.7/examples/src/main/scala/org/apache/spark/examples/mllib/SummaryStatisticsExample.scala\n",
            "spark-2.4.4-bin-hadoop2.7/examples/src/main/scala/org/apache/spark/examples/mllib/StreamingTestExample.scala\n",
            "spark-2.4.4-bin-hadoop2.7/examples/src/main/scala/org/apache/spark/examples/mllib/StreamingLogisticRegression.scala\n",
            "spark-2.4.4-bin-hadoop2.7/examples/src/main/scala/org/apache/spark/examples/mllib/StreamingLinearRegressionExample.scala\n",
            "spark-2.4.4-bin-hadoop2.7/examples/src/main/scala/org/apache/spark/examples/mllib/StreamingKMeansExample.scala\n",
            "spark-2.4.4-bin-hadoop2.7/examples/src/main/scala/org/apache/spark/examples/mllib/StratifiedSamplingExample.scala\n",
            "spark-2.4.4-bin-hadoop2.7/examples/src/main/scala/org/apache/spark/examples/mllib/StandardScalerExample.scala\n",
            "spark-2.4.4-bin-hadoop2.7/examples/src/main/scala/org/apache/spark/examples/mllib/SparseNaiveBayes.scala\n",
            "spark-2.4.4-bin-hadoop2.7/examples/src/main/scala/org/apache/spark/examples/mllib/SimpleFPGrowth.scala\n",
            "spark-2.4.4-bin-hadoop2.7/examples/src/main/scala/org/apache/spark/examples/mllib/SampledRDDs.scala\n",
            "spark-2.4.4-bin-hadoop2.7/examples/src/main/scala/org/apache/spark/examples/mllib/SVMWithSGDExample.scala\n",
            "spark-2.4.4-bin-hadoop2.7/examples/src/main/scala/org/apache/spark/examples/mllib/SVDExample.scala\n",
            "spark-2.4.4-bin-hadoop2.7/examples/src/main/scala/org/apache/spark/examples/mllib/RegressionMetricsExample.scala\n",
            "spark-2.4.4-bin-hadoop2.7/examples/src/main/scala/org/apache/spark/examples/mllib/RecommendationExample.scala\n",
            "spark-2.4.4-bin-hadoop2.7/examples/src/main/scala/org/apache/spark/examples/mllib/RandomRDDGeneration.scala\n",
            "spark-2.4.4-bin-hadoop2.7/examples/src/main/scala/org/apache/spark/examples/mllib/RandomForestRegressionExample.scala\n",
            "spark-2.4.4-bin-hadoop2.7/examples/src/main/scala/org/apache/spark/examples/mllib/RandomForestClassificationExample.scala\n",
            "spark-2.4.4-bin-hadoop2.7/examples/src/main/scala/org/apache/spark/examples/mllib/PrefixSpanExample.scala\n",
            "spark-2.4.4-bin-hadoop2.7/examples/src/main/scala/org/apache/spark/examples/mllib/PowerIterationClusteringExample.scala\n",
            "spark-2.4.4-bin-hadoop2.7/examples/src/main/scala/org/apache/spark/examples/mllib/PMMLModelExportExample.scala\n",
            "spark-2.4.4-bin-hadoop2.7/examples/src/main/scala/org/apache/spark/examples/mllib/PCAOnSourceVectorExample.scala\n",
            "spark-2.4.4-bin-hadoop2.7/examples/src/main/scala/org/apache/spark/examples/mllib/PCAOnRowMatrixExample.scala\n",
            "spark-2.4.4-bin-hadoop2.7/examples/src/main/scala/org/apache/spark/examples/mllib/PCAExample.scala\n",
            "spark-2.4.4-bin-hadoop2.7/examples/src/main/scala/org/apache/spark/examples/mllib/NormalizerExample.scala\n",
            "spark-2.4.4-bin-hadoop2.7/examples/src/main/scala/org/apache/spark/examples/mllib/NaiveBayesExample.scala\n",
            "spark-2.4.4-bin-hadoop2.7/examples/src/main/scala/org/apache/spark/examples/mllib/MultivariateSummarizer.scala\n",
            "spark-2.4.4-bin-hadoop2.7/examples/src/main/scala/org/apache/spark/examples/mllib/MulticlassMetricsExample.scala\n",
            "spark-2.4.4-bin-hadoop2.7/examples/src/main/scala/org/apache/spark/examples/mllib/MultiLabelMetricsExample.scala\n",
            "spark-2.4.4-bin-hadoop2.7/examples/src/main/scala/org/apache/spark/examples/mllib/LogisticRegressionWithLBFGSExample.scala\n",
            "spark-2.4.4-bin-hadoop2.7/examples/src/main/scala/org/apache/spark/examples/mllib/LinearRegressionWithSGDExample.scala\n",
            "spark-2.4.4-bin-hadoop2.7/examples/src/main/scala/org/apache/spark/examples/mllib/LatentDirichletAllocationExample.scala\n",
            "spark-2.4.4-bin-hadoop2.7/examples/src/main/scala/org/apache/spark/examples/mllib/LDAExample.scala\n",
            "spark-2.4.4-bin-hadoop2.7/examples/src/main/scala/org/apache/spark/examples/mllib/LBFGSExample.scala\n",
            "spark-2.4.4-bin-hadoop2.7/examples/src/main/scala/org/apache/spark/examples/mllib/KernelDensityEstimationExample.scala\n",
            "spark-2.4.4-bin-hadoop2.7/examples/src/main/scala/org/apache/spark/examples/mllib/KMeansExample.scala\n",
            "spark-2.4.4-bin-hadoop2.7/examples/src/main/scala/org/apache/spark/examples/mllib/IsotonicRegressionExample.scala\n",
            "spark-2.4.4-bin-hadoop2.7/examples/src/main/scala/org/apache/spark/examples/mllib/HypothesisTestingKolmogorovSmirnovTestExample.scala\n",
            "spark-2.4.4-bin-hadoop2.7/examples/src/main/scala/org/apache/spark/examples/mllib/HypothesisTestingExample.scala\n",
            "spark-2.4.4-bin-hadoop2.7/examples/src/main/scala/org/apache/spark/examples/mllib/GradientBoostingRegressionExample.scala\n",
            "spark-2.4.4-bin-hadoop2.7/examples/src/main/scala/org/apache/spark/examples/mllib/GradientBoostingClassificationExample.scala\n",
            "spark-2.4.4-bin-hadoop2.7/examples/src/main/scala/org/apache/spark/examples/mllib/GaussianMixtureExample.scala\n",
            "spark-2.4.4-bin-hadoop2.7/examples/src/main/scala/org/apache/spark/examples/mllib/FPGrowthExample.scala\n",
            "spark-2.4.4-bin-hadoop2.7/examples/src/main/scala/org/apache/spark/examples/mllib/RankingMetricsExample.scala\n",
            "spark-2.4.4-bin-hadoop2.7/examples/src/main/scala/org/apache/spark/examples/mllib/MovieLensALS.scala\n",
            "spark-2.4.4-bin-hadoop2.7/examples/src/main/scala/org/apache/spark/examples/mllib/LinearRegression.scala\n",
            "spark-2.4.4-bin-hadoop2.7/examples/src/main/scala/org/apache/spark/examples/mllib/GradientBoostedTreesRunner.scala\n",
            "spark-2.4.4-bin-hadoop2.7/examples/src/main/scala/org/apache/spark/examples/mllib/DecisionTreeRunner.scala\n",
            "spark-2.4.4-bin-hadoop2.7/examples/src/main/scala/org/apache/spark/examples/mllib/BinaryClassification.scala\n",
            "spark-2.4.4-bin-hadoop2.7/examples/src/main/scala/org/apache/spark/examples/ml/\n",
            "spark-2.4.4-bin-hadoop2.7/examples/src/main/scala/org/apache/spark/examples/ml/Word2VecExample.scala\n",
            "spark-2.4.4-bin-hadoop2.7/examples/src/main/scala/org/apache/spark/examples/ml/VectorSlicerExample.scala\n",
            "spark-2.4.4-bin-hadoop2.7/examples/src/main/scala/org/apache/spark/examples/ml/VectorSizeHintExample.scala\n",
            "spark-2.4.4-bin-hadoop2.7/examples/src/main/scala/org/apache/spark/examples/ml/VectorIndexerExample.scala\n",
            "spark-2.4.4-bin-hadoop2.7/examples/src/main/scala/org/apache/spark/examples/ml/VectorAssemblerExample.scala\n",
            "spark-2.4.4-bin-hadoop2.7/examples/src/main/scala/org/apache/spark/examples/ml/UnaryTransformerExample.scala\n",
            "spark-2.4.4-bin-hadoop2.7/examples/src/main/scala/org/apache/spark/examples/ml/TokenizerExample.scala\n",
            "spark-2.4.4-bin-hadoop2.7/examples/src/main/scala/org/apache/spark/examples/ml/TfIdfExample.scala\n",
            "spark-2.4.4-bin-hadoop2.7/examples/src/main/scala/org/apache/spark/examples/ml/SummarizerExample.scala\n",
            "spark-2.4.4-bin-hadoop2.7/examples/src/main/scala/org/apache/spark/examples/ml/StringIndexerExample.scala\n",
            "spark-2.4.4-bin-hadoop2.7/examples/src/main/scala/org/apache/spark/examples/ml/StopWordsRemoverExample.scala\n",
            "spark-2.4.4-bin-hadoop2.7/examples/src/main/scala/org/apache/spark/examples/ml/StandardScalerExample.scala\n",
            "spark-2.4.4-bin-hadoop2.7/examples/src/main/scala/org/apache/spark/examples/ml/SQLTransformerExample.scala\n",
            "spark-2.4.4-bin-hadoop2.7/examples/src/main/scala/org/apache/spark/examples/ml/RandomForestRegressorExample.scala\n",
            "spark-2.4.4-bin-hadoop2.7/examples/src/main/scala/org/apache/spark/examples/ml/RandomForestExample.scala\n",
            "spark-2.4.4-bin-hadoop2.7/examples/src/main/scala/org/apache/spark/examples/ml/RFormulaExample.scala\n",
            "spark-2.4.4-bin-hadoop2.7/examples/src/main/scala/org/apache/spark/examples/ml/QuantileDiscretizerExample.scala\n",
            "spark-2.4.4-bin-hadoop2.7/examples/src/main/scala/org/apache/spark/examples/ml/PowerIterationClusteringExample.scala\n",
            "spark-2.4.4-bin-hadoop2.7/examples/src/main/scala/org/apache/spark/examples/ml/PolynomialExpansionExample.scala\n",
            "spark-2.4.4-bin-hadoop2.7/examples/src/main/scala/org/apache/spark/examples/ml/PipelineExample.scala\n",
            "spark-2.4.4-bin-hadoop2.7/examples/src/main/scala/org/apache/spark/examples/ml/PCAExample.scala\n",
            "spark-2.4.4-bin-hadoop2.7/examples/src/main/scala/org/apache/spark/examples/ml/OneVsRestExample.scala\n",
            "spark-2.4.4-bin-hadoop2.7/examples/src/main/scala/org/apache/spark/examples/ml/NormalizerExample.scala\n",
            "spark-2.4.4-bin-hadoop2.7/examples/src/main/scala/org/apache/spark/examples/ml/NaiveBayesExample.scala\n",
            "spark-2.4.4-bin-hadoop2.7/examples/src/main/scala/org/apache/spark/examples/ml/NGramExample.scala\n",
            "spark-2.4.4-bin-hadoop2.7/examples/src/main/scala/org/apache/spark/examples/ml/MultilayerPerceptronClassifierExample.scala\n",
            "spark-2.4.4-bin-hadoop2.7/examples/src/main/scala/org/apache/spark/examples/ml/MulticlassLogisticRegressionWithElasticNetExample.scala\n",
            "spark-2.4.4-bin-hadoop2.7/examples/src/main/scala/org/apache/spark/examples/ml/ModelSelectionViaTrainValidationSplitExample.scala\n",
            "spark-2.4.4-bin-hadoop2.7/examples/src/main/scala/org/apache/spark/examples/ml/ModelSelectionViaCrossValidationExample.scala\n",
            "spark-2.4.4-bin-hadoop2.7/examples/src/main/scala/org/apache/spark/examples/ml/MinMaxScalerExample.scala\n",
            "spark-2.4.4-bin-hadoop2.7/examples/src/main/scala/org/apache/spark/examples/ml/MinHashLSHExample.scala\n",
            "spark-2.4.4-bin-hadoop2.7/examples/src/main/scala/org/apache/spark/examples/ml/MaxAbsScalerExample.scala\n",
            "spark-2.4.4-bin-hadoop2.7/examples/src/main/scala/org/apache/spark/examples/ml/LogisticRegressionWithElasticNetExample.scala\n",
            "spark-2.4.4-bin-hadoop2.7/examples/src/main/scala/org/apache/spark/examples/ml/LogisticRegressionSummaryExample.scala\n",
            "spark-2.4.4-bin-hadoop2.7/examples/src/main/scala/org/apache/spark/examples/ml/LogisticRegressionExample.scala\n",
            "spark-2.4.4-bin-hadoop2.7/examples/src/main/scala/org/apache/spark/examples/ml/LinearSVCExample.scala\n",
            "spark-2.4.4-bin-hadoop2.7/examples/src/main/scala/org/apache/spark/examples/ml/LinearRegressionWithElasticNetExample.scala\n",
            "spark-2.4.4-bin-hadoop2.7/examples/src/main/scala/org/apache/spark/examples/ml/LinearRegressionExample.scala\n",
            "spark-2.4.4-bin-hadoop2.7/examples/src/main/scala/org/apache/spark/examples/ml/LDAExample.scala\n",
            "spark-2.4.4-bin-hadoop2.7/examples/src/main/scala/org/apache/spark/examples/ml/KMeansExample.scala\n",
            "spark-2.4.4-bin-hadoop2.7/examples/src/main/scala/org/apache/spark/examples/ml/IsotonicRegressionExample.scala\n",
            "spark-2.4.4-bin-hadoop2.7/examples/src/main/scala/org/apache/spark/examples/ml/InteractionExample.scala\n",
            "spark-2.4.4-bin-hadoop2.7/examples/src/main/scala/org/apache/spark/examples/ml/IndexToStringExample.scala\n",
            "spark-2.4.4-bin-hadoop2.7/examples/src/main/scala/org/apache/spark/examples/ml/ImputerExample.scala\n",
            "spark-2.4.4-bin-hadoop2.7/examples/src/main/scala/org/apache/spark/examples/ml/GradientBoostedTreeRegressorExample.scala\n",
            "spark-2.4.4-bin-hadoop2.7/examples/src/main/scala/org/apache/spark/examples/ml/GeneralizedLinearRegressionExample.scala\n",
            "spark-2.4.4-bin-hadoop2.7/examples/src/main/scala/org/apache/spark/examples/ml/GaussianMixtureExample.scala\n",
            "spark-2.4.4-bin-hadoop2.7/examples/src/main/scala/org/apache/spark/examples/ml/GBTExample.scala\n",
            "spark-2.4.4-bin-hadoop2.7/examples/src/main/scala/org/apache/spark/examples/ml/FeatureHasherExample.scala\n",
            "spark-2.4.4-bin-hadoop2.7/examples/src/main/scala/org/apache/spark/examples/ml/EstimatorTransformerParamExample.scala\n",
            "spark-2.4.4-bin-hadoop2.7/examples/src/main/scala/org/apache/spark/examples/ml/ElementwiseProductExample.scala\n",
            "spark-2.4.4-bin-hadoop2.7/examples/src/main/scala/org/apache/spark/examples/ml/DeveloperApiExample.scala\n",
            "spark-2.4.4-bin-hadoop2.7/examples/src/main/scala/org/apache/spark/examples/ml/DecisionTreeRegressionExample.scala\n",
            "spark-2.4.4-bin-hadoop2.7/examples/src/main/scala/org/apache/spark/examples/ml/DecisionTreeExample.scala\n",
            "spark-2.4.4-bin-hadoop2.7/examples/src/main/scala/org/apache/spark/examples/ml/DataFrameExample.scala\n",
            "spark-2.4.4-bin-hadoop2.7/examples/src/main/scala/org/apache/spark/examples/ml/DCTExample.scala\n",
            "spark-2.4.4-bin-hadoop2.7/examples/src/main/scala/org/apache/spark/examples/ml/CountVectorizerExample.scala\n",
            "spark-2.4.4-bin-hadoop2.7/examples/src/main/scala/org/apache/spark/examples/ml/CorrelationExample.scala\n",
            "spark-2.4.4-bin-hadoop2.7/examples/src/main/scala/org/apache/spark/examples/ml/ChiSquareTestExample.scala\n",
            "spark-2.4.4-bin-hadoop2.7/examples/src/main/scala/org/apache/spark/examples/ml/ChiSqSelectorExample.scala\n",
            "spark-2.4.4-bin-hadoop2.7/examples/src/main/scala/org/apache/spark/examples/ml/BucketizerExample.scala\n",
            "spark-2.4.4-bin-hadoop2.7/examples/src/main/scala/org/apache/spark/examples/ml/BucketedRandomProjectionLSHExample.scala\n",
            "spark-2.4.4-bin-hadoop2.7/examples/src/main/scala/org/apache/spark/examples/ml/BinarizerExample.scala\n",
            "spark-2.4.4-bin-hadoop2.7/examples/src/main/scala/org/apache/spark/examples/ml/ALSExample.scala\n",
            "spark-2.4.4-bin-hadoop2.7/examples/src/main/scala/org/apache/spark/examples/ml/AFTSurvivalRegressionExample.scala\n",
            "spark-2.4.4-bin-hadoop2.7/examples/src/main/scala/org/apache/spark/examples/ml/RandomForestClassifierExample.scala\n",
            "spark-2.4.4-bin-hadoop2.7/examples/src/main/scala/org/apache/spark/examples/ml/PrefixSpanExample.scala\n",
            "spark-2.4.4-bin-hadoop2.7/examples/src/main/scala/org/apache/spark/examples/ml/OneHotEncoderEstimatorExample.scala\n",
            "spark-2.4.4-bin-hadoop2.7/examples/src/main/scala/org/apache/spark/examples/ml/GradientBoostedTreeClassifierExample.scala\n",
            "spark-2.4.4-bin-hadoop2.7/examples/src/main/scala/org/apache/spark/examples/ml/FPGrowthExample.scala\n",
            "spark-2.4.4-bin-hadoop2.7/examples/src/main/scala/org/apache/spark/examples/ml/DecisionTreeClassificationExample.scala\n",
            "spark-2.4.4-bin-hadoop2.7/examples/src/main/scala/org/apache/spark/examples/ml/BisectingKMeansExample.scala\n",
            "spark-2.4.4-bin-hadoop2.7/examples/src/main/scala/org/apache/spark/examples/graphx/\n",
            "spark-2.4.4-bin-hadoop2.7/examples/src/main/scala/org/apache/spark/examples/graphx/TriangleCountingExample.scala\n",
            "spark-2.4.4-bin-hadoop2.7/examples/src/main/scala/org/apache/spark/examples/graphx/SynthBenchmark.scala\n",
            "spark-2.4.4-bin-hadoop2.7/examples/src/main/scala/org/apache/spark/examples/graphx/SSSPExample.scala\n",
            "spark-2.4.4-bin-hadoop2.7/examples/src/main/scala/org/apache/spark/examples/graphx/PageRankExample.scala\n",
            "spark-2.4.4-bin-hadoop2.7/examples/src/main/scala/org/apache/spark/examples/graphx/LiveJournalPageRank.scala\n",
            "spark-2.4.4-bin-hadoop2.7/examples/src/main/scala/org/apache/spark/examples/graphx/ConnectedComponentsExample.scala\n",
            "spark-2.4.4-bin-hadoop2.7/examples/src/main/scala/org/apache/spark/examples/graphx/ComprehensiveExample.scala\n",
            "spark-2.4.4-bin-hadoop2.7/examples/src/main/scala/org/apache/spark/examples/graphx/Analytics.scala\n",
            "spark-2.4.4-bin-hadoop2.7/examples/src/main/scala/org/apache/spark/examples/graphx/AggregateMessagesExample.scala\n",
            "spark-2.4.4-bin-hadoop2.7/examples/src/main/scala/org/apache/spark/examples/SparkTC.scala\n",
            "spark-2.4.4-bin-hadoop2.7/examples/src/main/scala/org/apache/spark/examples/SparkRemoteFileTest.scala\n",
            "spark-2.4.4-bin-hadoop2.7/examples/src/main/scala/org/apache/spark/examples/SparkPi.scala\n",
            "spark-2.4.4-bin-hadoop2.7/examples/src/main/scala/org/apache/spark/examples/SparkPageRank.scala\n",
            "spark-2.4.4-bin-hadoop2.7/examples/src/main/scala/org/apache/spark/examples/SparkLR.scala\n",
            "spark-2.4.4-bin-hadoop2.7/examples/src/main/scala/org/apache/spark/examples/SparkKMeans.scala\n",
            "spark-2.4.4-bin-hadoop2.7/examples/src/main/scala/org/apache/spark/examples/SparkHdfsLR.scala\n",
            "spark-2.4.4-bin-hadoop2.7/examples/src/main/scala/org/apache/spark/examples/SparkALS.scala\n",
            "spark-2.4.4-bin-hadoop2.7/examples/src/main/scala/org/apache/spark/examples/SkewedGroupByTest.scala\n",
            "spark-2.4.4-bin-hadoop2.7/examples/src/main/scala/org/apache/spark/examples/SimpleSkewedGroupByTest.scala\n",
            "spark-2.4.4-bin-hadoop2.7/examples/src/main/scala/org/apache/spark/examples/MultiBroadcastTest.scala\n",
            "spark-2.4.4-bin-hadoop2.7/examples/src/main/scala/org/apache/spark/examples/LocalPi.scala\n",
            "spark-2.4.4-bin-hadoop2.7/examples/src/main/scala/org/apache/spark/examples/LocalLR.scala\n",
            "spark-2.4.4-bin-hadoop2.7/examples/src/main/scala/org/apache/spark/examples/LocalKMeans.scala\n",
            "spark-2.4.4-bin-hadoop2.7/examples/src/main/scala/org/apache/spark/examples/LocalFileLR.scala\n",
            "spark-2.4.4-bin-hadoop2.7/examples/src/main/scala/org/apache/spark/examples/LocalALS.scala\n",
            "spark-2.4.4-bin-hadoop2.7/examples/src/main/scala/org/apache/spark/examples/GroupByTest.scala\n",
            "spark-2.4.4-bin-hadoop2.7/examples/src/main/scala/org/apache/spark/examples/ExceptionHandlingTest.scala\n",
            "spark-2.4.4-bin-hadoop2.7/examples/src/main/scala/org/apache/spark/examples/DriverSubmissionTest.scala\n",
            "spark-2.4.4-bin-hadoop2.7/examples/src/main/scala/org/apache/spark/examples/BroadcastTest.scala\n",
            "spark-2.4.4-bin-hadoop2.7/examples/src/main/scala/org/apache/spark/examples/streaming/\n",
            "spark-2.4.4-bin-hadoop2.7/examples/src/main/scala/org/apache/spark/examples/streaming/clickstream/\n",
            "spark-2.4.4-bin-hadoop2.7/examples/src/main/scala/org/apache/spark/examples/streaming/clickstream/PageViewStream.scala\n",
            "spark-2.4.4-bin-hadoop2.7/examples/src/main/scala/org/apache/spark/examples/streaming/clickstream/PageViewGenerator.scala\n",
            "spark-2.4.4-bin-hadoop2.7/examples/src/main/scala/org/apache/spark/examples/streaming/StreamingExamples.scala\n",
            "spark-2.4.4-bin-hadoop2.7/examples/src/main/scala/org/apache/spark/examples/streaming/StatefulNetworkWordCount.scala\n",
            "spark-2.4.4-bin-hadoop2.7/examples/src/main/scala/org/apache/spark/examples/streaming/SqlNetworkWordCount.scala\n",
            "spark-2.4.4-bin-hadoop2.7/examples/src/main/scala/org/apache/spark/examples/streaming/RecoverableNetworkWordCount.scala\n",
            "spark-2.4.4-bin-hadoop2.7/examples/src/main/scala/org/apache/spark/examples/streaming/RawNetworkGrep.scala\n",
            "spark-2.4.4-bin-hadoop2.7/examples/src/main/scala/org/apache/spark/examples/streaming/QueueStream.scala\n",
            "spark-2.4.4-bin-hadoop2.7/examples/src/main/scala/org/apache/spark/examples/streaming/NetworkWordCount.scala\n",
            "spark-2.4.4-bin-hadoop2.7/examples/src/main/scala/org/apache/spark/examples/streaming/HdfsWordCount.scala\n",
            "spark-2.4.4-bin-hadoop2.7/examples/src/main/scala/org/apache/spark/examples/streaming/DirectKafkaWordCount.scala\n",
            "spark-2.4.4-bin-hadoop2.7/examples/src/main/scala/org/apache/spark/examples/streaming/CustomReceiver.scala\n",
            "spark-2.4.4-bin-hadoop2.7/examples/src/main/scala/org/apache/spark/examples/sql/\n",
            "spark-2.4.4-bin-hadoop2.7/examples/src/main/scala/org/apache/spark/examples/sql/streaming/\n",
            "spark-2.4.4-bin-hadoop2.7/examples/src/main/scala/org/apache/spark/examples/sql/streaming/StructuredSessionization.scala\n",
            "spark-2.4.4-bin-hadoop2.7/examples/src/main/scala/org/apache/spark/examples/sql/streaming/StructuredNetworkWordCountWindowed.scala\n",
            "spark-2.4.4-bin-hadoop2.7/examples/src/main/scala/org/apache/spark/examples/sql/streaming/StructuredNetworkWordCount.scala\n",
            "spark-2.4.4-bin-hadoop2.7/examples/src/main/scala/org/apache/spark/examples/sql/streaming/StructuredKafkaWordCount.scala\n",
            "spark-2.4.4-bin-hadoop2.7/examples/src/main/scala/org/apache/spark/examples/sql/hive/\n",
            "spark-2.4.4-bin-hadoop2.7/examples/src/main/scala/org/apache/spark/examples/sql/hive/SparkHiveExample.scala\n",
            "spark-2.4.4-bin-hadoop2.7/examples/src/main/scala/org/apache/spark/examples/sql/UserDefinedUntypedAggregation.scala\n",
            "spark-2.4.4-bin-hadoop2.7/examples/src/main/scala/org/apache/spark/examples/sql/UserDefinedTypedAggregation.scala\n",
            "spark-2.4.4-bin-hadoop2.7/examples/src/main/scala/org/apache/spark/examples/sql/RDDRelation.scala\n",
            "spark-2.4.4-bin-hadoop2.7/examples/src/main/scala/org/apache/spark/examples/sql/SparkSQLExample.scala\n",
            "spark-2.4.4-bin-hadoop2.7/examples/src/main/scala/org/apache/spark/examples/sql/SQLDataSourceExample.scala\n",
            "spark-2.4.4-bin-hadoop2.7/examples/src/main/scala/org/apache/spark/examples/pythonconverters/\n",
            "spark-2.4.4-bin-hadoop2.7/examples/src/main/scala/org/apache/spark/examples/pythonconverters/AvroConverters.scala\n",
            "spark-2.4.4-bin-hadoop2.7/examples/src/main/scala/org/apache/spark/examples/LogQuery.scala\n",
            "spark-2.4.4-bin-hadoop2.7/examples/src/main/scala/org/apache/spark/examples/HdfsTest.scala\n",
            "spark-2.4.4-bin-hadoop2.7/examples/src/main/scala/org/apache/spark/examples/DFSReadWriteTest.scala\n",
            "spark-2.4.4-bin-hadoop2.7/examples/src/main/resources/\n",
            "spark-2.4.4-bin-hadoop2.7/examples/src/main/resources/users.parquet\n",
            "spark-2.4.4-bin-hadoop2.7/examples/src/main/resources/users.orc\n",
            "spark-2.4.4-bin-hadoop2.7/examples/src/main/resources/users.avro\n",
            "spark-2.4.4-bin-hadoop2.7/examples/src/main/resources/user.avsc\n",
            "spark-2.4.4-bin-hadoop2.7/examples/src/main/resources/people.txt\n",
            "spark-2.4.4-bin-hadoop2.7/examples/src/main/resources/people.json\n",
            "spark-2.4.4-bin-hadoop2.7/examples/src/main/resources/people.csv\n",
            "spark-2.4.4-bin-hadoop2.7/examples/src/main/resources/kv1.txt\n",
            "spark-2.4.4-bin-hadoop2.7/examples/src/main/resources/full_user.avsc\n",
            "spark-2.4.4-bin-hadoop2.7/examples/src/main/resources/employees.json\n",
            "spark-2.4.4-bin-hadoop2.7/examples/src/main/r/\n",
            "spark-2.4.4-bin-hadoop2.7/examples/src/main/r/streaming/\n",
            "spark-2.4.4-bin-hadoop2.7/examples/src/main/r/streaming/structured_network_wordcount.R\n",
            "spark-2.4.4-bin-hadoop2.7/examples/src/main/r/ml/\n",
            "spark-2.4.4-bin-hadoop2.7/examples/src/main/r/ml/svmLinear.R\n",
            "spark-2.4.4-bin-hadoop2.7/examples/src/main/r/ml/survreg.R\n",
            "spark-2.4.4-bin-hadoop2.7/examples/src/main/r/ml/randomForest.R\n",
            "spark-2.4.4-bin-hadoop2.7/examples/src/main/r/ml/naiveBayes.R\n",
            "spark-2.4.4-bin-hadoop2.7/examples/src/main/r/ml/mlp.R\n",
            "spark-2.4.4-bin-hadoop2.7/examples/src/main/r/ml/ml.R\n",
            "spark-2.4.4-bin-hadoop2.7/examples/src/main/r/ml/logit.R\n",
            "spark-2.4.4-bin-hadoop2.7/examples/src/main/r/ml/lda.R\n",
            "spark-2.4.4-bin-hadoop2.7/examples/src/main/r/ml/kstest.R\n",
            "spark-2.4.4-bin-hadoop2.7/examples/src/main/r/ml/kmeans.R\n",
            "spark-2.4.4-bin-hadoop2.7/examples/src/main/r/ml/isoreg.R\n",
            "spark-2.4.4-bin-hadoop2.7/examples/src/main/r/ml/glm.R\n",
            "spark-2.4.4-bin-hadoop2.7/examples/src/main/r/ml/gbt.R\n",
            "spark-2.4.4-bin-hadoop2.7/examples/src/main/r/ml/gaussianMixture.R\n",
            "spark-2.4.4-bin-hadoop2.7/examples/src/main/r/ml/fpm.R\n",
            "spark-2.4.4-bin-hadoop2.7/examples/src/main/r/ml/decisionTree.R\n",
            "spark-2.4.4-bin-hadoop2.7/examples/src/main/r/ml/bisectingKmeans.R\n",
            "spark-2.4.4-bin-hadoop2.7/examples/src/main/r/ml/als.R\n",
            "spark-2.4.4-bin-hadoop2.7/examples/src/main/r/dataframe.R\n",
            "spark-2.4.4-bin-hadoop2.7/examples/src/main/r/data-manipulation.R\n",
            "spark-2.4.4-bin-hadoop2.7/examples/src/main/r/RSparkSQLExample.R\n",
            "spark-2.4.4-bin-hadoop2.7/examples/src/main/python/\n",
            "spark-2.4.4-bin-hadoop2.7/examples/src/main/python/wordcount.py\n",
            "spark-2.4.4-bin-hadoop2.7/examples/src/main/python/transitive_closure.py\n",
            "spark-2.4.4-bin-hadoop2.7/examples/src/main/python/streaming/\n",
            "spark-2.4.4-bin-hadoop2.7/examples/src/main/python/streaming/stateful_network_wordcount.py\n",
            "spark-2.4.4-bin-hadoop2.7/examples/src/main/python/streaming/sql_network_wordcount.py\n",
            "spark-2.4.4-bin-hadoop2.7/examples/src/main/python/streaming/queue_stream.py\n",
            "spark-2.4.4-bin-hadoop2.7/examples/src/main/python/streaming/network_wordjoinsentiments.py\n",
            "spark-2.4.4-bin-hadoop2.7/examples/src/main/python/streaming/network_wordcount.py\n",
            "spark-2.4.4-bin-hadoop2.7/examples/src/main/python/streaming/hdfs_wordcount.py\n",
            "spark-2.4.4-bin-hadoop2.7/examples/src/main/python/streaming/recoverable_network_wordcount.py\n",
            "spark-2.4.4-bin-hadoop2.7/examples/src/main/python/streaming/kafka_wordcount.py\n",
            "spark-2.4.4-bin-hadoop2.7/examples/src/main/python/streaming/flume_wordcount.py\n",
            "spark-2.4.4-bin-hadoop2.7/examples/src/main/python/streaming/direct_kafka_wordcount.py\n",
            "spark-2.4.4-bin-hadoop2.7/examples/src/main/python/status_api_demo.py\n",
            "spark-2.4.4-bin-hadoop2.7/examples/src/main/python/sql/\n",
            "spark-2.4.4-bin-hadoop2.7/examples/src/main/python/sql/streaming/\n",
            "spark-2.4.4-bin-hadoop2.7/examples/src/main/python/sql/streaming/structured_network_wordcount_windowed.py\n",
            "spark-2.4.4-bin-hadoop2.7/examples/src/main/python/sql/streaming/structured_network_wordcount.py\n",
            "spark-2.4.4-bin-hadoop2.7/examples/src/main/python/sql/streaming/structured_kafka_wordcount.py\n",
            "spark-2.4.4-bin-hadoop2.7/examples/src/main/python/sql/basic.py\n",
            "spark-2.4.4-bin-hadoop2.7/examples/src/main/python/sql/hive.py\n",
            "spark-2.4.4-bin-hadoop2.7/examples/src/main/python/sql/datasource.py\n",
            "spark-2.4.4-bin-hadoop2.7/examples/src/main/python/sql/arrow.py\n",
            "spark-2.4.4-bin-hadoop2.7/examples/src/main/python/sort.py\n",
            "spark-2.4.4-bin-hadoop2.7/examples/src/main/python/pi.py\n",
            "spark-2.4.4-bin-hadoop2.7/examples/src/main/python/parquet_inputformat.py\n",
            "spark-2.4.4-bin-hadoop2.7/examples/src/main/python/pagerank.py\n",
            "spark-2.4.4-bin-hadoop2.7/examples/src/main/python/mllib/\n",
            "spark-2.4.4-bin-hadoop2.7/examples/src/main/python/mllib/word2vec_example.py\n",
            "spark-2.4.4-bin-hadoop2.7/examples/src/main/python/mllib/word2vec.py\n",
            "spark-2.4.4-bin-hadoop2.7/examples/src/main/python/mllib/tf_idf_example.py\n",
            "spark-2.4.4-bin-hadoop2.7/examples/src/main/python/mllib/svm_with_sgd_example.py\n",
            "spark-2.4.4-bin-hadoop2.7/examples/src/main/python/mllib/svd_example.py\n",
            "spark-2.4.4-bin-hadoop2.7/examples/src/main/python/mllib/summary_statistics_example.py\n",
            "spark-2.4.4-bin-hadoop2.7/examples/src/main/python/mllib/streaming_linear_regression_example.py\n",
            "spark-2.4.4-bin-hadoop2.7/examples/src/main/python/mllib/streaming_k_means_example.py\n",
            "spark-2.4.4-bin-hadoop2.7/examples/src/main/python/mllib/stratified_sampling_example.py\n",
            "spark-2.4.4-bin-hadoop2.7/examples/src/main/python/mllib/sampled_rdds.py\n",
            "spark-2.4.4-bin-hadoop2.7/examples/src/main/python/mllib/regression_metrics_example.py\n",
            "spark-2.4.4-bin-hadoop2.7/examples/src/main/python/mllib/recommendation_example.py\n",
            "spark-2.4.4-bin-hadoop2.7/examples/src/main/python/mllib/random_rdd_generation.py\n",
            "spark-2.4.4-bin-hadoop2.7/examples/src/main/python/mllib/random_forest_regression_example.py\n",
            "spark-2.4.4-bin-hadoop2.7/examples/src/main/python/mllib/random_forest_classification_example.py\n",
            "spark-2.4.4-bin-hadoop2.7/examples/src/main/python/mllib/power_iteration_clustering_example.py\n",
            "spark-2.4.4-bin-hadoop2.7/examples/src/main/python/mllib/pca_rowmatrix_example.py\n",
            "spark-2.4.4-bin-hadoop2.7/examples/src/main/python/mllib/normalizer_example.py\n",
            "spark-2.4.4-bin-hadoop2.7/examples/src/main/python/mllib/naive_bayes_example.py\n",
            "spark-2.4.4-bin-hadoop2.7/examples/src/main/python/mllib/multi_label_metrics_example.py\n",
            "spark-2.4.4-bin-hadoop2.7/examples/src/main/python/mllib/logistic_regression_with_lbfgs_example.py\n",
            "spark-2.4.4-bin-hadoop2.7/examples/src/main/python/mllib/logistic_regression.py\n",
            "spark-2.4.4-bin-hadoop2.7/examples/src/main/python/mllib/linear_regression_with_sgd_example.py\n",
            "spark-2.4.4-bin-hadoop2.7/examples/src/main/python/mllib/latent_dirichlet_allocation_example.py\n",
            "spark-2.4.4-bin-hadoop2.7/examples/src/main/python/mllib/kmeans.py\n",
            "spark-2.4.4-bin-hadoop2.7/examples/src/main/python/mllib/kernel_density_estimation_example.py\n",
            "spark-2.4.4-bin-hadoop2.7/examples/src/main/python/mllib/k_means_example.py\n",
            "spark-2.4.4-bin-hadoop2.7/examples/src/main/python/mllib/hypothesis_testing_kolmogorov_smirnov_test_example.py\n",
            "spark-2.4.4-bin-hadoop2.7/examples/src/main/python/mllib/hypothesis_testing_example.py\n",
            "spark-2.4.4-bin-hadoop2.7/examples/src/main/python/mllib/gradient_boosting_regression_example.py\n",
            "spark-2.4.4-bin-hadoop2.7/examples/src/main/python/mllib/gradient_boosting_classification_example.py\n",
            "spark-2.4.4-bin-hadoop2.7/examples/src/main/python/mllib/gaussian_mixture_model.py\n",
            "spark-2.4.4-bin-hadoop2.7/examples/src/main/python/mllib/gaussian_mixture_example.py\n",
            "spark-2.4.4-bin-hadoop2.7/examples/src/main/python/mllib/fpgrowth_example.py\n",
            "spark-2.4.4-bin-hadoop2.7/examples/src/main/python/mllib/elementwise_product_example.py\n",
            "spark-2.4.4-bin-hadoop2.7/examples/src/main/python/mllib/decision_tree_regression_example.py\n",
            "spark-2.4.4-bin-hadoop2.7/examples/src/main/python/mllib/decision_tree_classification_example.py\n",
            "spark-2.4.4-bin-hadoop2.7/examples/src/main/python/mllib/correlations_example.py\n",
            "spark-2.4.4-bin-hadoop2.7/examples/src/main/python/mllib/correlations.py\n",
            "spark-2.4.4-bin-hadoop2.7/examples/src/main/python/mllib/binary_classification_metrics_example.py\n",
            "spark-2.4.4-bin-hadoop2.7/examples/src/main/python/mllib/standard_scaler_example.py\n",
            "spark-2.4.4-bin-hadoop2.7/examples/src/main/python/mllib/ranking_metrics_example.py\n",
            "spark-2.4.4-bin-hadoop2.7/examples/src/main/python/mllib/multi_class_metrics_example.py\n",
            "spark-2.4.4-bin-hadoop2.7/examples/src/main/python/mllib/isotonic_regression_example.py\n",
            "spark-2.4.4-bin-hadoop2.7/examples/src/main/python/mllib/bisecting_k_means_example.py\n",
            "spark-2.4.4-bin-hadoop2.7/examples/src/main/python/ml/\n",
            "spark-2.4.4-bin-hadoop2.7/examples/src/main/python/ml/word2vec_example.py\n",
            "spark-2.4.4-bin-hadoop2.7/examples/src/main/python/ml/vector_slicer_example.py\n",
            "spark-2.4.4-bin-hadoop2.7/examples/src/main/python/ml/vector_size_hint_example.py\n",
            "spark-2.4.4-bin-hadoop2.7/examples/src/main/python/ml/vector_indexer_example.py\n",
            "spark-2.4.4-bin-hadoop2.7/examples/src/main/python/ml/vector_assembler_example.py\n",
            "spark-2.4.4-bin-hadoop2.7/examples/src/main/python/ml/train_validation_split.py\n",
            "spark-2.4.4-bin-hadoop2.7/examples/src/main/python/ml/tokenizer_example.py\n",
            "spark-2.4.4-bin-hadoop2.7/examples/src/main/python/ml/tf_idf_example.py\n",
            "spark-2.4.4-bin-hadoop2.7/examples/src/main/python/ml/summarizer_example.py\n",
            "spark-2.4.4-bin-hadoop2.7/examples/src/main/python/ml/string_indexer_example.py\n",
            "spark-2.4.4-bin-hadoop2.7/examples/src/main/python/ml/stopwords_remover_example.py\n",
            "spark-2.4.4-bin-hadoop2.7/examples/src/main/python/ml/standard_scaler_example.py\n",
            "spark-2.4.4-bin-hadoop2.7/examples/src/main/python/ml/sql_transformer.py\n",
            "spark-2.4.4-bin-hadoop2.7/examples/src/main/python/ml/rformula_example.py\n",
            "spark-2.4.4-bin-hadoop2.7/examples/src/main/python/ml/random_forest_regressor_example.py\n",
            "spark-2.4.4-bin-hadoop2.7/examples/src/main/python/ml/random_forest_classifier_example.py\n",
            "spark-2.4.4-bin-hadoop2.7/examples/src/main/python/ml/quantile_discretizer_example.py\n",
            "spark-2.4.4-bin-hadoop2.7/examples/src/main/python/ml/prefixspan_example.py\n",
            "spark-2.4.4-bin-hadoop2.7/examples/src/main/python/ml/polynomial_expansion_example.py\n",
            "spark-2.4.4-bin-hadoop2.7/examples/src/main/python/ml/pipeline_example.py\n",
            "spark-2.4.4-bin-hadoop2.7/examples/src/main/python/ml/pca_example.py\n",
            "spark-2.4.4-bin-hadoop2.7/examples/src/main/python/ml/one_vs_rest_example.py\n",
            "spark-2.4.4-bin-hadoop2.7/examples/src/main/python/ml/normalizer_example.py\n",
            "spark-2.4.4-bin-hadoop2.7/examples/src/main/python/ml/naive_bayes_example.py\n",
            "spark-2.4.4-bin-hadoop2.7/examples/src/main/python/ml/n_gram_example.py\n",
            "spark-2.4.4-bin-hadoop2.7/examples/src/main/python/ml/multilayer_perceptron_classification.py\n",
            "spark-2.4.4-bin-hadoop2.7/examples/src/main/python/ml/multiclass_logistic_regression_with_elastic_net.py\n",
            "spark-2.4.4-bin-hadoop2.7/examples/src/main/python/ml/min_max_scaler_example.py\n",
            "spark-2.4.4-bin-hadoop2.7/examples/src/main/python/ml/min_hash_lsh_example.py\n",
            "spark-2.4.4-bin-hadoop2.7/examples/src/main/python/ml/max_abs_scaler_example.py\n",
            "spark-2.4.4-bin-hadoop2.7/examples/src/main/python/ml/logistic_regression_with_elastic_net.py\n",
            "spark-2.4.4-bin-hadoop2.7/examples/src/main/python/ml/logistic_regression_summary_example.py\n",
            "spark-2.4.4-bin-hadoop2.7/examples/src/main/python/ml/linearsvc.py\n",
            "spark-2.4.4-bin-hadoop2.7/examples/src/main/python/ml/linear_regression_with_elastic_net.py\n",
            "spark-2.4.4-bin-hadoop2.7/examples/src/main/python/ml/lda_example.py\n",
            "spark-2.4.4-bin-hadoop2.7/examples/src/main/python/ml/kmeans_example.py\n",
            "spark-2.4.4-bin-hadoop2.7/examples/src/main/python/ml/isotonic_regression_example.py\n",
            "spark-2.4.4-bin-hadoop2.7/examples/src/main/python/ml/index_to_string_example.py\n",
            "spark-2.4.4-bin-hadoop2.7/examples/src/main/python/ml/imputer_example.py\n",
            "spark-2.4.4-bin-hadoop2.7/examples/src/main/python/ml/gradient_boosted_tree_regressor_example.py\n",
            "spark-2.4.4-bin-hadoop2.7/examples/src/main/python/ml/gradient_boosted_tree_classifier_example.py\n",
            "spark-2.4.4-bin-hadoop2.7/examples/src/main/python/ml/generalized_linear_regression_example.py\n",
            "spark-2.4.4-bin-hadoop2.7/examples/src/main/python/ml/gaussian_mixture_example.py\n",
            "spark-2.4.4-bin-hadoop2.7/examples/src/main/python/ml/fpgrowth_example.py\n",
            "spark-2.4.4-bin-hadoop2.7/examples/src/main/python/ml/feature_hasher_example.py\n",
            "spark-2.4.4-bin-hadoop2.7/examples/src/main/python/ml/estimator_transformer_param_example.py\n",
            "spark-2.4.4-bin-hadoop2.7/examples/src/main/python/ml/elementwise_product_example.py\n",
            "spark-2.4.4-bin-hadoop2.7/examples/src/main/python/ml/decision_tree_regression_example.py\n",
            "spark-2.4.4-bin-hadoop2.7/examples/src/main/python/ml/decision_tree_classification_example.py\n",
            "spark-2.4.4-bin-hadoop2.7/examples/src/main/python/ml/dct_example.py\n",
            "spark-2.4.4-bin-hadoop2.7/examples/src/main/python/ml/dataframe_example.py\n",
            "spark-2.4.4-bin-hadoop2.7/examples/src/main/python/ml/cross_validator.py\n",
            "spark-2.4.4-bin-hadoop2.7/examples/src/main/python/ml/count_vectorizer_example.py\n",
            "spark-2.4.4-bin-hadoop2.7/examples/src/main/python/ml/correlation_example.py\n",
            "spark-2.4.4-bin-hadoop2.7/examples/src/main/python/ml/chisq_selector_example.py\n",
            "spark-2.4.4-bin-hadoop2.7/examples/src/main/python/ml/chi_square_test_example.py\n",
            "spark-2.4.4-bin-hadoop2.7/examples/src/main/python/ml/bucketizer_example.py\n",
            "spark-2.4.4-bin-hadoop2.7/examples/src/main/python/ml/bucketed_random_projection_lsh_example.py\n",
            "spark-2.4.4-bin-hadoop2.7/examples/src/main/python/ml/binarizer_example.py\n",
            "spark-2.4.4-bin-hadoop2.7/examples/src/main/python/ml/als_example.py\n",
            "spark-2.4.4-bin-hadoop2.7/examples/src/main/python/ml/aft_survival_regression.py\n",
            "spark-2.4.4-bin-hadoop2.7/examples/src/main/python/ml/onehot_encoder_estimator_example.py\n",
            "spark-2.4.4-bin-hadoop2.7/examples/src/main/python/ml/bisecting_k_means_example.py\n",
            "spark-2.4.4-bin-hadoop2.7/examples/src/main/python/logistic_regression.py\n",
            "spark-2.4.4-bin-hadoop2.7/examples/src/main/python/kmeans.py\n",
            "spark-2.4.4-bin-hadoop2.7/examples/src/main/python/avro_inputformat.py\n",
            "spark-2.4.4-bin-hadoop2.7/examples/src/main/python/als.py\n",
            "spark-2.4.4-bin-hadoop2.7/examples/src/main/java/\n",
            "spark-2.4.4-bin-hadoop2.7/examples/src/main/java/org/\n",
            "spark-2.4.4-bin-hadoop2.7/examples/src/main/java/org/apache/\n",
            "spark-2.4.4-bin-hadoop2.7/examples/src/main/java/org/apache/spark/\n",
            "spark-2.4.4-bin-hadoop2.7/examples/src/main/java/org/apache/spark/examples/\n",
            "spark-2.4.4-bin-hadoop2.7/examples/src/main/java/org/apache/spark/examples/streaming/\n",
            "spark-2.4.4-bin-hadoop2.7/examples/src/main/java/org/apache/spark/examples/streaming/JavaStatefulNetworkWordCount.java\n",
            "spark-2.4.4-bin-hadoop2.7/examples/src/main/java/org/apache/spark/examples/streaming/JavaSqlNetworkWordCount.java\n",
            "spark-2.4.4-bin-hadoop2.7/examples/src/main/java/org/apache/spark/examples/streaming/JavaRecoverableNetworkWordCount.java\n",
            "spark-2.4.4-bin-hadoop2.7/examples/src/main/java/org/apache/spark/examples/streaming/JavaRecord.java\n",
            "spark-2.4.4-bin-hadoop2.7/examples/src/main/java/org/apache/spark/examples/streaming/JavaQueueStream.java\n",
            "spark-2.4.4-bin-hadoop2.7/examples/src/main/java/org/apache/spark/examples/streaming/JavaNetworkWordCount.java\n",
            "spark-2.4.4-bin-hadoop2.7/examples/src/main/java/org/apache/spark/examples/streaming/JavaDirectKafkaWordCount.java\n",
            "spark-2.4.4-bin-hadoop2.7/examples/src/main/java/org/apache/spark/examples/streaming/JavaCustomReceiver.java\n",
            "spark-2.4.4-bin-hadoop2.7/examples/src/main/java/org/apache/spark/examples/sql/\n",
            "spark-2.4.4-bin-hadoop2.7/examples/src/main/java/org/apache/spark/examples/sql/streaming/\n",
            "spark-2.4.4-bin-hadoop2.7/examples/src/main/java/org/apache/spark/examples/sql/streaming/JavaStructuredNetworkWordCountWindowed.java\n",
            "spark-2.4.4-bin-hadoop2.7/examples/src/main/java/org/apache/spark/examples/sql/streaming/JavaStructuredNetworkWordCount.java\n",
            "spark-2.4.4-bin-hadoop2.7/examples/src/main/java/org/apache/spark/examples/sql/streaming/JavaStructuredKafkaWordCount.java\n",
            "spark-2.4.4-bin-hadoop2.7/examples/src/main/java/org/apache/spark/examples/sql/streaming/JavaStructuredSessionization.java\n",
            "spark-2.4.4-bin-hadoop2.7/examples/src/main/java/org/apache/spark/examples/sql/hive/\n",
            "spark-2.4.4-bin-hadoop2.7/examples/src/main/java/org/apache/spark/examples/sql/hive/JavaSparkHiveExample.java\n",
            "spark-2.4.4-bin-hadoop2.7/examples/src/main/java/org/apache/spark/examples/sql/JavaUserDefinedUntypedAggregation.java\n",
            "spark-2.4.4-bin-hadoop2.7/examples/src/main/java/org/apache/spark/examples/sql/JavaUserDefinedTypedAggregation.java\n",
            "spark-2.4.4-bin-hadoop2.7/examples/src/main/java/org/apache/spark/examples/sql/JavaSparkSQLExample.java\n",
            "spark-2.4.4-bin-hadoop2.7/examples/src/main/java/org/apache/spark/examples/sql/JavaSQLDataSourceExample.java\n",
            "spark-2.4.4-bin-hadoop2.7/examples/src/main/java/org/apache/spark/examples/mllib/\n",
            "spark-2.4.4-bin-hadoop2.7/examples/src/main/java/org/apache/spark/examples/mllib/JavaSummaryStatisticsExample.java\n",
            "spark-2.4.4-bin-hadoop2.7/examples/src/main/java/org/apache/spark/examples/mllib/JavaStreamingTestExample.java\n",
            "spark-2.4.4-bin-hadoop2.7/examples/src/main/java/org/apache/spark/examples/mllib/JavaStratifiedSamplingExample.java\n",
            "spark-2.4.4-bin-hadoop2.7/examples/src/main/java/org/apache/spark/examples/mllib/JavaSimpleFPGrowth.java\n",
            "spark-2.4.4-bin-hadoop2.7/examples/src/main/java/org/apache/spark/examples/mllib/JavaSVMWithSGDExample.java\n",
            "spark-2.4.4-bin-hadoop2.7/examples/src/main/java/org/apache/spark/examples/mllib/JavaSVDExample.java\n",
            "spark-2.4.4-bin-hadoop2.7/examples/src/main/java/org/apache/spark/examples/mllib/JavaRegressionMetricsExample.java\n",
            "spark-2.4.4-bin-hadoop2.7/examples/src/main/java/org/apache/spark/examples/mllib/JavaRecommendationExample.java\n",
            "spark-2.4.4-bin-hadoop2.7/examples/src/main/java/org/apache/spark/examples/mllib/JavaRandomForestRegressionExample.java\n",
            "spark-2.4.4-bin-hadoop2.7/examples/src/main/java/org/apache/spark/examples/mllib/JavaPrefixSpanExample.java\n",
            "spark-2.4.4-bin-hadoop2.7/examples/src/main/java/org/apache/spark/examples/mllib/JavaPowerIterationClusteringExample.java\n",
            "spark-2.4.4-bin-hadoop2.7/examples/src/main/java/org/apache/spark/examples/mllib/JavaPCAExample.java\n",
            "spark-2.4.4-bin-hadoop2.7/examples/src/main/java/org/apache/spark/examples/mllib/JavaNaiveBayesExample.java\n",
            "spark-2.4.4-bin-hadoop2.7/examples/src/main/java/org/apache/spark/examples/mllib/JavaMulticlassClassificationMetricsExample.java\n",
            "spark-2.4.4-bin-hadoop2.7/examples/src/main/java/org/apache/spark/examples/mllib/JavaMultiLabelClassificationMetricsExample.java\n",
            "spark-2.4.4-bin-hadoop2.7/examples/src/main/java/org/apache/spark/examples/mllib/JavaLogisticRegressionWithLBFGSExample.java\n",
            "spark-2.4.4-bin-hadoop2.7/examples/src/main/java/org/apache/spark/examples/mllib/JavaLinearRegressionWithSGDExample.java\n",
            "spark-2.4.4-bin-hadoop2.7/examples/src/main/java/org/apache/spark/examples/mllib/JavaLatentDirichletAllocationExample.java\n",
            "spark-2.4.4-bin-hadoop2.7/examples/src/main/java/org/apache/spark/examples/mllib/JavaLBFGSExample.java\n",
            "spark-2.4.4-bin-hadoop2.7/examples/src/main/java/org/apache/spark/examples/mllib/JavaKernelDensityEstimationExample.java\n",
            "spark-2.4.4-bin-hadoop2.7/examples/src/main/java/org/apache/spark/examples/mllib/JavaKMeansExample.java\n",
            "spark-2.4.4-bin-hadoop2.7/examples/src/main/java/org/apache/spark/examples/mllib/JavaIsotonicRegressionExample.java\n",
            "spark-2.4.4-bin-hadoop2.7/examples/src/main/java/org/apache/spark/examples/mllib/JavaHypothesisTestingKolmogorovSmirnovTestExample.java\n",
            "spark-2.4.4-bin-hadoop2.7/examples/src/main/java/org/apache/spark/examples/mllib/JavaHypothesisTestingExample.java\n",
            "spark-2.4.4-bin-hadoop2.7/examples/src/main/java/org/apache/spark/examples/mllib/JavaGradientBoostingRegressionExample.java\n",
            "spark-2.4.4-bin-hadoop2.7/examples/src/main/java/org/apache/spark/examples/mllib/JavaGradientBoostingClassificationExample.java\n",
            "spark-2.4.4-bin-hadoop2.7/examples/src/main/java/org/apache/spark/examples/mllib/JavaGaussianMixtureExample.java\n",
            "spark-2.4.4-bin-hadoop2.7/examples/src/main/java/org/apache/spark/examples/mllib/JavaElementwiseProductExample.java\n",
            "spark-2.4.4-bin-hadoop2.7/examples/src/main/java/org/apache/spark/examples/mllib/JavaDecisionTreeRegressionExample.java\n",
            "spark-2.4.4-bin-hadoop2.7/examples/src/main/java/org/apache/spark/examples/mllib/JavaDecisionTreeClassificationExample.java\n",
            "spark-2.4.4-bin-hadoop2.7/examples/src/main/java/org/apache/spark/examples/mllib/JavaChiSqSelectorExample.java\n",
            "spark-2.4.4-bin-hadoop2.7/examples/src/main/java/org/apache/spark/examples/mllib/JavaBisectingKMeansExample.java\n",
            "spark-2.4.4-bin-hadoop2.7/examples/src/main/java/org/apache/spark/examples/mllib/JavaBinaryClassificationMetricsExample.java\n",
            "spark-2.4.4-bin-hadoop2.7/examples/src/main/java/org/apache/spark/examples/mllib/JavaAssociationRulesExample.java\n",
            "spark-2.4.4-bin-hadoop2.7/examples/src/main/java/org/apache/spark/examples/mllib/JavaALS.java\n",
            "spark-2.4.4-bin-hadoop2.7/examples/src/main/java/org/apache/spark/examples/mllib/JavaRankingMetricsExample.java\n",
            "spark-2.4.4-bin-hadoop2.7/examples/src/main/java/org/apache/spark/examples/mllib/JavaRandomForestClassificationExample.java\n",
            "spark-2.4.4-bin-hadoop2.7/examples/src/main/java/org/apache/spark/examples/mllib/JavaCorrelationsExample.java\n",
            "spark-2.4.4-bin-hadoop2.7/examples/src/main/java/org/apache/spark/examples/ml/\n",
            "spark-2.4.4-bin-hadoop2.7/examples/src/main/java/org/apache/spark/examples/ml/JavaWord2VecExample.java\n",
            "spark-2.4.4-bin-hadoop2.7/examples/src/main/java/org/apache/spark/examples/ml/JavaVectorSlicerExample.java\n",
            "spark-2.4.4-bin-hadoop2.7/examples/src/main/java/org/apache/spark/examples/ml/JavaVectorSizeHintExample.java\n",
            "spark-2.4.4-bin-hadoop2.7/examples/src/main/java/org/apache/spark/examples/ml/JavaVectorIndexerExample.java\n",
            "spark-2.4.4-bin-hadoop2.7/examples/src/main/java/org/apache/spark/examples/ml/JavaVectorAssemblerExample.java\n",
            "spark-2.4.4-bin-hadoop2.7/examples/src/main/java/org/apache/spark/examples/ml/JavaTokenizerExample.java\n",
            "spark-2.4.4-bin-hadoop2.7/examples/src/main/java/org/apache/spark/examples/ml/JavaTfIdfExample.java\n",
            "spark-2.4.4-bin-hadoop2.7/examples/src/main/java/org/apache/spark/examples/ml/JavaSummarizerExample.java\n",
            "spark-2.4.4-bin-hadoop2.7/examples/src/main/java/org/apache/spark/examples/ml/JavaStringIndexerExample.java\n",
            "spark-2.4.4-bin-hadoop2.7/examples/src/main/java/org/apache/spark/examples/ml/JavaStopWordsRemoverExample.java\n",
            "spark-2.4.4-bin-hadoop2.7/examples/src/main/java/org/apache/spark/examples/ml/JavaStandardScalerExample.java\n",
            "spark-2.4.4-bin-hadoop2.7/examples/src/main/java/org/apache/spark/examples/ml/JavaSQLTransformerExample.java\n",
            "spark-2.4.4-bin-hadoop2.7/examples/src/main/java/org/apache/spark/examples/ml/JavaRandomForestRegressorExample.java\n",
            "spark-2.4.4-bin-hadoop2.7/examples/src/main/java/org/apache/spark/examples/ml/JavaRFormulaExample.java\n",
            "spark-2.4.4-bin-hadoop2.7/examples/src/main/java/org/apache/spark/examples/ml/JavaQuantileDiscretizerExample.java\n",
            "spark-2.4.4-bin-hadoop2.7/examples/src/main/java/org/apache/spark/examples/ml/JavaPowerIterationClusteringExample.java\n",
            "spark-2.4.4-bin-hadoop2.7/examples/src/main/java/org/apache/spark/examples/ml/JavaPolynomialExpansionExample.java\n",
            "spark-2.4.4-bin-hadoop2.7/examples/src/main/java/org/apache/spark/examples/ml/JavaPipelineExample.java\n",
            "spark-2.4.4-bin-hadoop2.7/examples/src/main/java/org/apache/spark/examples/ml/JavaPCAExample.java\n",
            "spark-2.4.4-bin-hadoop2.7/examples/src/main/java/org/apache/spark/examples/ml/JavaOneVsRestExample.java\n",
            "spark-2.4.4-bin-hadoop2.7/examples/src/main/java/org/apache/spark/examples/ml/JavaNormalizerExample.java\n",
            "spark-2.4.4-bin-hadoop2.7/examples/src/main/java/org/apache/spark/examples/ml/JavaNaiveBayesExample.java\n",
            "spark-2.4.4-bin-hadoop2.7/examples/src/main/java/org/apache/spark/examples/ml/JavaNGramExample.java\n",
            "spark-2.4.4-bin-hadoop2.7/examples/src/main/java/org/apache/spark/examples/ml/JavaMultilayerPerceptronClassifierExample.java\n",
            "spark-2.4.4-bin-hadoop2.7/examples/src/main/java/org/apache/spark/examples/ml/JavaMulticlassLogisticRegressionWithElasticNetExample.java\n",
            "spark-2.4.4-bin-hadoop2.7/examples/src/main/java/org/apache/spark/examples/ml/JavaModelSelectionViaTrainValidationSplitExample.java\n",
            "spark-2.4.4-bin-hadoop2.7/examples/src/main/java/org/apache/spark/examples/ml/JavaModelSelectionViaCrossValidationExample.java\n",
            "spark-2.4.4-bin-hadoop2.7/examples/src/main/java/org/apache/spark/examples/ml/JavaMinMaxScalerExample.java\n",
            "spark-2.4.4-bin-hadoop2.7/examples/src/main/java/org/apache/spark/examples/ml/JavaMinHashLSHExample.java\n",
            "spark-2.4.4-bin-hadoop2.7/examples/src/main/java/org/apache/spark/examples/ml/JavaMaxAbsScalerExample.java\n",
            "spark-2.4.4-bin-hadoop2.7/examples/src/main/java/org/apache/spark/examples/ml/JavaLogisticRegressionWithElasticNetExample.java\n",
            "spark-2.4.4-bin-hadoop2.7/examples/src/main/java/org/apache/spark/examples/ml/JavaLogisticRegressionSummaryExample.java\n",
            "spark-2.4.4-bin-hadoop2.7/examples/src/main/java/org/apache/spark/examples/ml/JavaLinearSVCExample.java\n",
            "spark-2.4.4-bin-hadoop2.7/examples/src/main/java/org/apache/spark/examples/ml/JavaLinearRegressionWithElasticNetExample.java\n",
            "spark-2.4.4-bin-hadoop2.7/examples/src/main/java/org/apache/spark/examples/ml/JavaLabeledDocument.java\n",
            "spark-2.4.4-bin-hadoop2.7/examples/src/main/java/org/apache/spark/examples/ml/JavaLDAExample.java\n",
            "spark-2.4.4-bin-hadoop2.7/examples/src/main/java/org/apache/spark/examples/ml/JavaKMeansExample.java\n",
            "spark-2.4.4-bin-hadoop2.7/examples/src/main/java/org/apache/spark/examples/ml/JavaIsotonicRegressionExample.java\n",
            "spark-2.4.4-bin-hadoop2.7/examples/src/main/java/org/apache/spark/examples/ml/JavaInteractionExample.java\n",
            "spark-2.4.4-bin-hadoop2.7/examples/src/main/java/org/apache/spark/examples/ml/JavaIndexToStringExample.java\n",
            "spark-2.4.4-bin-hadoop2.7/examples/src/main/java/org/apache/spark/examples/ml/JavaImputerExample.java\n",
            "spark-2.4.4-bin-hadoop2.7/examples/src/main/java/org/apache/spark/examples/ml/JavaGradientBoostedTreeRegressorExample.java\n",
            "spark-2.4.4-bin-hadoop2.7/examples/src/main/java/org/apache/spark/examples/ml/JavaGeneralizedLinearRegressionExample.java\n",
            "spark-2.4.4-bin-hadoop2.7/examples/src/main/java/org/apache/spark/examples/ml/JavaGaussianMixtureExample.java\n",
            "spark-2.4.4-bin-hadoop2.7/examples/src/main/java/org/apache/spark/examples/ml/JavaFeatureHasherExample.java\n",
            "spark-2.4.4-bin-hadoop2.7/examples/src/main/java/org/apache/spark/examples/ml/JavaFPGrowthExample.java\n",
            "spark-2.4.4-bin-hadoop2.7/examples/src/main/java/org/apache/spark/examples/ml/JavaEstimatorTransformerParamExample.java\n",
            "spark-2.4.4-bin-hadoop2.7/examples/src/main/java/org/apache/spark/examples/ml/JavaElementwiseProductExample.java\n",
            "spark-2.4.4-bin-hadoop2.7/examples/src/main/java/org/apache/spark/examples/ml/JavaDocument.java\n",
            "spark-2.4.4-bin-hadoop2.7/examples/src/main/java/org/apache/spark/examples/ml/JavaDecisionTreeRegressionExample.java\n",
            "spark-2.4.4-bin-hadoop2.7/examples/src/main/java/org/apache/spark/examples/ml/JavaDCTExample.java\n",
            "spark-2.4.4-bin-hadoop2.7/examples/src/main/java/org/apache/spark/examples/ml/JavaCountVectorizerExample.java\n",
            "spark-2.4.4-bin-hadoop2.7/examples/src/main/java/org/apache/spark/examples/ml/JavaCorrelationExample.java\n",
            "spark-2.4.4-bin-hadoop2.7/examples/src/main/java/org/apache/spark/examples/ml/JavaChiSquareTestExample.java\n",
            "spark-2.4.4-bin-hadoop2.7/examples/src/main/java/org/apache/spark/examples/ml/JavaChiSqSelectorExample.java\n",
            "spark-2.4.4-bin-hadoop2.7/examples/src/main/java/org/apache/spark/examples/ml/JavaBucketizerExample.java\n",
            "spark-2.4.4-bin-hadoop2.7/examples/src/main/java/org/apache/spark/examples/ml/JavaBucketedRandomProjectionLSHExample.java\n",
            "spark-2.4.4-bin-hadoop2.7/examples/src/main/java/org/apache/spark/examples/ml/JavaBinarizerExample.java\n",
            "spark-2.4.4-bin-hadoop2.7/examples/src/main/java/org/apache/spark/examples/ml/JavaAFTSurvivalRegressionExample.java\n",
            "spark-2.4.4-bin-hadoop2.7/examples/src/main/java/org/apache/spark/examples/ml/JavaRandomForestClassifierExample.java\n",
            "spark-2.4.4-bin-hadoop2.7/examples/src/main/java/org/apache/spark/examples/ml/JavaPrefixSpanExample.java\n",
            "spark-2.4.4-bin-hadoop2.7/examples/src/main/java/org/apache/spark/examples/ml/JavaOneHotEncoderEstimatorExample.java\n",
            "spark-2.4.4-bin-hadoop2.7/examples/src/main/java/org/apache/spark/examples/ml/JavaGradientBoostedTreeClassifierExample.java\n",
            "spark-2.4.4-bin-hadoop2.7/examples/src/main/java/org/apache/spark/examples/ml/JavaDecisionTreeClassificationExample.java\n",
            "spark-2.4.4-bin-hadoop2.7/examples/src/main/java/org/apache/spark/examples/ml/JavaBisectingKMeansExample.java\n",
            "spark-2.4.4-bin-hadoop2.7/examples/src/main/java/org/apache/spark/examples/ml/JavaALSExample.java\n",
            "spark-2.4.4-bin-hadoop2.7/examples/src/main/java/org/apache/spark/examples/JavaWordCount.java\n",
            "spark-2.4.4-bin-hadoop2.7/examples/src/main/java/org/apache/spark/examples/JavaStatusTrackerDemo.java\n",
            "spark-2.4.4-bin-hadoop2.7/examples/src/main/java/org/apache/spark/examples/JavaSparkPi.java\n",
            "spark-2.4.4-bin-hadoop2.7/examples/src/main/java/org/apache/spark/examples/JavaPageRank.java\n",
            "spark-2.4.4-bin-hadoop2.7/examples/src/main/java/org/apache/spark/examples/JavaLogQuery.java\n",
            "spark-2.4.4-bin-hadoop2.7/examples/src/main/java/org/apache/spark/examples/JavaHdfsLR.java\n",
            "spark-2.4.4-bin-hadoop2.7/examples/src/main/java/org/apache/spark/examples/JavaTC.java\n",
            "spark-2.4.4-bin-hadoop2.7/examples/jars/\n",
            "spark-2.4.4-bin-hadoop2.7/examples/jars/spark-examples_2.11-2.4.4.jar\n",
            "spark-2.4.4-bin-hadoop2.7/examples/jars/scopt_2.11-3.7.0.jar\n",
            "spark-2.4.4-bin-hadoop2.7/kubernetes/\n",
            "spark-2.4.4-bin-hadoop2.7/kubernetes/tests/\n",
            "spark-2.4.4-bin-hadoop2.7/kubernetes/tests/pyfiles.py\n",
            "spark-2.4.4-bin-hadoop2.7/kubernetes/tests/worker_memory_check.py\n",
            "spark-2.4.4-bin-hadoop2.7/kubernetes/tests/py_container_checks.py\n",
            "spark-2.4.4-bin-hadoop2.7/kubernetes/dockerfiles/\n",
            "spark-2.4.4-bin-hadoop2.7/kubernetes/dockerfiles/spark/\n",
            "spark-2.4.4-bin-hadoop2.7/kubernetes/dockerfiles/spark/entrypoint.sh\n",
            "spark-2.4.4-bin-hadoop2.7/kubernetes/dockerfiles/spark/Dockerfile\n",
            "spark-2.4.4-bin-hadoop2.7/kubernetes/dockerfiles/spark/bindings/\n",
            "spark-2.4.4-bin-hadoop2.7/kubernetes/dockerfiles/spark/bindings/python/\n",
            "spark-2.4.4-bin-hadoop2.7/kubernetes/dockerfiles/spark/bindings/python/Dockerfile\n",
            "spark-2.4.4-bin-hadoop2.7/kubernetes/dockerfiles/spark/bindings/R/\n",
            "spark-2.4.4-bin-hadoop2.7/kubernetes/dockerfiles/spark/bindings/R/Dockerfile\n",
            "spark-2.4.4-bin-hadoop2.7/yarn/\n",
            "spark-2.4.4-bin-hadoop2.7/yarn/spark-2.4.4-yarn-shuffle.jar\n",
            "spark-2.4.4-bin-hadoop2.7/jars/\n",
            "spark-2.4.4-bin-hadoop2.7/jars/jackson-mapper-asl-1.9.13.jar\n",
            "spark-2.4.4-bin-hadoop2.7/jars/jackson-jaxrs-1.9.13.jar\n",
            "spark-2.4.4-bin-hadoop2.7/jars/jackson-dataformat-yaml-2.6.7.jar\n",
            "spark-2.4.4-bin-hadoop2.7/jars/jackson-databind-2.6.7.1.jar\n",
            "spark-2.4.4-bin-hadoop2.7/jars/jackson-core-asl-1.9.13.jar\n",
            "spark-2.4.4-bin-hadoop2.7/jars/jackson-core-2.6.7.jar\n",
            "spark-2.4.4-bin-hadoop2.7/jars/jackson-annotations-2.6.7.jar\n",
            "spark-2.4.4-bin-hadoop2.7/jars/ivy-2.4.0.jar\n",
            "spark-2.4.4-bin-hadoop2.7/jars/httpcore-4.4.10.jar\n",
            "spark-2.4.4-bin-hadoop2.7/jars/httpclient-4.5.6.jar\n",
            "spark-2.4.4-bin-hadoop2.7/jars/htrace-core-3.1.0-incubating.jar\n",
            "spark-2.4.4-bin-hadoop2.7/jars/hppc-0.7.2.jar\n",
            "spark-2.4.4-bin-hadoop2.7/jars/hk2-utils-2.4.0-b34.jar\n",
            "spark-2.4.4-bin-hadoop2.7/jars/hk2-locator-2.4.0-b34.jar\n",
            "spark-2.4.4-bin-hadoop2.7/jars/hk2-api-2.4.0-b34.jar\n",
            "spark-2.4.4-bin-hadoop2.7/jars/hive-metastore-1.2.1.spark2.jar\n",
            "spark-2.4.4-bin-hadoop2.7/jars/hive-jdbc-1.2.1.spark2.jar\n",
            "spark-2.4.4-bin-hadoop2.7/jars/hive-exec-1.2.1.spark2.jar\n",
            "spark-2.4.4-bin-hadoop2.7/jars/hive-cli-1.2.1.spark2.jar\n",
            "spark-2.4.4-bin-hadoop2.7/jars/hive-beeline-1.2.1.spark2.jar\n",
            "spark-2.4.4-bin-hadoop2.7/jars/hadoop-yarn-server-web-proxy-2.7.3.jar\n",
            "spark-2.4.4-bin-hadoop2.7/jars/hadoop-yarn-server-common-2.7.3.jar\n",
            "spark-2.4.4-bin-hadoop2.7/jars/hadoop-yarn-common-2.7.3.jar\n",
            "spark-2.4.4-bin-hadoop2.7/jars/hadoop-yarn-client-2.7.3.jar\n",
            "spark-2.4.4-bin-hadoop2.7/jars/hadoop-yarn-api-2.7.3.jar\n",
            "spark-2.4.4-bin-hadoop2.7/jars/hadoop-mapreduce-client-shuffle-2.7.3.jar\n",
            "spark-2.4.4-bin-hadoop2.7/jars/hadoop-mapreduce-client-jobclient-2.7.3.jar\n",
            "spark-2.4.4-bin-hadoop2.7/jars/hadoop-mapreduce-client-core-2.7.3.jar\n",
            "spark-2.4.4-bin-hadoop2.7/jars/hadoop-mapreduce-client-common-2.7.3.jar\n",
            "spark-2.4.4-bin-hadoop2.7/jars/hadoop-mapreduce-client-app-2.7.3.jar\n",
            "spark-2.4.4-bin-hadoop2.7/jars/hadoop-hdfs-2.7.3.jar\n",
            "spark-2.4.4-bin-hadoop2.7/jars/hadoop-common-2.7.3.jar\n",
            "spark-2.4.4-bin-hadoop2.7/jars/hadoop-client-2.7.3.jar\n",
            "spark-2.4.4-bin-hadoop2.7/jars/hadoop-auth-2.7.3.jar\n",
            "spark-2.4.4-bin-hadoop2.7/jars/hadoop-annotations-2.7.3.jar\n",
            "spark-2.4.4-bin-hadoop2.7/jars/guice-servlet-3.0.jar\n",
            "spark-2.4.4-bin-hadoop2.7/jars/guice-3.0.jar\n",
            "spark-2.4.4-bin-hadoop2.7/jars/guava-14.0.1.jar\n",
            "spark-2.4.4-bin-hadoop2.7/jars/gson-2.2.4.jar\n",
            "spark-2.4.4-bin-hadoop2.7/jars/generex-1.0.1.jar\n",
            "spark-2.4.4-bin-hadoop2.7/jars/flatbuffers-1.2.0-3f79e055.jar\n",
            "spark-2.4.4-bin-hadoop2.7/jars/eigenbase-properties-1.1.5.jar\n",
            "spark-2.4.4-bin-hadoop2.7/jars/derby-10.12.1.1.jar\n",
            "spark-2.4.4-bin-hadoop2.7/jars/datanucleus-rdbms-3.2.9.jar\n",
            "spark-2.4.4-bin-hadoop2.7/jars/datanucleus-core-3.2.10.jar\n",
            "spark-2.4.4-bin-hadoop2.7/jars/datanucleus-api-jdo-3.2.6.jar\n",
            "spark-2.4.4-bin-hadoop2.7/jars/curator-recipes-2.7.1.jar\n",
            "spark-2.4.4-bin-hadoop2.7/jars/curator-framework-2.7.1.jar\n",
            "spark-2.4.4-bin-hadoop2.7/jars/curator-client-2.7.1.jar\n",
            "spark-2.4.4-bin-hadoop2.7/jars/core-1.1.2.jar\n",
            "spark-2.4.4-bin-hadoop2.7/jars/compress-lzf-1.0.3.jar\n",
            "spark-2.4.4-bin-hadoop2.7/jars/commons-pool-1.5.4.jar\n",
            "spark-2.4.4-bin-hadoop2.7/jars/commons-net-3.1.jar\n",
            "spark-2.4.4-bin-hadoop2.7/jars/commons-math3-3.4.1.jar\n",
            "spark-2.4.4-bin-hadoop2.7/jars/commons-logging-1.1.3.jar\n",
            "spark-2.4.4-bin-hadoop2.7/jars/commons-lang3-3.5.jar\n",
            "spark-2.4.4-bin-hadoop2.7/jars/commons-lang-2.6.jar\n",
            "spark-2.4.4-bin-hadoop2.7/jars/commons-io-2.4.jar\n",
            "spark-2.4.4-bin-hadoop2.7/jars/commons-httpclient-3.1.jar\n",
            "spark-2.4.4-bin-hadoop2.7/jars/commons-digester-1.8.jar\n",
            "spark-2.4.4-bin-hadoop2.7/jars/commons-dbcp-1.4.jar\n",
            "spark-2.4.4-bin-hadoop2.7/jars/commons-crypto-1.0.0.jar\n",
            "spark-2.4.4-bin-hadoop2.7/jars/commons-configuration-1.6.jar\n",
            "spark-2.4.4-bin-hadoop2.7/jars/commons-compress-1.8.1.jar\n",
            "spark-2.4.4-bin-hadoop2.7/jars/commons-compiler-3.0.9.jar\n",
            "spark-2.4.4-bin-hadoop2.7/jars/commons-collections-3.2.2.jar\n",
            "spark-2.4.4-bin-hadoop2.7/jars/commons-codec-1.10.jar\n",
            "spark-2.4.4-bin-hadoop2.7/jars/commons-cli-1.2.jar\n",
            "spark-2.4.4-bin-hadoop2.7/jars/commons-beanutils-1.9.3.jar\n",
            "spark-2.4.4-bin-hadoop2.7/jars/chill_2.11-0.9.3.jar\n",
            "spark-2.4.4-bin-hadoop2.7/jars/chill-java-0.9.3.jar\n",
            "spark-2.4.4-bin-hadoop2.7/jars/calcite-linq4j-1.2.0-incubating.jar\n",
            "spark-2.4.4-bin-hadoop2.7/jars/calcite-core-1.2.0-incubating.jar\n",
            "spark-2.4.4-bin-hadoop2.7/jars/calcite-avatica-1.2.0-incubating.jar\n",
            "spark-2.4.4-bin-hadoop2.7/jars/breeze_2.11-0.13.2.jar\n",
            "spark-2.4.4-bin-hadoop2.7/jars/breeze-macros_2.11-0.13.2.jar\n",
            "spark-2.4.4-bin-hadoop2.7/jars/bonecp-0.8.0.RELEASE.jar\n",
            "spark-2.4.4-bin-hadoop2.7/jars/avro-mapred-1.8.2-hadoop2.jar\n",
            "spark-2.4.4-bin-hadoop2.7/jars/avro-ipc-1.8.2.jar\n",
            "spark-2.4.4-bin-hadoop2.7/jars/avro-1.8.2.jar\n",
            "spark-2.4.4-bin-hadoop2.7/jars/automaton-1.11-8.jar\n",
            "spark-2.4.4-bin-hadoop2.7/jars/arrow-vector-0.10.0.jar\n",
            "spark-2.4.4-bin-hadoop2.7/jars/arrow-memory-0.10.0.jar\n",
            "spark-2.4.4-bin-hadoop2.7/jars/arrow-format-0.10.0.jar\n",
            "spark-2.4.4-bin-hadoop2.7/jars/arpack_combined_all-0.1.jar\n",
            "spark-2.4.4-bin-hadoop2.7/jars/api-util-1.0.0-M20.jar\n",
            "spark-2.4.4-bin-hadoop2.7/jars/api-asn1-api-1.0.0-M20.jar\n",
            "spark-2.4.4-bin-hadoop2.7/jars/apacheds-kerberos-codec-2.0.0-M15.jar\n",
            "spark-2.4.4-bin-hadoop2.7/jars/apacheds-i18n-2.0.0-M15.jar\n",
            "spark-2.4.4-bin-hadoop2.7/jars/apache-log4j-extras-1.2.17.jar\n",
            "spark-2.4.4-bin-hadoop2.7/jars/aopalliance-repackaged-2.4.0-b34.jar\n",
            "spark-2.4.4-bin-hadoop2.7/jars/aopalliance-1.0.jar\n",
            "spark-2.4.4-bin-hadoop2.7/jars/antlr4-runtime-4.7.jar\n",
            "spark-2.4.4-bin-hadoop2.7/jars/antlr-runtime-3.4.jar\n",
            "spark-2.4.4-bin-hadoop2.7/jars/antlr-2.7.7.jar\n",
            "spark-2.4.4-bin-hadoop2.7/jars/aircompressor-0.10.jar\n",
            "spark-2.4.4-bin-hadoop2.7/jars/activation-1.1.1.jar\n",
            "spark-2.4.4-bin-hadoop2.7/jars/ST4-4.0.4.jar\n",
            "spark-2.4.4-bin-hadoop2.7/jars/RoaringBitmap-0.7.45.jar\n",
            "spark-2.4.4-bin-hadoop2.7/jars/JavaEWAH-0.3.2.jar\n",
            "spark-2.4.4-bin-hadoop2.7/jars/zstd-jni-1.3.2-2.jar\n",
            "spark-2.4.4-bin-hadoop2.7/jars/zookeeper-3.4.6.jar\n",
            "spark-2.4.4-bin-hadoop2.7/jars/zjsonpatch-0.3.0.jar\n",
            "spark-2.4.4-bin-hadoop2.7/jars/xz-1.5.jar\n",
            "spark-2.4.4-bin-hadoop2.7/jars/xmlenc-0.52.jar\n",
            "spark-2.4.4-bin-hadoop2.7/jars/xercesImpl-2.9.1.jar\n",
            "spark-2.4.4-bin-hadoop2.7/jars/xbean-asm6-shaded-4.8.jar\n",
            "spark-2.4.4-bin-hadoop2.7/jars/validation-api-1.1.0.Final.jar\n",
            "spark-2.4.4-bin-hadoop2.7/jars/univocity-parsers-2.7.3.jar\n",
            "spark-2.4.4-bin-hadoop2.7/jars/super-csv-2.2.0.jar\n",
            "spark-2.4.4-bin-hadoop2.7/jars/stringtemplate-3.2.1.jar\n",
            "spark-2.4.4-bin-hadoop2.7/jars/stream-2.7.0.jar\n",
            "spark-2.4.4-bin-hadoop2.7/jars/stax-api-1.0.1.jar\n",
            "spark-2.4.4-bin-hadoop2.7/jars/stax-api-1.0-2.jar\n",
            "spark-2.4.4-bin-hadoop2.7/jars/spire_2.11-0.13.0.jar\n",
            "spark-2.4.4-bin-hadoop2.7/jars/spire-macros_2.11-0.13.0.jar\n",
            "spark-2.4.4-bin-hadoop2.7/jars/spark-yarn_2.11-2.4.4.jar\n",
            "spark-2.4.4-bin-hadoop2.7/jars/spark-unsafe_2.11-2.4.4.jar\n",
            "spark-2.4.4-bin-hadoop2.7/jars/spark-tags_2.11-2.4.4.jar\n",
            "spark-2.4.4-bin-hadoop2.7/jars/spark-tags_2.11-2.4.4-tests.jar\n",
            "spark-2.4.4-bin-hadoop2.7/jars/spark-streaming_2.11-2.4.4.jar\n",
            "spark-2.4.4-bin-hadoop2.7/jars/spark-sql_2.11-2.4.4.jar\n",
            "spark-2.4.4-bin-hadoop2.7/jars/spark-sketch_2.11-2.4.4.jar\n",
            "spark-2.4.4-bin-hadoop2.7/jars/spark-repl_2.11-2.4.4.jar\n",
            "spark-2.4.4-bin-hadoop2.7/jars/spark-network-shuffle_2.11-2.4.4.jar\n",
            "spark-2.4.4-bin-hadoop2.7/jars/spark-network-common_2.11-2.4.4.jar\n",
            "spark-2.4.4-bin-hadoop2.7/jars/spark-mllib_2.11-2.4.4.jar\n",
            "spark-2.4.4-bin-hadoop2.7/jars/spark-mllib-local_2.11-2.4.4.jar\n",
            "spark-2.4.4-bin-hadoop2.7/jars/spark-mesos_2.11-2.4.4.jar\n",
            "spark-2.4.4-bin-hadoop2.7/jars/spark-launcher_2.11-2.4.4.jar\n",
            "spark-2.4.4-bin-hadoop2.7/jars/spark-kvstore_2.11-2.4.4.jar\n",
            "spark-2.4.4-bin-hadoop2.7/jars/spark-kubernetes_2.11-2.4.4.jar\n",
            "spark-2.4.4-bin-hadoop2.7/jars/spark-hive_2.11-2.4.4.jar\n",
            "spark-2.4.4-bin-hadoop2.7/jars/spark-hive-thriftserver_2.11-2.4.4.jar\n",
            "spark-2.4.4-bin-hadoop2.7/jars/spark-graphx_2.11-2.4.4.jar\n",
            "spark-2.4.4-bin-hadoop2.7/jars/spark-core_2.11-2.4.4.jar\n",
            "spark-2.4.4-bin-hadoop2.7/jars/spark-catalyst_2.11-2.4.4.jar\n",
            "spark-2.4.4-bin-hadoop2.7/jars/snappy-java-1.1.7.3.jar\n",
            "spark-2.4.4-bin-hadoop2.7/jars/snappy-0.2.jar\n",
            "spark-2.4.4-bin-hadoop2.7/jars/snakeyaml-1.15.jar\n",
            "spark-2.4.4-bin-hadoop2.7/jars/slf4j-log4j12-1.7.16.jar\n",
            "spark-2.4.4-bin-hadoop2.7/jars/slf4j-api-1.7.16.jar\n",
            "spark-2.4.4-bin-hadoop2.7/jars/shims-0.7.45.jar\n",
            "spark-2.4.4-bin-hadoop2.7/jars/shapeless_2.11-2.3.2.jar\n",
            "spark-2.4.4-bin-hadoop2.7/jars/scala-xml_2.11-1.0.5.jar\n",
            "spark-2.4.4-bin-hadoop2.7/jars/scala-reflect-2.11.12.jar\n",
            "spark-2.4.4-bin-hadoop2.7/jars/scala-parser-combinators_2.11-1.1.0.jar\n",
            "spark-2.4.4-bin-hadoop2.7/jars/scala-library-2.11.12.jar\n",
            "spark-2.4.4-bin-hadoop2.7/jars/scala-compiler-2.11.12.jar\n",
            "spark-2.4.4-bin-hadoop2.7/jars/pyrolite-4.13.jar\n",
            "spark-2.4.4-bin-hadoop2.7/jars/py4j-0.10.7.jar\n",
            "spark-2.4.4-bin-hadoop2.7/jars/protobuf-java-2.5.0.jar\n",
            "spark-2.4.4-bin-hadoop2.7/jars/parquet-jackson-1.10.1.jar\n",
            "spark-2.4.4-bin-hadoop2.7/jars/parquet-hadoop-bundle-1.6.0.jar\n",
            "spark-2.4.4-bin-hadoop2.7/jars/parquet-hadoop-1.10.1.jar\n",
            "spark-2.4.4-bin-hadoop2.7/jars/parquet-format-2.4.0.jar\n",
            "spark-2.4.4-bin-hadoop2.7/jars/parquet-encoding-1.10.1.jar\n",
            "spark-2.4.4-bin-hadoop2.7/jars/parquet-common-1.10.1.jar\n",
            "spark-2.4.4-bin-hadoop2.7/jars/parquet-column-1.10.1.jar\n",
            "spark-2.4.4-bin-hadoop2.7/jars/paranamer-2.8.jar\n",
            "spark-2.4.4-bin-hadoop2.7/jars/osgi-resource-locator-1.0.1.jar\n",
            "spark-2.4.4-bin-hadoop2.7/jars/oro-2.0.8.jar\n",
            "spark-2.4.4-bin-hadoop2.7/jars/orc-shims-1.5.5.jar\n",
            "spark-2.4.4-bin-hadoop2.7/jars/orc-mapreduce-1.5.5-nohive.jar\n",
            "spark-2.4.4-bin-hadoop2.7/jars/orc-core-1.5.5-nohive.jar\n",
            "spark-2.4.4-bin-hadoop2.7/jars/opencsv-2.3.jar\n",
            "spark-2.4.4-bin-hadoop2.7/jars/okio-1.13.0.jar\n",
            "spark-2.4.4-bin-hadoop2.7/jars/okhttp-3.8.1.jar\n",
            "spark-2.4.4-bin-hadoop2.7/jars/objenesis-2.5.1.jar\n",
            "spark-2.4.4-bin-hadoop2.7/jars/netty-all-4.1.17.Final.jar\n",
            "spark-2.4.4-bin-hadoop2.7/jars/netty-3.9.9.Final.jar\n",
            "spark-2.4.4-bin-hadoop2.7/jars/minlog-1.3.0.jar\n",
            "spark-2.4.4-bin-hadoop2.7/jars/metrics-jvm-3.1.5.jar\n",
            "spark-2.4.4-bin-hadoop2.7/jars/metrics-json-3.1.5.jar\n",
            "spark-2.4.4-bin-hadoop2.7/jars/metrics-graphite-3.1.5.jar\n",
            "spark-2.4.4-bin-hadoop2.7/jars/metrics-core-3.1.5.jar\n",
            "spark-2.4.4-bin-hadoop2.7/jars/mesos-1.4.0-shaded-protobuf.jar\n",
            "spark-2.4.4-bin-hadoop2.7/jars/macro-compat_2.11-1.1.1.jar\n",
            "spark-2.4.4-bin-hadoop2.7/jars/machinist_2.11-0.6.1.jar\n",
            "spark-2.4.4-bin-hadoop2.7/jars/lz4-java-1.4.0.jar\n",
            "spark-2.4.4-bin-hadoop2.7/jars/logging-interceptor-3.12.0.jar\n",
            "spark-2.4.4-bin-hadoop2.7/jars/log4j-1.2.17.jar\n",
            "spark-2.4.4-bin-hadoop2.7/jars/libthrift-0.9.3.jar\n",
            "spark-2.4.4-bin-hadoop2.7/jars/libfb303-0.9.3.jar\n",
            "spark-2.4.4-bin-hadoop2.7/jars/leveldbjni-all-1.8.jar\n",
            "spark-2.4.4-bin-hadoop2.7/jars/kubernetes-model-common-4.1.2.jar\n",
            "spark-2.4.4-bin-hadoop2.7/jars/kubernetes-model-4.1.2.jar\n",
            "spark-2.4.4-bin-hadoop2.7/jars/kubernetes-client-4.1.2.jar\n",
            "spark-2.4.4-bin-hadoop2.7/jars/kryo-shaded-4.0.2.jar\n",
            "spark-2.4.4-bin-hadoop2.7/jars/jul-to-slf4j-1.7.16.jar\n",
            "spark-2.4.4-bin-hadoop2.7/jars/jtransforms-2.4.0.jar\n",
            "spark-2.4.4-bin-hadoop2.7/jars/jta-1.1.jar\n",
            "spark-2.4.4-bin-hadoop2.7/jars/jsr305-1.3.9.jar\n",
            "spark-2.4.4-bin-hadoop2.7/jars/jsp-api-2.1.jar\n",
            "spark-2.4.4-bin-hadoop2.7/jars/json4s-scalap_2.11-3.5.3.jar\n",
            "spark-2.4.4-bin-hadoop2.7/jars/json4s-jackson_2.11-3.5.3.jar\n",
            "spark-2.4.4-bin-hadoop2.7/jars/json4s-core_2.11-3.5.3.jar\n",
            "spark-2.4.4-bin-hadoop2.7/jars/json4s-ast_2.11-3.5.3.jar\n",
            "spark-2.4.4-bin-hadoop2.7/jars/jpam-1.1.jar\n",
            "spark-2.4.4-bin-hadoop2.7/jars/jodd-core-3.5.2.jar\n",
            "spark-2.4.4-bin-hadoop2.7/jars/joda-time-2.9.3.jar\n",
            "spark-2.4.4-bin-hadoop2.7/jars/jline-2.14.6.jar\n",
            "spark-2.4.4-bin-hadoop2.7/jars/jetty-util-6.1.26.jar\n",
            "spark-2.4.4-bin-hadoop2.7/jars/jetty-6.1.26.jar\n",
            "spark-2.4.4-bin-hadoop2.7/jars/jersey-server-2.22.2.jar\n",
            "spark-2.4.4-bin-hadoop2.7/jars/jersey-media-jaxb-2.22.2.jar\n",
            "spark-2.4.4-bin-hadoop2.7/jars/jersey-guava-2.22.2.jar\n",
            "spark-2.4.4-bin-hadoop2.7/jars/jersey-container-servlet-core-2.22.2.jar\n",
            "spark-2.4.4-bin-hadoop2.7/jars/jersey-container-servlet-2.22.2.jar\n",
            "spark-2.4.4-bin-hadoop2.7/jars/jersey-common-2.22.2.jar\n",
            "spark-2.4.4-bin-hadoop2.7/jars/jersey-client-2.22.2.jar\n",
            "spark-2.4.4-bin-hadoop2.7/jars/jdo-api-3.0.1.jar\n",
            "spark-2.4.4-bin-hadoop2.7/jars/jcl-over-slf4j-1.7.16.jar\n",
            "spark-2.4.4-bin-hadoop2.7/jars/jaxb-api-2.2.2.jar\n",
            "spark-2.4.4-bin-hadoop2.7/jars/javolution-5.5.1.jar\n",
            "spark-2.4.4-bin-hadoop2.7/jars/javax.ws.rs-api-2.0.1.jar\n",
            "spark-2.4.4-bin-hadoop2.7/jars/javax.servlet-api-3.1.0.jar\n",
            "spark-2.4.4-bin-hadoop2.7/jars/javax.inject-2.4.0-b34.jar\n",
            "spark-2.4.4-bin-hadoop2.7/jars/javax.inject-1.jar\n",
            "spark-2.4.4-bin-hadoop2.7/jars/javax.annotation-api-1.2.jar\n",
            "spark-2.4.4-bin-hadoop2.7/jars/javassist-3.18.1-GA.jar\n",
            "spark-2.4.4-bin-hadoop2.7/jars/janino-3.0.9.jar\n",
            "spark-2.4.4-bin-hadoop2.7/jars/jackson-xc-1.9.13.jar\n",
            "spark-2.4.4-bin-hadoop2.7/jars/jackson-module-scala_2.11-2.6.7.1.jar\n",
            "spark-2.4.4-bin-hadoop2.7/jars/jackson-module-paranamer-2.7.9.jar\n",
            "spark-2.4.4-bin-hadoop2.7/jars/jackson-module-jaxb-annotations-2.6.7.jar\n",
            "spark-2.4.4-bin-hadoop2.7/RELEASE\n"
          ],
          "name": "stdout"
        }
      ]
    },
    {
      "cell_type": "code",
      "metadata": {
        "id": "_mytu3Bm7kZ1",
        "colab_type": "code",
        "outputId": "2ded19e5-454d-4ecd-b0f1-edd8dd201d02",
        "colab": {
          "base_uri": "https://localhost:8080/",
          "height": 34
        }
      },
      "source": [
        "!ls "
      ],
      "execution_count": 5,
      "outputs": [
        {
          "output_type": "stream",
          "text": [
            "sample_data  spark-2.4.4-bin-hadoop2.7\tspark-2.4.4-bin-hadoop2.7.tgz\n"
          ],
          "name": "stdout"
        }
      ]
    },
    {
      "cell_type": "code",
      "metadata": {
        "id": "Kyne_yA47n9Z",
        "colab_type": "code",
        "colab": {}
      },
      "source": [
        "!pip install -q findspark"
      ],
      "execution_count": 0,
      "outputs": []
    },
    {
      "cell_type": "code",
      "metadata": {
        "id": "sOuO0S7y7tzA",
        "colab_type": "code",
        "colab": {}
      },
      "source": [
        "import os\n",
        "os.environ[\"JAVA_HOME\"] = \"/usr/lib/jvm/java-8-openjdk-amd64\"\n",
        "os.environ[\"SPARK_HOME\"] = \"/content/spark-2.4.4-bin-hadoop2.7\""
      ],
      "execution_count": 0,
      "outputs": []
    },
    {
      "cell_type": "code",
      "metadata": {
        "id": "m__UKu8C7ylW",
        "colab_type": "code",
        "colab": {}
      },
      "source": [
        "import findspark\n",
        "findspark.init()\n",
        "from pyspark.sql import SparkSession, SQLContext\n",
        "spark = SparkSession.builder.master(\"local[*]\").getOrCreate()"
      ],
      "execution_count": 0,
      "outputs": []
    },
    {
      "cell_type": "code",
      "metadata": {
        "id": "_RC_GaN274vB",
        "colab_type": "code",
        "outputId": "01f101ff-9982-4794-96e1-9a8887e4d74e",
        "colab": {
          "base_uri": "https://localhost:8080/",
          "height": 190
        }
      },
      "source": [
        "df = spark.createDataFrame([{\"Google\": \"Colab\",\"Spark\": \"Scala\"} ,{\"Google\": \"Dataproc\",\"Spark\":\"Python\"}])\n",
        "df.show()"
      ],
      "execution_count": 9,
      "outputs": [
        {
          "output_type": "stream",
          "text": [
            "/content/spark-2.4.4-bin-hadoop2.7/python/pyspark/sql/session.py:346: UserWarning: inferring schema from dict is deprecated,please use pyspark.sql.Row instead\n",
            "  warnings.warn(\"inferring schema from dict is deprecated,\"\n"
          ],
          "name": "stderr"
        },
        {
          "output_type": "stream",
          "text": [
            "+--------+------+\n",
            "|  Google| Spark|\n",
            "+--------+------+\n",
            "|   Colab| Scala|\n",
            "|Dataproc|Python|\n",
            "+--------+------+\n",
            "\n"
          ],
          "name": "stdout"
        }
      ]
    },
    {
      "cell_type": "code",
      "metadata": {
        "id": "_cxGHJpF9cSu",
        "colab_type": "code",
        "colab": {}
      },
      "source": [
        "import string # to remove punctuation\n",
        "import re\n",
        "import pandas as pd\n",
        "import os\n",
        "import itertools\n",
        "from collections import Counter\n",
        "from pyspark.sql.functions import *\n",
        "from pyspark.sql import functions as f\n",
        "from pyspark.sql.types import IntegerType, StringType\n",
        "from pyspark.sql.functions import udf, col\n"
      ],
      "execution_count": 0,
      "outputs": []
    },
    {
      "cell_type": "markdown",
      "metadata": {
        "id": "YK_WEh2plncJ",
        "colab_type": "text"
      },
      "source": [
        "# Step 1: Load data"
      ]
    },
    {
      "cell_type": "code",
      "metadata": {
        "id": "3bWoyWFazUxw",
        "colab_type": "code",
        "outputId": "3a49d67d-df0c-4eb9-f99a-df40c9b05a5e",
        "colab": {
          "base_uri": "https://localhost:8080/",
          "height": 122
        }
      },
      "source": [
        "#mounting google drive\n",
        "from google.colab import drive\n",
        "drive.mount('/content/drive')"
      ],
      "execution_count": 11,
      "outputs": [
        {
          "output_type": "stream",
          "text": [
            "Go to this URL in a browser: https://accounts.google.com/o/oauth2/auth?client_id=947318989803-6bn6qk8qdgf4n4g3pfee6491hc0brc4i.apps.googleusercontent.com&redirect_uri=urn%3Aietf%3Awg%3Aoauth%3A2.0%3Aoob&scope=email%20https%3A%2F%2Fwww.googleapis.com%2Fauth%2Fdocs.test%20https%3A%2F%2Fwww.googleapis.com%2Fauth%2Fdrive%20https%3A%2F%2Fwww.googleapis.com%2Fauth%2Fdrive.photos.readonly%20https%3A%2F%2Fwww.googleapis.com%2Fauth%2Fpeopleapi.readonly&response_type=code\n",
            "\n",
            "Enter your authorization code:\n",
            "··········\n",
            "Mounted at /content/drive\n"
          ],
          "name": "stdout"
        }
      ]
    },
    {
      "cell_type": "code",
      "metadata": {
        "id": "RV3beoAr_nuL",
        "colab_type": "code",
        "outputId": "d5d70f1c-bedd-4343-8b38-8016f2f8515e",
        "colab": {
          "base_uri": "https://localhost:8080/",
          "height": 34
        }
      },
      "source": [
        "!ls"
      ],
      "execution_count": 12,
      "outputs": [
        {
          "output_type": "stream",
          "text": [
            "drive  sample_data  spark-2.4.4-bin-hadoop2.7  spark-2.4.4-bin-hadoop2.7.tgz\n"
          ],
          "name": "stdout"
        }
      ]
    },
    {
      "cell_type": "code",
      "metadata": {
        "id": "F2i5r-3T98Zc",
        "colab_type": "code",
        "outputId": "356a0b3c-6356-462c-a622-65880a20191c",
        "colab": {
          "base_uri": "https://localhost:8080/",
          "height": 34
        }
      },
      "source": [
        "#storing csv as dataframes\n",
        "from pyspark.ml.feature import VectorAssembler\n",
        "from pyspark.ml.regression import LinearRegression\n",
        "dataset = spark.read.csv('/content/drive/My Drive/tick_data.csv',inferSchema=True, header =True)\n",
        "type(dataset)"
      ],
      "execution_count": 21,
      "outputs": [
        {
          "output_type": "execute_result",
          "data": {
            "text/plain": [
              "pyspark.sql.dataframe.DataFrame"
            ]
          },
          "metadata": {
            "tags": []
          },
          "execution_count": 21
        }
      ]
    },
    {
      "cell_type": "code",
      "metadata": {
        "id": "vkySj-GqNIeL",
        "colab_type": "code",
        "outputId": "4235d2b6-11bd-4870-9605-36be7de1ac38",
        "colab": {
          "base_uri": "https://localhost:8080/",
          "height": 136
        }
      },
      "source": [
        "dataset.printSchema()"
      ],
      "execution_count": 94,
      "outputs": [
        {
          "output_type": "stream",
          "text": [
            "root\n",
            " |-- DATE: integer (nullable = true)\n",
            " |-- TIME_S: string (nullable = true)\n",
            " |-- SYM_ROOT: string (nullable = true)\n",
            " |-- SIZE: integer (nullable = true)\n",
            " |-- TRADE: double (nullable = true)\n",
            "\n"
          ],
          "name": "stdout"
        }
      ]
    },
    {
      "cell_type": "code",
      "metadata": {
        "id": "FSzPRdf7lrqx",
        "colab_type": "code",
        "outputId": "c8527a7f-009a-4f93-ae0c-eca845f824f6",
        "colab": {
          "base_uri": "https://localhost:8080/",
          "height": 459
        }
      },
      "source": [
        "dataset.show()"
      ],
      "execution_count": 95,
      "outputs": [
        {
          "output_type": "stream",
          "text": [
            "+--------+--------+--------+----+------+\n",
            "|    DATE|  TIME_S|SYM_ROOT|SIZE| TRADE|\n",
            "+--------+--------+--------+----+------+\n",
            "|20120103|09:04:08|    AAPL| 500|409.21|\n",
            "|20120103|09:06:49|    AAPL| 100|409.41|\n",
            "|20120103|09:21:10|    AAPL| 100|409.49|\n",
            "|20120103|09:26:28|    AAPL| 100|409.04|\n",
            "|20120103|09:29:55|    AAPL| 100| 410.3|\n",
            "|20120103|09:30:00|    AAPL| 200|409.91|\n",
            "|20120103|09:30:04|    AAPL| 100|410.11|\n",
            "|20120103|09:30:04|    AAPL| 200|410.05|\n",
            "|20120103|09:30:06|    AAPL| 100| 410.2|\n",
            "|20120103|09:30:20|    AAPL| 140| 409.9|\n",
            "|20120103|09:30:39|    AAPL| 100|409.82|\n",
            "|20120103|09:30:49|    AAPL| 100|409.76|\n",
            "|20120103|09:30:50|    AAPL| 100| 409.8|\n",
            "|20120103|09:30:50|    AAPL| 200| 409.8|\n",
            "|20120103|09:31:04|    AAPL| 150|409.53|\n",
            "|20120103|09:31:25|    AAPL| 174|409.79|\n",
            "|20120103|09:31:50|    AAPL| 100|409.48|\n",
            "|20120103|09:31:55|    AAPL| 200|409.44|\n",
            "|20120103|09:32:29|    AAPL| 100|409.95|\n",
            "|20120103|09:33:13|    AAPL| 400|410.16|\n",
            "+--------+--------+--------+----+------+\n",
            "only showing top 20 rows\n",
            "\n"
          ],
          "name": "stdout"
        }
      ]
    },
    {
      "cell_type": "markdown",
      "metadata": {
        "id": "TinfClJ5mTQP",
        "colab_type": "text"
      },
      "source": [
        "# Step 2: Data type conversions"
      ]
    },
    {
      "cell_type": "code",
      "metadata": {
        "id": "_6OXWH0bnv69",
        "colab_type": "code",
        "colab": {}
      },
      "source": [
        "from pyspark.sql.functions import col, count, hour, sum"
      ],
      "execution_count": 0,
      "outputs": []
    },
    {
      "cell_type": "code",
      "metadata": {
        "id": "f04Wg0wnqhWA",
        "colab_type": "code",
        "colab": {}
      },
      "source": [
        "df = dataset.select('DATE', 'TIME_S', 'SYM_ROOT', 'SIZE', 'TRADE')\n",
        "df.show()"
      ],
      "execution_count": 0,
      "outputs": []
    },
    {
      "cell_type": "code",
      "metadata": {
        "id": "6F0hjdLI2xl_",
        "colab_type": "code",
        "colab": {}
      },
      "source": [
        "#converting date to string type\n",
        "dfs = df.withColumn(\"DATE\", df[\"DATE\"].cast(StringType()))"
      ],
      "execution_count": 0,
      "outputs": []
    },
    {
      "cell_type": "code",
      "metadata": {
        "id": "QUJ3GhVdjdqW",
        "colab_type": "code",
        "colab": {}
      },
      "source": [
        "#creating a new column for timestamp\n",
        "from pyspark.sql.functions import unix_timestamp\n",
        "\n",
        "dfs = df.withColumn(\"parsed\", to_timestamp(\"TIME_S\", \"HH:mm:ss\"))"
      ],
      "execution_count": 0,
      "outputs": []
    },
    {
      "cell_type": "code",
      "metadata": {
        "id": "l1Tdxm47k-Hu",
        "colab_type": "code",
        "outputId": "9e36e1b7-30bd-4611-b140-23007de2ee41",
        "colab": {
          "base_uri": "https://localhost:8080/",
          "height": 459
        }
      },
      "source": [
        "dfs.show()"
      ],
      "execution_count": 100,
      "outputs": [
        {
          "output_type": "stream",
          "text": [
            "+--------+--------+--------+----+------+-------------------+\n",
            "|    DATE|  TIME_S|SYM_ROOT|SIZE| TRADE|             parsed|\n",
            "+--------+--------+--------+----+------+-------------------+\n",
            "|20120103|09:04:08|    AAPL| 500|409.21|1970-01-01 09:04:08|\n",
            "|20120103|09:06:49|    AAPL| 100|409.41|1970-01-01 09:06:49|\n",
            "|20120103|09:21:10|    AAPL| 100|409.49|1970-01-01 09:21:10|\n",
            "|20120103|09:26:28|    AAPL| 100|409.04|1970-01-01 09:26:28|\n",
            "|20120103|09:29:55|    AAPL| 100| 410.3|1970-01-01 09:29:55|\n",
            "|20120103|09:30:00|    AAPL| 200|409.91|1970-01-01 09:30:00|\n",
            "|20120103|09:30:04|    AAPL| 100|410.11|1970-01-01 09:30:04|\n",
            "|20120103|09:30:04|    AAPL| 200|410.05|1970-01-01 09:30:04|\n",
            "|20120103|09:30:06|    AAPL| 100| 410.2|1970-01-01 09:30:06|\n",
            "|20120103|09:30:20|    AAPL| 140| 409.9|1970-01-01 09:30:20|\n",
            "|20120103|09:30:39|    AAPL| 100|409.82|1970-01-01 09:30:39|\n",
            "|20120103|09:30:49|    AAPL| 100|409.76|1970-01-01 09:30:49|\n",
            "|20120103|09:30:50|    AAPL| 100| 409.8|1970-01-01 09:30:50|\n",
            "|20120103|09:30:50|    AAPL| 200| 409.8|1970-01-01 09:30:50|\n",
            "|20120103|09:31:04|    AAPL| 150|409.53|1970-01-01 09:31:04|\n",
            "|20120103|09:31:25|    AAPL| 174|409.79|1970-01-01 09:31:25|\n",
            "|20120103|09:31:50|    AAPL| 100|409.48|1970-01-01 09:31:50|\n",
            "|20120103|09:31:55|    AAPL| 200|409.44|1970-01-01 09:31:55|\n",
            "|20120103|09:32:29|    AAPL| 100|409.95|1970-01-01 09:32:29|\n",
            "|20120103|09:33:13|    AAPL| 400|410.16|1970-01-01 09:33:13|\n",
            "+--------+--------+--------+----+------+-------------------+\n",
            "only showing top 20 rows\n",
            "\n"
          ],
          "name": "stdout"
        }
      ]
    },
    {
      "cell_type": "code",
      "metadata": {
        "id": "AaV1YSA3xAov",
        "colab_type": "code",
        "outputId": "9274815e-1b93-4956-9009-3a4bbee81a22",
        "colab": {
          "base_uri": "https://localhost:8080/",
          "height": 459
        }
      },
      "source": [
        "#Extracting Hour from TIME_S\n",
        "d1 = dfs.withColumn('Time_H', hour('TIME_S'))\n",
        "d1.show()"
      ],
      "execution_count": 101,
      "outputs": [
        {
          "output_type": "stream",
          "text": [
            "+--------+--------+--------+----+------+-------------------+------+\n",
            "|    DATE|  TIME_S|SYM_ROOT|SIZE| TRADE|             parsed|Time_H|\n",
            "+--------+--------+--------+----+------+-------------------+------+\n",
            "|20120103|09:04:08|    AAPL| 500|409.21|1970-01-01 09:04:08|     9|\n",
            "|20120103|09:06:49|    AAPL| 100|409.41|1970-01-01 09:06:49|     9|\n",
            "|20120103|09:21:10|    AAPL| 100|409.49|1970-01-01 09:21:10|     9|\n",
            "|20120103|09:26:28|    AAPL| 100|409.04|1970-01-01 09:26:28|     9|\n",
            "|20120103|09:29:55|    AAPL| 100| 410.3|1970-01-01 09:29:55|     9|\n",
            "|20120103|09:30:00|    AAPL| 200|409.91|1970-01-01 09:30:00|     9|\n",
            "|20120103|09:30:04|    AAPL| 100|410.11|1970-01-01 09:30:04|     9|\n",
            "|20120103|09:30:04|    AAPL| 200|410.05|1970-01-01 09:30:04|     9|\n",
            "|20120103|09:30:06|    AAPL| 100| 410.2|1970-01-01 09:30:06|     9|\n",
            "|20120103|09:30:20|    AAPL| 140| 409.9|1970-01-01 09:30:20|     9|\n",
            "|20120103|09:30:39|    AAPL| 100|409.82|1970-01-01 09:30:39|     9|\n",
            "|20120103|09:30:49|    AAPL| 100|409.76|1970-01-01 09:30:49|     9|\n",
            "|20120103|09:30:50|    AAPL| 100| 409.8|1970-01-01 09:30:50|     9|\n",
            "|20120103|09:30:50|    AAPL| 200| 409.8|1970-01-01 09:30:50|     9|\n",
            "|20120103|09:31:04|    AAPL| 150|409.53|1970-01-01 09:31:04|     9|\n",
            "|20120103|09:31:25|    AAPL| 174|409.79|1970-01-01 09:31:25|     9|\n",
            "|20120103|09:31:50|    AAPL| 100|409.48|1970-01-01 09:31:50|     9|\n",
            "|20120103|09:31:55|    AAPL| 200|409.44|1970-01-01 09:31:55|     9|\n",
            "|20120103|09:32:29|    AAPL| 100|409.95|1970-01-01 09:32:29|     9|\n",
            "|20120103|09:33:13|    AAPL| 400|410.16|1970-01-01 09:33:13|     9|\n",
            "+--------+--------+--------+----+------+-------------------+------+\n",
            "only showing top 20 rows\n",
            "\n"
          ],
          "name": "stdout"
        }
      ]
    },
    {
      "cell_type": "markdown",
      "metadata": {
        "id": "A0ni-hq_iBR0",
        "colab_type": "text"
      },
      "source": [
        "# Step 3: Calculate total trading volume for each stock in a certain hour"
      ]
    },
    {
      "cell_type": "code",
      "metadata": {
        "id": "BM9ecWLh9TyY",
        "colab_type": "code",
        "outputId": "c93689b1-4720-4552-f86e-4ed3a213d4f6",
        "colab": {
          "base_uri": "https://localhost:8080/",
          "height": 459
        }
      },
      "source": [
        "aggs = d1.orderBy('SYM_ROOT', ascending=True).groupBy(\"DATE\", \"SYM_ROOT\", \"Time_H\").sum(\"SIZE\")\n",
        "aggs1 = aggs.select(col(\"DATE\").alias(\"DATEE\"), col(\"SYM_ROOT\").alias(\"SYM_ROOTT\"), col(\"Time_H\").alias(\"Time_HH\"), col(\"sum(SIZE)\").alias(\"Size_H\"))\n",
        "aggs1.show()"
      ],
      "execution_count": 134,
      "outputs": [
        {
          "output_type": "stream",
          "text": [
            "+--------+---------+-------+------+\n",
            "|   DATEE|SYM_ROOTT|Time_HH|Size_H|\n",
            "+--------+---------+-------+------+\n",
            "|20120103|     AAPL|      9| 21092|\n",
            "|20120103|     AAPL|     10| 12041|\n",
            "|20120103|     AAPL|     11|  9473|\n",
            "|20120103|     AAPL|     12|  5718|\n",
            "|20120103|     AAPL|     13|  8103|\n",
            "|20120103|     AAPL|     14|  7783|\n",
            "|20120103|     AAPL|     15| 15334|\n",
            "|20120103|     GOOG|      9|  8314|\n",
            "|20120103|     GOOG|     10|  8080|\n",
            "|20120103|     GOOG|     11|  6776|\n",
            "|20120103|     GOOG|     12|  6619|\n",
            "|20120103|     GOOG|     13|  6517|\n",
            "|20120103|     GOOG|     14|  8453|\n",
            "|20120103|     GOOG|     15| 17496|\n",
            "|20120103|      IBM|      9| 14064|\n",
            "|20120103|      IBM|     10| 12055|\n",
            "|20120103|      IBM|     11| 12863|\n",
            "|20120103|      IBM|     12| 11694|\n",
            "|20120103|      IBM|     13|  5109|\n",
            "|20120103|      IBM|     14|  9033|\n",
            "+--------+---------+-------+------+\n",
            "only showing top 20 rows\n",
            "\n"
          ],
          "name": "stdout"
        }
      ]
    },
    {
      "cell_type": "markdown",
      "metadata": {
        "id": "exBdcW6_neCW",
        "colab_type": "text"
      },
      "source": [
        "# Step 4: Calculate hourly return of each stock"
      ]
    },
    {
      "cell_type": "code",
      "metadata": {
        "id": "AHlbjPWSmzaI",
        "colab_type": "code",
        "colab": {
          "base_uri": "https://localhost:8080/",
          "height": 459
        },
        "outputId": "de94973c-ee94-4583-9a73-7637074f7480"
      },
      "source": [
        "#finding the last entry in an hour for each company's stock\n",
        "dfma = d1.groupBy(\"SYM_ROOT\", \"Time_H\").agg(max(\"parsed\").alias('paa')).orderBy('SYM_ROOT','Time_H', ascending=True)\n",
        "dfma.show()"
      ],
      "execution_count": 103,
      "outputs": [
        {
          "output_type": "stream",
          "text": [
            "+--------+------+-------------------+\n",
            "|SYM_ROOT|Time_H|                paa|\n",
            "+--------+------+-------------------+\n",
            "|    AAPL|     9|1970-01-01 09:59:14|\n",
            "|    AAPL|    10|1970-01-01 10:59:12|\n",
            "|    AAPL|    11|1970-01-01 11:53:49|\n",
            "|    AAPL|    12|1970-01-01 12:59:58|\n",
            "|    AAPL|    13|1970-01-01 13:56:26|\n",
            "|    AAPL|    14|1970-01-01 14:59:56|\n",
            "|    AAPL|    15|1970-01-01 15:59:59|\n",
            "|    GOOG|     9|1970-01-01 09:59:46|\n",
            "|    GOOG|    10|1970-01-01 10:59:29|\n",
            "|    GOOG|    11|1970-01-01 11:59:44|\n",
            "|    GOOG|    12|1970-01-01 12:59:25|\n",
            "|    GOOG|    13|1970-01-01 13:59:21|\n",
            "|    GOOG|    14|1970-01-01 14:59:24|\n",
            "|    GOOG|    15|1970-01-01 15:59:55|\n",
            "|     IBM|     9|1970-01-01 09:58:30|\n",
            "|     IBM|    10|1970-01-01 10:59:45|\n",
            "|     IBM|    11|1970-01-01 11:59:42|\n",
            "|     IBM|    12|1970-01-01 12:59:37|\n",
            "|     IBM|    13|1970-01-01 13:58:41|\n",
            "|     IBM|    14|1970-01-01 14:59:09|\n",
            "+--------+------+-------------------+\n",
            "only showing top 20 rows\n",
            "\n"
          ],
          "name": "stdout"
        }
      ]
    },
    {
      "cell_type": "code",
      "metadata": {
        "id": "P9TflYrgHhX7",
        "colab_type": "code",
        "colab": {
          "base_uri": "https://localhost:8080/",
          "height": 459
        },
        "outputId": "1a5d80cd-bee5-4582-935c-8a29a17f382e"
      },
      "source": [
        "#changing column names\n",
        "dfma1 = dfma.select(col(\"SYM_ROOT\").alias(\"sys\"), col(\"Time_H\").alias(\"H\"), \"paa\")\n",
        "dfma1.show()"
      ],
      "execution_count": 104,
      "outputs": [
        {
          "output_type": "stream",
          "text": [
            "+----+---+-------------------+\n",
            "| sys|  H|                paa|\n",
            "+----+---+-------------------+\n",
            "|AAPL|  9|1970-01-01 09:59:14|\n",
            "|AAPL| 10|1970-01-01 10:59:12|\n",
            "|AAPL| 11|1970-01-01 11:53:49|\n",
            "|AAPL| 12|1970-01-01 12:59:58|\n",
            "|AAPL| 13|1970-01-01 13:56:26|\n",
            "|AAPL| 14|1970-01-01 14:59:56|\n",
            "|AAPL| 15|1970-01-01 15:59:59|\n",
            "|GOOG|  9|1970-01-01 09:59:46|\n",
            "|GOOG| 10|1970-01-01 10:59:29|\n",
            "|GOOG| 11|1970-01-01 11:59:44|\n",
            "|GOOG| 12|1970-01-01 12:59:25|\n",
            "|GOOG| 13|1970-01-01 13:59:21|\n",
            "|GOOG| 14|1970-01-01 14:59:24|\n",
            "|GOOG| 15|1970-01-01 15:59:55|\n",
            "| IBM|  9|1970-01-01 09:58:30|\n",
            "| IBM| 10|1970-01-01 10:59:45|\n",
            "| IBM| 11|1970-01-01 11:59:42|\n",
            "| IBM| 12|1970-01-01 12:59:37|\n",
            "| IBM| 13|1970-01-01 13:58:41|\n",
            "| IBM| 14|1970-01-01 14:59:09|\n",
            "+----+---+-------------------+\n",
            "only showing top 20 rows\n",
            "\n"
          ],
          "name": "stdout"
        }
      ]
    },
    {
      "cell_type": "code",
      "metadata": {
        "id": "GGil9KzqDpUU",
        "colab_type": "code",
        "colab": {
          "base_uri": "https://localhost:8080/",
          "height": 459
        },
        "outputId": "8d947f04-01d4-4e6a-f030-485c75db58c9"
      },
      "source": [
        "#joining dfma1 and d1\n",
        "inner_join_max = dfma1.join(d1, dfma1.paa == d1.parsed)\n",
        "inner_join_max.show()"
      ],
      "execution_count": 105,
      "outputs": [
        {
          "output_type": "stream",
          "text": [
            "+----+---+-------------------+--------+--------+--------+----+------+-------------------+------+\n",
            "| sys|  H|                paa|    DATE|  TIME_S|SYM_ROOT|SIZE| TRADE|             parsed|Time_H|\n",
            "+----+---+-------------------+--------+--------+--------+----+------+-------------------+------+\n",
            "|AAPL|  9|1970-01-01 09:59:14|20120103|09:59:14|    AAPL| 200|411.38|1970-01-01 09:59:14|     9|\n",
            "|AAPL| 10|1970-01-01 10:59:12|20120103|10:59:12|    AAPL| 100|411.23|1970-01-01 10:59:12|    10|\n",
            "|AAPL| 11|1970-01-01 11:53:49|20120103|11:53:49|    AAPL| 100| 411.3|1970-01-01 11:53:49|    11|\n",
            "|AAPL| 12|1970-01-01 12:59:58|20120103|12:59:58|    AAPL| 100|410.19|1970-01-01 12:59:58|    12|\n",
            "|AAPL| 13|1970-01-01 13:56:26|20120103|13:56:26|    AAPL| 100|411.21|1970-01-01 13:56:26|    13|\n",
            "|MSFT| 14|1970-01-01 14:59:55|20120103|14:59:55|    AAPL| 200|412.11|1970-01-01 14:59:55|    14|\n",
            "|AAPL| 14|1970-01-01 14:59:56|20120103|14:59:56|    AAPL| 100|412.16|1970-01-01 14:59:56|    14|\n",
            "| IBM| 15|1970-01-01 15:59:55|20120103|15:59:55|    AAPL| 100|411.26|1970-01-01 15:59:55|    15|\n",
            "|GOOG| 15|1970-01-01 15:59:55|20120103|15:59:55|    AAPL| 100|411.26|1970-01-01 15:59:55|    15|\n",
            "|AAPL| 15|1970-01-01 15:59:59|20120103|15:59:59|    AAPL| 100|411.45|1970-01-01 15:59:59|    15|\n",
            "|AAPL| 15|1970-01-01 15:59:59|20120103|15:59:59|    AAPL| 100|411.46|1970-01-01 15:59:59|    15|\n",
            "|GOOG|  9|1970-01-01 09:59:46|20120103|09:59:46|    GOOG| 100|659.43|1970-01-01 09:59:46|     9|\n",
            "|GOOG| 10|1970-01-01 10:59:29|20120103|10:59:29|    GOOG| 100|659.95|1970-01-01 10:59:29|    10|\n",
            "|GOOG| 11|1970-01-01 11:59:44|20120103|11:59:44|    GOOG| 100|661.86|1970-01-01 11:59:44|    11|\n",
            "|GOOG| 12|1970-01-01 12:59:25|20120103|12:59:25|    GOOG| 100|659.56|1970-01-01 12:59:25|    12|\n",
            "|GOOG| 13|1970-01-01 13:59:21|20120103|13:59:21|    GOOG| 100|660.17|1970-01-01 13:59:21|    13|\n",
            "|GOOG| 13|1970-01-01 13:59:21|20120103|13:59:21|    GOOG| 100|660.25|1970-01-01 13:59:21|    13|\n",
            "|GOOG| 14|1970-01-01 14:59:24|20120103|14:59:24|    GOOG| 200|664.96|1970-01-01 14:59:24|    14|\n",
            "| IBM| 15|1970-01-01 15:59:55|20120103|15:59:55|    GOOG| 100|665.89|1970-01-01 15:59:55|    15|\n",
            "|GOOG| 15|1970-01-01 15:59:55|20120103|15:59:55|    GOOG| 100|665.89|1970-01-01 15:59:55|    15|\n",
            "+----+---+-------------------+--------+--------+--------+----+------+-------------------+------+\n",
            "only showing top 20 rows\n",
            "\n"
          ],
          "name": "stdout"
        }
      ]
    },
    {
      "cell_type": "code",
      "metadata": {
        "id": "BDnnVrSnIX88",
        "colab_type": "code",
        "colab": {
          "base_uri": "https://localhost:8080/",
          "height": 459
        },
        "outputId": "d8fe5e13-4f47-4818-ead6-5b81313aa3cd"
      },
      "source": [
        "#keeping the values of rows when both 'sys' and 'SYM_ROOT' match\n",
        "inn_max =  inner_join_max.filter(inner_join_max.sys == inner_join_max.SYM_ROOT)\n",
        "inn_max.show()"
      ],
      "execution_count": 106,
      "outputs": [
        {
          "output_type": "stream",
          "text": [
            "+----+---+-------------------+--------+--------+--------+----+------+-------------------+------+\n",
            "| sys|  H|                paa|    DATE|  TIME_S|SYM_ROOT|SIZE| TRADE|             parsed|Time_H|\n",
            "+----+---+-------------------+--------+--------+--------+----+------+-------------------+------+\n",
            "|AAPL|  9|1970-01-01 09:59:14|20120103|09:59:14|    AAPL| 200|411.38|1970-01-01 09:59:14|     9|\n",
            "|AAPL| 10|1970-01-01 10:59:12|20120103|10:59:12|    AAPL| 100|411.23|1970-01-01 10:59:12|    10|\n",
            "|AAPL| 11|1970-01-01 11:53:49|20120103|11:53:49|    AAPL| 100| 411.3|1970-01-01 11:53:49|    11|\n",
            "|AAPL| 12|1970-01-01 12:59:58|20120103|12:59:58|    AAPL| 100|410.19|1970-01-01 12:59:58|    12|\n",
            "|AAPL| 13|1970-01-01 13:56:26|20120103|13:56:26|    AAPL| 100|411.21|1970-01-01 13:56:26|    13|\n",
            "|AAPL| 14|1970-01-01 14:59:56|20120103|14:59:56|    AAPL| 100|412.16|1970-01-01 14:59:56|    14|\n",
            "|AAPL| 15|1970-01-01 15:59:59|20120103|15:59:59|    AAPL| 100|411.45|1970-01-01 15:59:59|    15|\n",
            "|AAPL| 15|1970-01-01 15:59:59|20120103|15:59:59|    AAPL| 100|411.46|1970-01-01 15:59:59|    15|\n",
            "|GOOG|  9|1970-01-01 09:59:46|20120103|09:59:46|    GOOG| 100|659.43|1970-01-01 09:59:46|     9|\n",
            "|GOOG| 10|1970-01-01 10:59:29|20120103|10:59:29|    GOOG| 100|659.95|1970-01-01 10:59:29|    10|\n",
            "|GOOG| 11|1970-01-01 11:59:44|20120103|11:59:44|    GOOG| 100|661.86|1970-01-01 11:59:44|    11|\n",
            "|GOOG| 12|1970-01-01 12:59:25|20120103|12:59:25|    GOOG| 100|659.56|1970-01-01 12:59:25|    12|\n",
            "|GOOG| 13|1970-01-01 13:59:21|20120103|13:59:21|    GOOG| 100|660.17|1970-01-01 13:59:21|    13|\n",
            "|GOOG| 13|1970-01-01 13:59:21|20120103|13:59:21|    GOOG| 100|660.25|1970-01-01 13:59:21|    13|\n",
            "|GOOG| 14|1970-01-01 14:59:24|20120103|14:59:24|    GOOG| 200|664.96|1970-01-01 14:59:24|    14|\n",
            "|GOOG| 15|1970-01-01 15:59:55|20120103|15:59:55|    GOOG| 100|665.89|1970-01-01 15:59:55|    15|\n",
            "| IBM|  9|1970-01-01 09:58:30|20120103|09:58:30|     IBM| 100|188.25|1970-01-01 09:58:30|     9|\n",
            "| IBM| 10|1970-01-01 10:59:45|20120103|10:59:45|     IBM| 500|188.48|1970-01-01 10:59:45|    10|\n",
            "| IBM| 11|1970-01-01 11:59:42|20120103|11:59:42|     IBM| 100|188.16|1970-01-01 11:59:42|    11|\n",
            "| IBM| 12|1970-01-01 12:59:37|20120103|12:59:37|     IBM| 100|186.58|1970-01-01 12:59:37|    12|\n",
            "+----+---+-------------------+--------+--------+--------+----+------+-------------------+------+\n",
            "only showing top 20 rows\n",
            "\n"
          ],
          "name": "stdout"
        }
      ]
    },
    {
      "cell_type": "code",
      "metadata": {
        "id": "N8LngSmfFAKu",
        "colab_type": "code",
        "colab": {}
      },
      "source": [
        "#dropping duplicates based on the time and stock name\n",
        "import pyspark.sql.functions as F\n",
        "inn_max1 = inn_max.orderBy('SYM_ROOT', F.col('parsed').desc()).dropDuplicates(subset = ['parsed', 'SYM_ROOT'])"
      ],
      "execution_count": 0,
      "outputs": []
    },
    {
      "cell_type": "code",
      "metadata": {
        "id": "YLqiTy_MGhZe",
        "colab_type": "code",
        "outputId": "86a02c39-f169-4c64-8dcf-527363929a4e",
        "colab": {
          "base_uri": "https://localhost:8080/",
          "height": 459
        }
      },
      "source": [
        "inn_max2 = inn_max1.orderBy('SYM_ROOT', 'Time_H', ascending=True)\n",
        "inn_max2.show()"
      ],
      "execution_count": 109,
      "outputs": [
        {
          "output_type": "stream",
          "text": [
            "+----+---+-------------------+--------+--------+--------+----+------+-------------------+------+\n",
            "| sys|  H|                paa|    DATE|  TIME_S|SYM_ROOT|SIZE| TRADE|             parsed|Time_H|\n",
            "+----+---+-------------------+--------+--------+--------+----+------+-------------------+------+\n",
            "|AAPL|  9|1970-01-01 09:59:14|20120103|09:59:14|    AAPL| 200|411.38|1970-01-01 09:59:14|     9|\n",
            "|AAPL| 10|1970-01-01 10:59:12|20120103|10:59:12|    AAPL| 100|411.23|1970-01-01 10:59:12|    10|\n",
            "|AAPL| 11|1970-01-01 11:53:49|20120103|11:53:49|    AAPL| 100| 411.3|1970-01-01 11:53:49|    11|\n",
            "|AAPL| 12|1970-01-01 12:59:58|20120103|12:59:58|    AAPL| 100|410.19|1970-01-01 12:59:58|    12|\n",
            "|AAPL| 13|1970-01-01 13:56:26|20120103|13:56:26|    AAPL| 100|411.21|1970-01-01 13:56:26|    13|\n",
            "|AAPL| 14|1970-01-01 14:59:56|20120103|14:59:56|    AAPL| 100|412.16|1970-01-01 14:59:56|    14|\n",
            "|AAPL| 15|1970-01-01 15:59:59|20120103|15:59:59|    AAPL| 100|411.45|1970-01-01 15:59:59|    15|\n",
            "|GOOG|  9|1970-01-01 09:59:46|20120103|09:59:46|    GOOG| 100|659.43|1970-01-01 09:59:46|     9|\n",
            "|GOOG| 10|1970-01-01 10:59:29|20120103|10:59:29|    GOOG| 100|659.95|1970-01-01 10:59:29|    10|\n",
            "|GOOG| 11|1970-01-01 11:59:44|20120103|11:59:44|    GOOG| 100|661.86|1970-01-01 11:59:44|    11|\n",
            "|GOOG| 12|1970-01-01 12:59:25|20120103|12:59:25|    GOOG| 100|659.56|1970-01-01 12:59:25|    12|\n",
            "|GOOG| 13|1970-01-01 13:59:21|20120103|13:59:21|    GOOG| 100|660.17|1970-01-01 13:59:21|    13|\n",
            "|GOOG| 14|1970-01-01 14:59:24|20120103|14:59:24|    GOOG| 200|664.96|1970-01-01 14:59:24|    14|\n",
            "|GOOG| 15|1970-01-01 15:59:55|20120103|15:59:55|    GOOG| 100|665.89|1970-01-01 15:59:55|    15|\n",
            "| IBM|  9|1970-01-01 09:58:30|20120103|09:58:30|     IBM| 100|188.25|1970-01-01 09:58:30|     9|\n",
            "| IBM| 10|1970-01-01 10:59:45|20120103|10:59:45|     IBM| 500|188.48|1970-01-01 10:59:45|    10|\n",
            "| IBM| 11|1970-01-01 11:59:42|20120103|11:59:42|     IBM| 100|188.16|1970-01-01 11:59:42|    11|\n",
            "| IBM| 12|1970-01-01 12:59:37|20120103|12:59:37|     IBM| 100|186.58|1970-01-01 12:59:37|    12|\n",
            "| IBM| 13|1970-01-01 13:58:41|20120103|13:58:41|     IBM|1000|186.83|1970-01-01 13:58:41|    13|\n",
            "| IBM| 14|1970-01-01 14:59:09|20120103|14:59:09|     IBM| 500|186.98|1970-01-01 14:59:09|    14|\n",
            "+----+---+-------------------+--------+--------+--------+----+------+-------------------+------+\n",
            "only showing top 20 rows\n",
            "\n"
          ],
          "name": "stdout"
        }
      ]
    },
    {
      "cell_type": "code",
      "metadata": {
        "id": "w8ytYlhpUaVS",
        "colab_type": "code",
        "outputId": "9528494c-78ae-468d-a039-05c6ec2cf40c",
        "colab": {
          "base_uri": "https://localhost:8080/",
          "height": 459
        }
      },
      "source": [
        "#dataframe with maximum time for each hour per company stock is obtained\n",
        "dfmax = inn_max2.drop('sys', 'H', 'paa')\n",
        "dfmax.show()"
      ],
      "execution_count": 110,
      "outputs": [
        {
          "output_type": "stream",
          "text": [
            "+--------+--------+--------+----+------+-------------------+------+\n",
            "|    DATE|  TIME_S|SYM_ROOT|SIZE| TRADE|             parsed|Time_H|\n",
            "+--------+--------+--------+----+------+-------------------+------+\n",
            "|20120103|09:59:14|    AAPL| 200|411.38|1970-01-01 09:59:14|     9|\n",
            "|20120103|10:59:12|    AAPL| 100|411.23|1970-01-01 10:59:12|    10|\n",
            "|20120103|11:53:49|    AAPL| 100| 411.3|1970-01-01 11:53:49|    11|\n",
            "|20120103|12:59:58|    AAPL| 100|410.19|1970-01-01 12:59:58|    12|\n",
            "|20120103|13:56:26|    AAPL| 100|411.21|1970-01-01 13:56:26|    13|\n",
            "|20120103|14:59:56|    AAPL| 100|412.16|1970-01-01 14:59:56|    14|\n",
            "|20120103|15:59:59|    AAPL| 100|411.45|1970-01-01 15:59:59|    15|\n",
            "|20120103|09:59:46|    GOOG| 100|659.43|1970-01-01 09:59:46|     9|\n",
            "|20120103|10:59:29|    GOOG| 100|659.95|1970-01-01 10:59:29|    10|\n",
            "|20120103|11:59:44|    GOOG| 100|661.86|1970-01-01 11:59:44|    11|\n",
            "|20120103|12:59:25|    GOOG| 100|659.56|1970-01-01 12:59:25|    12|\n",
            "|20120103|13:59:21|    GOOG| 100|660.17|1970-01-01 13:59:21|    13|\n",
            "|20120103|14:59:24|    GOOG| 200|664.96|1970-01-01 14:59:24|    14|\n",
            "|20120103|15:59:55|    GOOG| 100|665.89|1970-01-01 15:59:55|    15|\n",
            "|20120103|09:58:30|     IBM| 100|188.25|1970-01-01 09:58:30|     9|\n",
            "|20120103|10:59:45|     IBM| 500|188.48|1970-01-01 10:59:45|    10|\n",
            "|20120103|11:59:42|     IBM| 100|188.16|1970-01-01 11:59:42|    11|\n",
            "|20120103|12:59:37|     IBM| 100|186.58|1970-01-01 12:59:37|    12|\n",
            "|20120103|13:58:41|     IBM|1000|186.83|1970-01-01 13:58:41|    13|\n",
            "|20120103|14:59:09|     IBM| 500|186.98|1970-01-01 14:59:09|    14|\n",
            "+--------+--------+--------+----+------+-------------------+------+\n",
            "only showing top 20 rows\n",
            "\n"
          ],
          "name": "stdout"
        }
      ]
    },
    {
      "cell_type": "code",
      "metadata": {
        "id": "bzdVpCLkWVk3",
        "colab_type": "code",
        "outputId": "6f30ab2d-e80c-4ca4-e4c3-f317611cd3b3",
        "colab": {
          "base_uri": "https://localhost:8080/",
          "height": 34
        }
      },
      "source": [
        "dfmax.count()"
      ],
      "execution_count": 111,
      "outputs": [
        {
          "output_type": "execute_result",
          "data": {
            "text/plain": [
              "28"
            ]
          },
          "metadata": {
            "tags": []
          },
          "execution_count": 111
        }
      ]
    },
    {
      "cell_type": "code",
      "metadata": {
        "colab_type": "code",
        "id": "__MHlj82WynC",
        "outputId": "02dc52ea-c8c7-4d32-e107-ae36ac38953c",
        "colab": {
          "base_uri": "https://localhost:8080/",
          "height": 459
        }
      },
      "source": [
        "#finding the first entry in an hour for each company's stock\n",
        "dfmi = d1.groupBy(\"SYM_ROOT\", \"Time_H\").agg(min(\"parsed\").alias('paa')).orderBy('SYM_ROOT','Time_H', ascending=True)\n",
        "dfmi.show()"
      ],
      "execution_count": 112,
      "outputs": [
        {
          "output_type": "stream",
          "text": [
            "+--------+------+-------------------+\n",
            "|SYM_ROOT|Time_H|                paa|\n",
            "+--------+------+-------------------+\n",
            "|    AAPL|     9|1970-01-01 09:04:08|\n",
            "|    AAPL|    10|1970-01-01 10:00:08|\n",
            "|    AAPL|    11|1970-01-01 11:01:51|\n",
            "|    AAPL|    12|1970-01-01 12:00:57|\n",
            "|    AAPL|    13|1970-01-01 13:00:13|\n",
            "|    AAPL|    14|1970-01-01 14:00:01|\n",
            "|    AAPL|    15|1970-01-01 15:00:12|\n",
            "|    GOOG|     9|1970-01-01 09:05:35|\n",
            "|    GOOG|    10|1970-01-01 10:00:06|\n",
            "|    GOOG|    11|1970-01-01 11:03:35|\n",
            "|    GOOG|    12|1970-01-01 12:01:37|\n",
            "|    GOOG|    13|1970-01-01 13:00:31|\n",
            "|    GOOG|    14|1970-01-01 14:04:00|\n",
            "|    GOOG|    15|1970-01-01 15:00:00|\n",
            "|     IBM|     9|1970-01-01 09:30:03|\n",
            "|     IBM|    10|1970-01-01 10:00:03|\n",
            "|     IBM|    11|1970-01-01 11:00:35|\n",
            "|     IBM|    12|1970-01-01 12:00:49|\n",
            "|     IBM|    13|1970-01-01 13:00:53|\n",
            "|     IBM|    14|1970-01-01 14:00:26|\n",
            "+--------+------+-------------------+\n",
            "only showing top 20 rows\n",
            "\n"
          ],
          "name": "stdout"
        }
      ]
    },
    {
      "cell_type": "code",
      "metadata": {
        "colab_type": "code",
        "id": "bYGezO7GWynI",
        "outputId": "b6b39ce6-35c6-4d0f-ac73-0c4a40cd327f",
        "colab": {
          "base_uri": "https://localhost:8080/",
          "height": 459
        }
      },
      "source": [
        "#changing column names\n",
        "dfmi1 = dfmi.select(col(\"SYM_ROOT\").alias(\"sys\"), col(\"Time_H\").alias(\"H\"), \"paa\")\n",
        "dfmi1.show()"
      ],
      "execution_count": 113,
      "outputs": [
        {
          "output_type": "stream",
          "text": [
            "+----+---+-------------------+\n",
            "| sys|  H|                paa|\n",
            "+----+---+-------------------+\n",
            "|AAPL|  9|1970-01-01 09:04:08|\n",
            "|AAPL| 10|1970-01-01 10:00:08|\n",
            "|AAPL| 11|1970-01-01 11:01:51|\n",
            "|AAPL| 12|1970-01-01 12:00:57|\n",
            "|AAPL| 13|1970-01-01 13:00:13|\n",
            "|AAPL| 14|1970-01-01 14:00:01|\n",
            "|AAPL| 15|1970-01-01 15:00:12|\n",
            "|GOOG|  9|1970-01-01 09:05:35|\n",
            "|GOOG| 10|1970-01-01 10:00:06|\n",
            "|GOOG| 11|1970-01-01 11:03:35|\n",
            "|GOOG| 12|1970-01-01 12:01:37|\n",
            "|GOOG| 13|1970-01-01 13:00:31|\n",
            "|GOOG| 14|1970-01-01 14:04:00|\n",
            "|GOOG| 15|1970-01-01 15:00:00|\n",
            "| IBM|  9|1970-01-01 09:30:03|\n",
            "| IBM| 10|1970-01-01 10:00:03|\n",
            "| IBM| 11|1970-01-01 11:00:35|\n",
            "| IBM| 12|1970-01-01 12:00:49|\n",
            "| IBM| 13|1970-01-01 13:00:53|\n",
            "| IBM| 14|1970-01-01 14:00:26|\n",
            "+----+---+-------------------+\n",
            "only showing top 20 rows\n",
            "\n"
          ],
          "name": "stdout"
        }
      ]
    },
    {
      "cell_type": "code",
      "metadata": {
        "colab_type": "code",
        "id": "mM_XKp99WynL",
        "outputId": "801299a7-f530-4065-bb51-5152e27aa6f1",
        "colab": {
          "base_uri": "https://localhost:8080/",
          "height": 459
        }
      },
      "source": [
        "#joining dfmi1 and d1\n",
        "inner_join_min = dfmi1.join(d1, dfmi1.paa == d1.parsed)\n",
        "inner_join_min.show()"
      ],
      "execution_count": 114,
      "outputs": [
        {
          "output_type": "stream",
          "text": [
            "+----+---+-------------------+--------+--------+--------+----+------+-------------------+------+\n",
            "| sys|  H|                paa|    DATE|  TIME_S|SYM_ROOT|SIZE| TRADE|             parsed|Time_H|\n",
            "+----+---+-------------------+--------+--------+--------+----+------+-------------------+------+\n",
            "|AAPL|  9|1970-01-01 09:04:08|20120103|09:04:08|    AAPL| 500|409.21|1970-01-01 09:04:08|     9|\n",
            "|AAPL| 10|1970-01-01 10:00:08|20120103|10:00:08|    AAPL| 100|411.68|1970-01-01 10:00:08|    10|\n",
            "|AAPL| 11|1970-01-01 11:01:51|20120103|11:01:51|    AAPL| 100|411.36|1970-01-01 11:01:51|    11|\n",
            "|AAPL| 12|1970-01-01 12:00:57|20120103|12:00:57|    AAPL| 290|411.22|1970-01-01 12:00:57|    12|\n",
            "|AAPL| 13|1970-01-01 13:00:13|20120103|13:00:13|    AAPL| 100|410.26|1970-01-01 13:00:13|    13|\n",
            "|AAPL| 14|1970-01-01 14:00:01|20120103|14:00:01|    AAPL| 800|411.31|1970-01-01 14:00:01|    14|\n",
            "|AAPL| 15|1970-01-01 15:00:12|20120103|15:00:12|    AAPL| 100|412.17|1970-01-01 15:00:12|    15|\n",
            "|GOOG|  9|1970-01-01 09:05:35|20120103|09:05:35|    GOOG| 100|655.46|1970-01-01 09:05:35|     9|\n",
            "|GOOG| 10|1970-01-01 10:00:06|20120103|10:00:06|    GOOG| 100|659.42|1970-01-01 10:00:06|    10|\n",
            "|GOOG| 11|1970-01-01 11:03:35|20120103|11:03:35|    GOOG| 100|659.74|1970-01-01 11:03:35|    11|\n",
            "|GOOG| 12|1970-01-01 12:01:37|20120103|12:01:37|    GOOG| 100|662.06|1970-01-01 12:01:37|    12|\n",
            "|GOOG| 13|1970-01-01 13:00:31|20120103|13:00:31|    GOOG| 100|660.16|1970-01-01 13:00:31|    13|\n",
            "|GOOG| 14|1970-01-01 14:04:00|20120103|14:04:00|    GOOG| 100|660.36|1970-01-01 14:04:00|    14|\n",
            "|GOOG| 15|1970-01-01 15:00:00|20120103|15:00:00|    GOOG| 100|665.28|1970-01-01 15:00:00|    15|\n",
            "| IBM|  9|1970-01-01 09:30:03|20120103|09:30:03|     IBM| 100|187.67|1970-01-01 09:30:03|     9|\n",
            "|MSFT|  9|1970-01-01 09:30:05|20120103|09:30:05|     IBM| 102|187.67|1970-01-01 09:30:05|     9|\n",
            "| IBM| 10|1970-01-01 10:00:03|20120103|10:00:03|     IBM| 100|188.33|1970-01-01 10:00:03|    10|\n",
            "| IBM| 11|1970-01-01 11:00:35|20120103|11:00:35|     IBM| 100|188.54|1970-01-01 11:00:35|    11|\n",
            "| IBM| 12|1970-01-01 12:00:49|20120103|12:00:49|     IBM| 232|188.13|1970-01-01 12:00:49|    12|\n",
            "| IBM| 13|1970-01-01 13:00:53|20120103|13:00:53|     IBM| 100|186.64|1970-01-01 13:00:53|    13|\n",
            "+----+---+-------------------+--------+--------+--------+----+------+-------------------+------+\n",
            "only showing top 20 rows\n",
            "\n"
          ],
          "name": "stdout"
        }
      ]
    },
    {
      "cell_type": "code",
      "metadata": {
        "colab_type": "code",
        "id": "ci9zA_dOWynO",
        "outputId": "dc737f79-0940-4e58-a864-2b1053b34597",
        "colab": {
          "base_uri": "https://localhost:8080/",
          "height": 459
        }
      },
      "source": [
        "#keeping the values of rows when both 'sys' and 'SYM_ROOT' match\n",
        "inn_min =  inner_join_min.filter(inner_join_min.sys == inner_join_min.SYM_ROOT)\n",
        "inn_min.show()"
      ],
      "execution_count": 115,
      "outputs": [
        {
          "output_type": "stream",
          "text": [
            "+----+---+-------------------+--------+--------+--------+----+------+-------------------+------+\n",
            "| sys|  H|                paa|    DATE|  TIME_S|SYM_ROOT|SIZE| TRADE|             parsed|Time_H|\n",
            "+----+---+-------------------+--------+--------+--------+----+------+-------------------+------+\n",
            "|AAPL|  9|1970-01-01 09:04:08|20120103|09:04:08|    AAPL| 500|409.21|1970-01-01 09:04:08|     9|\n",
            "|AAPL| 10|1970-01-01 10:00:08|20120103|10:00:08|    AAPL| 100|411.68|1970-01-01 10:00:08|    10|\n",
            "|AAPL| 11|1970-01-01 11:01:51|20120103|11:01:51|    AAPL| 100|411.36|1970-01-01 11:01:51|    11|\n",
            "|AAPL| 12|1970-01-01 12:00:57|20120103|12:00:57|    AAPL| 290|411.22|1970-01-01 12:00:57|    12|\n",
            "|AAPL| 13|1970-01-01 13:00:13|20120103|13:00:13|    AAPL| 100|410.26|1970-01-01 13:00:13|    13|\n",
            "|AAPL| 14|1970-01-01 14:00:01|20120103|14:00:01|    AAPL| 800|411.31|1970-01-01 14:00:01|    14|\n",
            "|AAPL| 15|1970-01-01 15:00:12|20120103|15:00:12|    AAPL| 100|412.17|1970-01-01 15:00:12|    15|\n",
            "|GOOG|  9|1970-01-01 09:05:35|20120103|09:05:35|    GOOG| 100|655.46|1970-01-01 09:05:35|     9|\n",
            "|GOOG| 10|1970-01-01 10:00:06|20120103|10:00:06|    GOOG| 100|659.42|1970-01-01 10:00:06|    10|\n",
            "|GOOG| 11|1970-01-01 11:03:35|20120103|11:03:35|    GOOG| 100|659.74|1970-01-01 11:03:35|    11|\n",
            "|GOOG| 12|1970-01-01 12:01:37|20120103|12:01:37|    GOOG| 100|662.06|1970-01-01 12:01:37|    12|\n",
            "|GOOG| 13|1970-01-01 13:00:31|20120103|13:00:31|    GOOG| 100|660.16|1970-01-01 13:00:31|    13|\n",
            "|GOOG| 14|1970-01-01 14:04:00|20120103|14:04:00|    GOOG| 100|660.36|1970-01-01 14:04:00|    14|\n",
            "|GOOG| 15|1970-01-01 15:00:00|20120103|15:00:00|    GOOG| 100|665.28|1970-01-01 15:00:00|    15|\n",
            "| IBM|  9|1970-01-01 09:30:03|20120103|09:30:03|     IBM| 100|187.67|1970-01-01 09:30:03|     9|\n",
            "| IBM| 10|1970-01-01 10:00:03|20120103|10:00:03|     IBM| 100|188.33|1970-01-01 10:00:03|    10|\n",
            "| IBM| 11|1970-01-01 11:00:35|20120103|11:00:35|     IBM| 100|188.54|1970-01-01 11:00:35|    11|\n",
            "| IBM| 12|1970-01-01 12:00:49|20120103|12:00:49|     IBM| 232|188.13|1970-01-01 12:00:49|    12|\n",
            "| IBM| 13|1970-01-01 13:00:53|20120103|13:00:53|     IBM| 100|186.64|1970-01-01 13:00:53|    13|\n",
            "| IBM| 13|1970-01-01 13:00:53|20120103|13:00:53|     IBM| 100|186.66|1970-01-01 13:00:53|    13|\n",
            "+----+---+-------------------+--------+--------+--------+----+------+-------------------+------+\n",
            "only showing top 20 rows\n",
            "\n"
          ],
          "name": "stdout"
        }
      ]
    },
    {
      "cell_type": "code",
      "metadata": {
        "colab_type": "code",
        "id": "WJ5N9GhAWynU",
        "colab": {}
      },
      "source": [
        "#dropping duplicates based on the time and stock name\n",
        "import pyspark.sql.functions as F\n",
        "inn_min1 = inn_min.orderBy('SYM_ROOT', F.col('parsed').desc()).dropDuplicates(subset = ['parsed', 'SYM_ROOT'])"
      ],
      "execution_count": 0,
      "outputs": []
    },
    {
      "cell_type": "code",
      "metadata": {
        "colab_type": "code",
        "outputId": "3a7b2b33-ee93-4703-8007-61c0bc0755ee",
        "id": "XVx8p4n0WynX",
        "colab": {
          "base_uri": "https://localhost:8080/",
          "height": 459
        }
      },
      "source": [
        "inn_min2 = inn_min1.orderBy('SYM_ROOT', 'Time_H', ascending=True)\n",
        "inn_min2.show()"
      ],
      "execution_count": 117,
      "outputs": [
        {
          "output_type": "stream",
          "text": [
            "+----+---+-------------------+--------+--------+--------+----+------+-------------------+------+\n",
            "| sys|  H|                paa|    DATE|  TIME_S|SYM_ROOT|SIZE| TRADE|             parsed|Time_H|\n",
            "+----+---+-------------------+--------+--------+--------+----+------+-------------------+------+\n",
            "|AAPL|  9|1970-01-01 09:04:08|20120103|09:04:08|    AAPL| 500|409.21|1970-01-01 09:04:08|     9|\n",
            "|AAPL| 10|1970-01-01 10:00:08|20120103|10:00:08|    AAPL| 100|411.68|1970-01-01 10:00:08|    10|\n",
            "|AAPL| 11|1970-01-01 11:01:51|20120103|11:01:51|    AAPL| 100|411.36|1970-01-01 11:01:51|    11|\n",
            "|AAPL| 12|1970-01-01 12:00:57|20120103|12:00:57|    AAPL| 290|411.22|1970-01-01 12:00:57|    12|\n",
            "|AAPL| 13|1970-01-01 13:00:13|20120103|13:00:13|    AAPL| 100|410.26|1970-01-01 13:00:13|    13|\n",
            "|AAPL| 14|1970-01-01 14:00:01|20120103|14:00:01|    AAPL| 800|411.31|1970-01-01 14:00:01|    14|\n",
            "|AAPL| 15|1970-01-01 15:00:12|20120103|15:00:12|    AAPL| 100|412.17|1970-01-01 15:00:12|    15|\n",
            "|GOOG|  9|1970-01-01 09:05:35|20120103|09:05:35|    GOOG| 100|655.46|1970-01-01 09:05:35|     9|\n",
            "|GOOG| 10|1970-01-01 10:00:06|20120103|10:00:06|    GOOG| 100|659.42|1970-01-01 10:00:06|    10|\n",
            "|GOOG| 11|1970-01-01 11:03:35|20120103|11:03:35|    GOOG| 100|659.74|1970-01-01 11:03:35|    11|\n",
            "|GOOG| 12|1970-01-01 12:01:37|20120103|12:01:37|    GOOG| 100|662.06|1970-01-01 12:01:37|    12|\n",
            "|GOOG| 13|1970-01-01 13:00:31|20120103|13:00:31|    GOOG| 100|660.16|1970-01-01 13:00:31|    13|\n",
            "|GOOG| 14|1970-01-01 14:04:00|20120103|14:04:00|    GOOG| 100|660.36|1970-01-01 14:04:00|    14|\n",
            "|GOOG| 15|1970-01-01 15:00:00|20120103|15:00:00|    GOOG| 100|665.28|1970-01-01 15:00:00|    15|\n",
            "| IBM|  9|1970-01-01 09:30:03|20120103|09:30:03|     IBM| 100|187.67|1970-01-01 09:30:03|     9|\n",
            "| IBM| 10|1970-01-01 10:00:03|20120103|10:00:03|     IBM| 100|188.33|1970-01-01 10:00:03|    10|\n",
            "| IBM| 11|1970-01-01 11:00:35|20120103|11:00:35|     IBM| 100|188.54|1970-01-01 11:00:35|    11|\n",
            "| IBM| 12|1970-01-01 12:00:49|20120103|12:00:49|     IBM| 232|188.13|1970-01-01 12:00:49|    12|\n",
            "| IBM| 13|1970-01-01 13:00:53|20120103|13:00:53|     IBM| 100|186.64|1970-01-01 13:00:53|    13|\n",
            "| IBM| 14|1970-01-01 14:00:26|20120103|14:00:26|     IBM| 100|186.83|1970-01-01 14:00:26|    14|\n",
            "+----+---+-------------------+--------+--------+--------+----+------+-------------------+------+\n",
            "only showing top 20 rows\n",
            "\n"
          ],
          "name": "stdout"
        }
      ]
    },
    {
      "cell_type": "code",
      "metadata": {
        "colab_type": "code",
        "outputId": "d0493740-4123-4861-c8af-32149b06e471",
        "id": "PJ1M93ODWynZ",
        "colab": {
          "base_uri": "https://localhost:8080/",
          "height": 459
        }
      },
      "source": [
        "#dataframe with minimum time for each hour per company stock is obtained\n",
        "dfmin = inn_min2.drop('sys', 'H', 'paa')\n",
        "dfmin.show()"
      ],
      "execution_count": 152,
      "outputs": [
        {
          "output_type": "stream",
          "text": [
            "+--------+--------+--------+----+------+-------------------+------+\n",
            "|    DATE|  TIME_S|SYM_ROOT|SIZE| TRADE|             parsed|Time_H|\n",
            "+--------+--------+--------+----+------+-------------------+------+\n",
            "|20120103|09:04:08|    AAPL| 500|409.21|1970-01-01 09:04:08|     9|\n",
            "|20120103|10:00:08|    AAPL| 100|411.68|1970-01-01 10:00:08|    10|\n",
            "|20120103|11:01:51|    AAPL| 100|411.36|1970-01-01 11:01:51|    11|\n",
            "|20120103|12:00:57|    AAPL| 290|411.22|1970-01-01 12:00:57|    12|\n",
            "|20120103|13:00:13|    AAPL| 100|410.26|1970-01-01 13:00:13|    13|\n",
            "|20120103|14:00:01|    AAPL| 800|411.31|1970-01-01 14:00:01|    14|\n",
            "|20120103|15:00:12|    AAPL| 100|412.17|1970-01-01 15:00:12|    15|\n",
            "|20120103|09:05:35|    GOOG| 100|655.46|1970-01-01 09:05:35|     9|\n",
            "|20120103|10:00:06|    GOOG| 100|659.42|1970-01-01 10:00:06|    10|\n",
            "|20120103|11:03:35|    GOOG| 100|659.74|1970-01-01 11:03:35|    11|\n",
            "|20120103|12:01:37|    GOOG| 100|662.06|1970-01-01 12:01:37|    12|\n",
            "|20120103|13:00:31|    GOOG| 100|660.16|1970-01-01 13:00:31|    13|\n",
            "|20120103|14:04:00|    GOOG| 100|660.36|1970-01-01 14:04:00|    14|\n",
            "|20120103|15:00:00|    GOOG| 100|665.28|1970-01-01 15:00:00|    15|\n",
            "|20120103|09:30:03|     IBM| 100|187.67|1970-01-01 09:30:03|     9|\n",
            "|20120103|10:00:03|     IBM| 100|188.33|1970-01-01 10:00:03|    10|\n",
            "|20120103|11:00:35|     IBM| 100|188.54|1970-01-01 11:00:35|    11|\n",
            "|20120103|12:00:49|     IBM| 232|188.13|1970-01-01 12:00:49|    12|\n",
            "|20120103|13:00:53|     IBM| 100|186.64|1970-01-01 13:00:53|    13|\n",
            "|20120103|14:00:26|     IBM| 100|186.83|1970-01-01 14:00:26|    14|\n",
            "+--------+--------+--------+----+------+-------------------+------+\n",
            "only showing top 20 rows\n",
            "\n"
          ],
          "name": "stdout"
        }
      ]
    },
    {
      "cell_type": "code",
      "metadata": {
        "colab_type": "code",
        "outputId": "b4291c0e-7f75-4975-9222-79ab08ca327c",
        "id": "T7D3Wc4QWynb",
        "colab": {
          "base_uri": "https://localhost:8080/",
          "height": 34
        }
      },
      "source": [
        "dfmin.count()"
      ],
      "execution_count": 153,
      "outputs": [
        {
          "output_type": "execute_result",
          "data": {
            "text/plain": [
              "28"
            ]
          },
          "metadata": {
            "tags": []
          },
          "execution_count": 153
        }
      ]
    },
    {
      "cell_type": "code",
      "metadata": {
        "id": "6XZq1ttXXjn9",
        "colab_type": "code",
        "colab": {}
      },
      "source": [
        "#combining dfmin and dfmax\n",
        "dcomb = dfmin.union(dfmax)"
      ],
      "execution_count": 0,
      "outputs": []
    },
    {
      "cell_type": "code",
      "metadata": {
        "id": "BlFEkndIX1T5",
        "colab_type": "code",
        "outputId": "c52660c6-c852-423a-d3ba-9579780091f6",
        "colab": {
          "base_uri": "https://localhost:8080/",
          "height": 459
        }
      },
      "source": [
        "#ordering it based on stock name and time\n",
        "dcomb = dcomb.orderBy('SYM_ROOT', 'parsed', ascending=True)\n",
        "dcomb.show()"
      ],
      "execution_count": 155,
      "outputs": [
        {
          "output_type": "stream",
          "text": [
            "+--------+--------+--------+----+------+-------------------+------+\n",
            "|    DATE|  TIME_S|SYM_ROOT|SIZE| TRADE|             parsed|Time_H|\n",
            "+--------+--------+--------+----+------+-------------------+------+\n",
            "|20120103|09:04:08|    AAPL| 500|409.21|1970-01-01 09:04:08|     9|\n",
            "|20120103|09:59:14|    AAPL| 200|411.38|1970-01-01 09:59:14|     9|\n",
            "|20120103|10:00:08|    AAPL| 100|411.68|1970-01-01 10:00:08|    10|\n",
            "|20120103|10:59:12|    AAPL| 100|411.23|1970-01-01 10:59:12|    10|\n",
            "|20120103|11:01:51|    AAPL| 100|411.36|1970-01-01 11:01:51|    11|\n",
            "|20120103|11:53:49|    AAPL| 100| 411.3|1970-01-01 11:53:49|    11|\n",
            "|20120103|12:00:57|    AAPL| 290|411.22|1970-01-01 12:00:57|    12|\n",
            "|20120103|12:59:58|    AAPL| 100|410.19|1970-01-01 12:59:58|    12|\n",
            "|20120103|13:00:13|    AAPL| 100|410.26|1970-01-01 13:00:13|    13|\n",
            "|20120103|13:56:26|    AAPL| 100|411.21|1970-01-01 13:56:26|    13|\n",
            "|20120103|14:00:01|    AAPL| 800|411.31|1970-01-01 14:00:01|    14|\n",
            "|20120103|14:59:56|    AAPL| 100|412.16|1970-01-01 14:59:56|    14|\n",
            "|20120103|15:00:12|    AAPL| 100|412.17|1970-01-01 15:00:12|    15|\n",
            "|20120103|15:59:59|    AAPL| 100|411.45|1970-01-01 15:59:59|    15|\n",
            "|20120103|09:05:35|    GOOG| 100|655.46|1970-01-01 09:05:35|     9|\n",
            "|20120103|09:59:46|    GOOG| 100|659.43|1970-01-01 09:59:46|     9|\n",
            "|20120103|10:00:06|    GOOG| 100|659.42|1970-01-01 10:00:06|    10|\n",
            "|20120103|10:59:29|    GOOG| 100|659.95|1970-01-01 10:59:29|    10|\n",
            "|20120103|11:03:35|    GOOG| 100|659.74|1970-01-01 11:03:35|    11|\n",
            "|20120103|11:59:44|    GOOG| 100|661.86|1970-01-01 11:59:44|    11|\n",
            "+--------+--------+--------+----+------+-------------------+------+\n",
            "only showing top 20 rows\n",
            "\n"
          ],
          "name": "stdout"
        }
      ]
    },
    {
      "cell_type": "code",
      "metadata": {
        "id": "bHmGG18hYHyG",
        "colab_type": "code",
        "outputId": "6caf7013-dae3-4ccb-bfd1-bcc3428294e8",
        "colab": {
          "base_uri": "https://localhost:8080/",
          "height": 34
        }
      },
      "source": [
        "dcomb.count()"
      ],
      "execution_count": 156,
      "outputs": [
        {
          "output_type": "execute_result",
          "data": {
            "text/plain": [
              "56"
            ]
          },
          "metadata": {
            "tags": []
          },
          "execution_count": 156
        }
      ]
    },
    {
      "cell_type": "code",
      "metadata": {
        "id": "s-5tRiwFZ3Fg",
        "colab_type": "code",
        "colab": {}
      },
      "source": [
        "from pyspark.sql import SQLContext\n",
        "sqlContext = SQLContext(spark)"
      ],
      "execution_count": 0,
      "outputs": []
    },
    {
      "cell_type": "code",
      "metadata": {
        "id": "6UftZp75Z6rK",
        "colab_type": "code",
        "colab": {}
      },
      "source": [
        "#registering dataframe as table\n",
        "sqlContext.registerDataFrameAsTable(dcomb, \"dcomble\")"
      ],
      "execution_count": 0,
      "outputs": []
    },
    {
      "cell_type": "code",
      "metadata": {
        "id": "UKQUJX2zYOTl",
        "colab_type": "code",
        "outputId": "84f0cbf6-2b35-4cab-a470-642b0473ef0c",
        "colab": {
          "base_uri": "https://localhost:8080/",
          "height": 459
        }
      },
      "source": [
        "#using lag function to create a new column 'prev' for calculation purposes\n",
        "dcalc = sqlContext.sql(\"\"\"select *, lag(TRADE, 1, 0) over (partition by SYM_ROOT, Time_H order by parsed) as prev from dcomble\"\"\")\n",
        "dcalc1 = dcalc.orderBy('SYM_ROOT', 'parsed', ascending=True)\n",
        "dcalc1.show()"
      ],
      "execution_count": 159,
      "outputs": [
        {
          "output_type": "stream",
          "text": [
            "+--------+--------+--------+----+------+-------------------+------+------+\n",
            "|    DATE|  TIME_S|SYM_ROOT|SIZE| TRADE|             parsed|Time_H|  prev|\n",
            "+--------+--------+--------+----+------+-------------------+------+------+\n",
            "|20120103|09:04:08|    AAPL| 500|409.21|1970-01-01 09:04:08|     9|   0.0|\n",
            "|20120103|09:59:14|    AAPL| 200|411.38|1970-01-01 09:59:14|     9|409.21|\n",
            "|20120103|10:00:08|    AAPL| 100|411.68|1970-01-01 10:00:08|    10|   0.0|\n",
            "|20120103|10:59:12|    AAPL| 100|411.23|1970-01-01 10:59:12|    10|411.68|\n",
            "|20120103|11:01:51|    AAPL| 100|411.36|1970-01-01 11:01:51|    11|   0.0|\n",
            "|20120103|11:53:49|    AAPL| 100| 411.3|1970-01-01 11:53:49|    11|411.36|\n",
            "|20120103|12:00:57|    AAPL| 290|411.22|1970-01-01 12:00:57|    12|   0.0|\n",
            "|20120103|12:59:58|    AAPL| 100|410.19|1970-01-01 12:59:58|    12|411.22|\n",
            "|20120103|13:00:13|    AAPL| 100|410.26|1970-01-01 13:00:13|    13|   0.0|\n",
            "|20120103|13:56:26|    AAPL| 100|411.21|1970-01-01 13:56:26|    13|410.26|\n",
            "|20120103|14:00:01|    AAPL| 800|411.31|1970-01-01 14:00:01|    14|   0.0|\n",
            "|20120103|14:59:56|    AAPL| 100|412.16|1970-01-01 14:59:56|    14|411.31|\n",
            "|20120103|15:00:12|    AAPL| 100|412.17|1970-01-01 15:00:12|    15|   0.0|\n",
            "|20120103|15:59:59|    AAPL| 100|411.45|1970-01-01 15:59:59|    15|412.17|\n",
            "|20120103|09:05:35|    GOOG| 100|655.46|1970-01-01 09:05:35|     9|   0.0|\n",
            "|20120103|09:59:46|    GOOG| 100|659.43|1970-01-01 09:59:46|     9|655.46|\n",
            "|20120103|10:00:06|    GOOG| 100|659.42|1970-01-01 10:00:06|    10|   0.0|\n",
            "|20120103|10:59:29|    GOOG| 100|659.95|1970-01-01 10:59:29|    10|659.42|\n",
            "|20120103|11:03:35|    GOOG| 100|659.74|1970-01-01 11:03:35|    11|   0.0|\n",
            "|20120103|11:59:44|    GOOG| 100|661.86|1970-01-01 11:59:44|    11|659.74|\n",
            "+--------+--------+--------+----+------+-------------------+------+------+\n",
            "only showing top 20 rows\n",
            "\n"
          ],
          "name": "stdout"
        }
      ]
    },
    {
      "cell_type": "code",
      "metadata": {
        "id": "HwRZJLK4Cvx4",
        "colab_type": "code",
        "outputId": "981d161b-33a4-495d-e7cf-e5d79e2723ad",
        "colab": {
          "base_uri": "https://localhost:8080/",
          "height": 459
        }
      },
      "source": [
        "#filtering rows in column 'prev' with values 0.0\n",
        "dcalc2 =  dcalc1.filter(dcalc1.prev != 0.0)\n",
        "dcalc2.show()"
      ],
      "execution_count": 160,
      "outputs": [
        {
          "output_type": "stream",
          "text": [
            "+--------+--------+--------+----+------+-------------------+------+------+\n",
            "|    DATE|  TIME_S|SYM_ROOT|SIZE| TRADE|             parsed|Time_H|  prev|\n",
            "+--------+--------+--------+----+------+-------------------+------+------+\n",
            "|20120103|09:59:14|    AAPL| 200|411.38|1970-01-01 09:59:14|     9|409.21|\n",
            "|20120103|10:59:12|    AAPL| 100|411.23|1970-01-01 10:59:12|    10|411.68|\n",
            "|20120103|11:53:49|    AAPL| 100| 411.3|1970-01-01 11:53:49|    11|411.36|\n",
            "|20120103|12:59:58|    AAPL| 100|410.19|1970-01-01 12:59:58|    12|411.22|\n",
            "|20120103|13:56:26|    AAPL| 100|411.21|1970-01-01 13:56:26|    13|410.26|\n",
            "|20120103|14:59:56|    AAPL| 100|412.16|1970-01-01 14:59:56|    14|411.31|\n",
            "|20120103|15:59:59|    AAPL| 100|411.45|1970-01-01 15:59:59|    15|412.17|\n",
            "|20120103|09:59:46|    GOOG| 100|659.43|1970-01-01 09:59:46|     9|655.46|\n",
            "|20120103|10:59:29|    GOOG| 100|659.95|1970-01-01 10:59:29|    10|659.42|\n",
            "|20120103|11:59:44|    GOOG| 100|661.86|1970-01-01 11:59:44|    11|659.74|\n",
            "|20120103|12:59:25|    GOOG| 100|659.56|1970-01-01 12:59:25|    12|662.06|\n",
            "|20120103|13:59:21|    GOOG| 100|660.17|1970-01-01 13:59:21|    13|660.16|\n",
            "|20120103|14:59:24|    GOOG| 200|664.96|1970-01-01 14:59:24|    14|660.36|\n",
            "|20120103|15:59:55|    GOOG| 100|665.89|1970-01-01 15:59:55|    15|665.28|\n",
            "|20120103|09:58:30|     IBM| 100|188.25|1970-01-01 09:58:30|     9|187.67|\n",
            "|20120103|10:59:45|     IBM| 500|188.48|1970-01-01 10:59:45|    10|188.33|\n",
            "|20120103|11:59:42|     IBM| 100|188.16|1970-01-01 11:59:42|    11|188.54|\n",
            "|20120103|12:59:37|     IBM| 100|186.58|1970-01-01 12:59:37|    12|188.13|\n",
            "|20120103|13:58:41|     IBM|1000|186.83|1970-01-01 13:58:41|    13|186.64|\n",
            "|20120103|14:59:09|     IBM| 500|186.98|1970-01-01 14:59:09|    14|186.83|\n",
            "+--------+--------+--------+----+------+-------------------+------+------+\n",
            "only showing top 20 rows\n",
            "\n"
          ],
          "name": "stdout"
        }
      ]
    },
    {
      "cell_type": "code",
      "metadata": {
        "id": "vrCrk68lGxfG",
        "colab_type": "code",
        "outputId": "bc19c733-c346-4086-a602-9f3de5afda01",
        "colab": {
          "base_uri": "https://localhost:8080/",
          "height": 459
        }
      },
      "source": [
        "#FORMULA for RETURN: return = (price of last trade - price of first trade)/price of first trade\n",
        "#finding the difference\n",
        "dcalc3 = dcalc2.withColumn('difference', dcalc2['TRADE'] - dcalc2['prev'])\n",
        "dcalc3.show()"
      ],
      "execution_count": 161,
      "outputs": [
        {
          "output_type": "stream",
          "text": [
            "+--------+--------+--------+----+------+-------------------+------+------+--------------------+\n",
            "|    DATE|  TIME_S|SYM_ROOT|SIZE| TRADE|             parsed|Time_H|  prev|          difference|\n",
            "+--------+--------+--------+----+------+-------------------+------+------+--------------------+\n",
            "|20120103|09:59:14|    AAPL| 200|411.38|1970-01-01 09:59:14|     9|409.21|   2.170000000000016|\n",
            "|20120103|10:59:12|    AAPL| 100|411.23|1970-01-01 10:59:12|    10|411.68|-0.44999999999998863|\n",
            "|20120103|11:53:49|    AAPL| 100| 411.3|1970-01-01 11:53:49|    11|411.36|-0.06000000000000...|\n",
            "|20120103|12:59:58|    AAPL| 100|410.19|1970-01-01 12:59:58|    12|411.22| -1.0300000000000296|\n",
            "|20120103|13:56:26|    AAPL| 100|411.21|1970-01-01 13:56:26|    13|410.26|  0.9499999999999886|\n",
            "|20120103|14:59:56|    AAPL| 100|412.16|1970-01-01 14:59:56|    14|411.31|  0.8500000000000227|\n",
            "|20120103|15:59:59|    AAPL| 100|411.45|1970-01-01 15:59:59|    15|412.17| -0.7200000000000273|\n",
            "|20120103|09:59:46|    GOOG| 100|659.43|1970-01-01 09:59:46|     9|655.46|  3.9699999999999136|\n",
            "|20120103|10:59:29|    GOOG| 100|659.95|1970-01-01 10:59:29|    10|659.42|  0.5300000000000864|\n",
            "|20120103|11:59:44|    GOOG| 100|661.86|1970-01-01 11:59:44|    11|659.74|  2.1200000000000045|\n",
            "|20120103|12:59:25|    GOOG| 100|659.56|1970-01-01 12:59:25|    12|662.06|                -2.5|\n",
            "|20120103|13:59:21|    GOOG| 100|660.17|1970-01-01 13:59:21|    13|660.16|0.009999999999990905|\n",
            "|20120103|14:59:24|    GOOG| 200|664.96|1970-01-01 14:59:24|    14|660.36|   4.600000000000023|\n",
            "|20120103|15:59:55|    GOOG| 100|665.89|1970-01-01 15:59:55|    15|665.28|  0.6100000000000136|\n",
            "|20120103|09:58:30|     IBM| 100|188.25|1970-01-01 09:58:30|     9|187.67|  0.5800000000000125|\n",
            "|20120103|10:59:45|     IBM| 500|188.48|1970-01-01 10:59:45|    10|188.33| 0.14999999999997726|\n",
            "|20120103|11:59:42|     IBM| 100|188.16|1970-01-01 11:59:42|    11|188.54|-0.37999999999999545|\n",
            "|20120103|12:59:37|     IBM| 100|186.58|1970-01-01 12:59:37|    12|188.13|  -1.549999999999983|\n",
            "|20120103|13:58:41|     IBM|1000|186.83|1970-01-01 13:58:41|    13|186.64| 0.19000000000002615|\n",
            "|20120103|14:59:09|     IBM| 500|186.98|1970-01-01 14:59:09|    14|186.83| 0.14999999999997726|\n",
            "+--------+--------+--------+----+------+-------------------+------+------+--------------------+\n",
            "only showing top 20 rows\n",
            "\n"
          ],
          "name": "stdout"
        }
      ]
    },
    {
      "cell_type": "code",
      "metadata": {
        "id": "0k6YstS3HLIN",
        "colab_type": "code",
        "outputId": "ffc1a878-1670-43af-f7df-d54b67fbb91f",
        "colab": {
          "base_uri": "https://localhost:8080/",
          "height": 459
        }
      },
      "source": [
        "#finding hourly return\n",
        "dcalc4 = dcalc3.withColumn('return', (F.col('difference') / F.col('prev')))\n",
        "dcalc4.show()"
      ],
      "execution_count": 162,
      "outputs": [
        {
          "output_type": "stream",
          "text": [
            "+--------+--------+--------+----+------+-------------------+------+------+--------------------+--------------------+\n",
            "|    DATE|  TIME_S|SYM_ROOT|SIZE| TRADE|             parsed|Time_H|  prev|          difference|              return|\n",
            "+--------+--------+--------+----+------+-------------------+------+------+--------------------+--------------------+\n",
            "|20120103|09:59:14|    AAPL| 200|411.38|1970-01-01 09:59:14|     9|409.21|   2.170000000000016|0.005302900711126356|\n",
            "|20120103|10:59:12|    AAPL| 100|411.23|1970-01-01 10:59:12|    10|411.68|-0.44999999999998863|-0.00109308200544...|\n",
            "|20120103|11:53:49|    AAPL| 100| 411.3|1970-01-01 11:53:49|    11|411.36|-0.06000000000000...|-1.45857642940495...|\n",
            "|20120103|12:59:58|    AAPL| 100|410.19|1970-01-01 12:59:58|    12|411.22| -1.0300000000000296|-0.00250474198725...|\n",
            "|20120103|13:56:26|    AAPL| 100|411.21|1970-01-01 13:56:26|    13|410.26|  0.9499999999999886|0.002315604738458...|\n",
            "|20120103|14:59:56|    AAPL| 100|412.16|1970-01-01 14:59:56|    14|411.31|  0.8500000000000227|0.002066567795580...|\n",
            "|20120103|15:59:59|    AAPL| 100|411.45|1970-01-01 15:59:59|    15|412.17| -0.7200000000000273|-0.00174685202707...|\n",
            "|20120103|09:59:46|    GOOG| 100|659.43|1970-01-01 09:59:46|     9|655.46|  3.9699999999999136|0.006056815061178277|\n",
            "|20120103|10:59:29|    GOOG| 100|659.95|1970-01-01 10:59:29|    10|659.42|  0.5300000000000864|8.037366170272154E-4|\n",
            "|20120103|11:59:44|    GOOG| 100|661.86|1970-01-01 11:59:44|    11|659.74|  2.1200000000000045|0.003213387091884...|\n",
            "|20120103|12:59:25|    GOOG| 100|659.56|1970-01-01 12:59:25|    12|662.06|                -2.5|-0.00377609280125...|\n",
            "|20120103|13:59:21|    GOOG| 100|660.17|1970-01-01 13:59:21|    13|660.16|0.009999999999990905|1.514784294715054...|\n",
            "|20120103|14:59:24|    GOOG| 200|664.96|1970-01-01 14:59:24|    14|660.36|   4.600000000000023|0.006965897389302839|\n",
            "|20120103|15:59:55|    GOOG| 100|665.89|1970-01-01 15:59:55|    15|665.28|  0.6100000000000136|9.169071669071874E-4|\n",
            "|20120103|09:58:30|     IBM| 100|188.25|1970-01-01 09:58:30|     9|187.67|  0.5800000000000125|0.003090531251665224|\n",
            "|20120103|10:59:45|     IBM| 500|188.48|1970-01-01 10:59:45|    10|188.33| 0.14999999999997726|7.964742738808329E-4|\n",
            "|20120103|11:59:42|     IBM| 100|188.16|1970-01-01 11:59:42|    11|188.54|-0.37999999999999545|-0.00201548742972...|\n",
            "|20120103|12:59:37|     IBM| 100|186.58|1970-01-01 12:59:37|    12|188.13|  -1.549999999999983|-0.00823898368149...|\n",
            "|20120103|13:58:41|     IBM|1000|186.83|1970-01-01 13:58:41|    13|186.64| 0.19000000000002615|0.001018002571796111|\n",
            "|20120103|14:59:09|     IBM| 500|186.98|1970-01-01 14:59:09|    14|186.83| 0.14999999999997726|8.028689182678223E-4|\n",
            "+--------+--------+--------+----+------+-------------------+------+------+--------------------+--------------------+\n",
            "only showing top 20 rows\n",
            "\n"
          ],
          "name": "stdout"
        }
      ]
    },
    {
      "cell_type": "code",
      "metadata": {
        "id": "YbCaVaG2wB8-",
        "colab_type": "code",
        "colab": {
          "base_uri": "https://localhost:8080/",
          "height": 459
        },
        "outputId": "8a41575a-eb42-4da5-c90a-fa5c05def2b2"
      },
      "source": [
        "dcalc5 = dcalc4.join(aggs1, dcalc4.Time_H == aggs1.Time_HH)\n",
        "dcalc5 =  dcalc5.filter(dcalc5.SYM_ROOT == dcalc5.SYM_ROOTT)\n",
        "\n",
        "dcalc5.drop('DATEE', 'SYM_ROOTT', 'Time_HH').show()"
      ],
      "execution_count": 163,
      "outputs": [
        {
          "output_type": "stream",
          "text": [
            "+--------+--------+--------+----+------+-------------------+------+------+--------------------+--------------------+------+\n",
            "|    DATE|  TIME_S|SYM_ROOT|SIZE| TRADE|             parsed|Time_H|  prev|          difference|              return|Size_H|\n",
            "+--------+--------+--------+----+------+-------------------+------+------+--------------------+--------------------+------+\n",
            "|20120103|09:59:14|    AAPL| 200|411.38|1970-01-01 09:59:14|     9|409.21|   2.170000000000016|0.005302900711126356| 21092|\n",
            "|20120103|10:59:12|    AAPL| 100|411.23|1970-01-01 10:59:12|    10|411.68|-0.44999999999998863|-0.00109308200544...| 12041|\n",
            "|20120103|11:53:49|    AAPL| 100| 411.3|1970-01-01 11:53:49|    11|411.36|-0.06000000000000...|-1.45857642940495...|  9473|\n",
            "|20120103|12:59:58|    AAPL| 100|410.19|1970-01-01 12:59:58|    12|411.22| -1.0300000000000296|-0.00250474198725...|  5718|\n",
            "|20120103|13:56:26|    AAPL| 100|411.21|1970-01-01 13:56:26|    13|410.26|  0.9499999999999886|0.002315604738458...|  8103|\n",
            "|20120103|14:59:56|    AAPL| 100|412.16|1970-01-01 14:59:56|    14|411.31|  0.8500000000000227|0.002066567795580...|  7783|\n",
            "|20120103|15:59:59|    AAPL| 100|411.45|1970-01-01 15:59:59|    15|412.17| -0.7200000000000273|-0.00174685202707...| 15334|\n",
            "|20120103|09:59:46|    GOOG| 100|659.43|1970-01-01 09:59:46|     9|655.46|  3.9699999999999136|0.006056815061178277|  8314|\n",
            "|20120103|10:59:29|    GOOG| 100|659.95|1970-01-01 10:59:29|    10|659.42|  0.5300000000000864|8.037366170272154E-4|  8080|\n",
            "|20120103|11:59:44|    GOOG| 100|661.86|1970-01-01 11:59:44|    11|659.74|  2.1200000000000045|0.003213387091884...|  6776|\n",
            "|20120103|12:59:25|    GOOG| 100|659.56|1970-01-01 12:59:25|    12|662.06|                -2.5|-0.00377609280125...|  6619|\n",
            "|20120103|13:59:21|    GOOG| 100|660.17|1970-01-01 13:59:21|    13|660.16|0.009999999999990905|1.514784294715054...|  6517|\n",
            "|20120103|14:59:24|    GOOG| 200|664.96|1970-01-01 14:59:24|    14|660.36|   4.600000000000023|0.006965897389302839|  8453|\n",
            "|20120103|15:59:55|    GOOG| 100|665.89|1970-01-01 15:59:55|    15|665.28|  0.6100000000000136|9.169071669071874E-4| 17496|\n",
            "|20120103|09:58:30|     IBM| 100|188.25|1970-01-01 09:58:30|     9|187.67|  0.5800000000000125|0.003090531251665224| 14064|\n",
            "|20120103|10:59:45|     IBM| 500|188.48|1970-01-01 10:59:45|    10|188.33| 0.14999999999997726|7.964742738808329E-4| 12055|\n",
            "|20120103|11:59:42|     IBM| 100|188.16|1970-01-01 11:59:42|    11|188.54|-0.37999999999999545|-0.00201548742972...| 12863|\n",
            "|20120103|12:59:37|     IBM| 100|186.58|1970-01-01 12:59:37|    12|188.13|  -1.549999999999983|-0.00823898368149...| 11694|\n",
            "|20120103|13:58:41|     IBM|1000|186.83|1970-01-01 13:58:41|    13|186.64| 0.19000000000002615|0.001018002571796111|  5109|\n",
            "|20120103|14:59:09|     IBM| 500|186.98|1970-01-01 14:59:09|    14|186.83| 0.14999999999997726|8.028689182678223E-4|  9033|\n",
            "+--------+--------+--------+----+------+-------------------+------+------+--------------------+--------------------+------+\n",
            "only showing top 20 rows\n",
            "\n"
          ],
          "name": "stdout"
        }
      ]
    },
    {
      "cell_type": "markdown",
      "metadata": {
        "id": "-dQEook9oGk-",
        "colab_type": "text"
      },
      "source": [
        "# Step 5: Store the sorted the output in a csv file"
      ]
    },
    {
      "cell_type": "code",
      "metadata": {
        "id": "taYjAS1zHb5x",
        "colab_type": "code",
        "outputId": "7ddf1938-31b1-48e8-9e51-2b67db9a9611",
        "colab": {
          "base_uri": "https://localhost:8080/",
          "height": 289
        }
      },
      "source": [
        "dcalc5.printSchema()\n"
      ],
      "execution_count": 164,
      "outputs": [
        {
          "output_type": "stream",
          "text": [
            "root\n",
            " |-- DATE: integer (nullable = true)\n",
            " |-- TIME_S: string (nullable = true)\n",
            " |-- SYM_ROOT: string (nullable = true)\n",
            " |-- SIZE: integer (nullable = true)\n",
            " |-- TRADE: double (nullable = true)\n",
            " |-- parsed: timestamp (nullable = true)\n",
            " |-- Time_H: integer (nullable = true)\n",
            " |-- prev: double (nullable = true)\n",
            " |-- difference: double (nullable = true)\n",
            " |-- return: double (nullable = true)\n",
            " |-- DATEE: integer (nullable = true)\n",
            " |-- SYM_ROOTT: string (nullable = true)\n",
            " |-- Time_HH: integer (nullable = true)\n",
            " |-- Size_H: long (nullable = true)\n",
            "\n"
          ],
          "name": "stdout"
        }
      ]
    },
    {
      "cell_type": "code",
      "metadata": {
        "id": "_YLoEtOtgfCC",
        "colab_type": "code",
        "colab": {}
      },
      "source": [
        "dcalc6 = dcalc5.withColumn(\"DATE\", dcalc4[\"DATE\"].cast(StringType()))"
      ],
      "execution_count": 0,
      "outputs": []
    },
    {
      "cell_type": "code",
      "metadata": {
        "id": "83adIWhqh6CR",
        "colab_type": "code",
        "colab": {}
      },
      "source": [
        "dcalc7 = dcalc6.withColumn(\"TRADE\", dcalc5[\"TRADE\"].cast(StringType()))\n",
        "dcalc8 = dcalc7.withColumn(\"return\", dcalc6[\"return\"].cast(StringType()))\n",
        "dcalc9 = dcalc8.withColumn(\"Time_H\", dcalc6[\"Time_H\"].cast(StringType()))\n",
        "dcalc10 = dcalc9.withColumn(\"Size_H\", dcalc6[\"Size_H\"].cast(StringType()))"
      ],
      "execution_count": 0,
      "outputs": []
    },
    {
      "cell_type": "code",
      "metadata": {
        "id": "4g_g5u9-lCJ4",
        "colab_type": "code",
        "colab": {
          "base_uri": "https://localhost:8080/",
          "height": 459
        },
        "outputId": "26c9cb57-9ba9-49ca-bcce-67d452530b95"
      },
      "source": [
        "#final output\n",
        "dcalc11 = dcalc10.select('SYM_ROOT', 'DATE', 'Time_H', 'Size_H', 'return')\n",
        "dcalc11.show()"
      ],
      "execution_count": 167,
      "outputs": [
        {
          "output_type": "stream",
          "text": [
            "+--------+--------+------+------+--------------------+\n",
            "|SYM_ROOT|    DATE|Time_H|Size_H|              return|\n",
            "+--------+--------+------+------+--------------------+\n",
            "|    AAPL|20120103|     9| 21092|0.005302900711126356|\n",
            "|    AAPL|20120103|    10| 12041|-0.00109308200544...|\n",
            "|    AAPL|20120103|    11|  9473|-1.45857642940495...|\n",
            "|    AAPL|20120103|    12|  5718|-0.00250474198725...|\n",
            "|    AAPL|20120103|    13|  8103|0.002315604738458...|\n",
            "|    AAPL|20120103|    14|  7783|0.002066567795580...|\n",
            "|    AAPL|20120103|    15| 15334|-0.00174685202707...|\n",
            "|    GOOG|20120103|     9|  8314|0.006056815061178277|\n",
            "|    GOOG|20120103|    10|  8080|8.037366170272154E-4|\n",
            "|    GOOG|20120103|    11|  6776|0.003213387091884...|\n",
            "|    GOOG|20120103|    12|  6619|-0.00377609280125...|\n",
            "|    GOOG|20120103|    13|  6517|1.514784294715054...|\n",
            "|    GOOG|20120103|    14|  8453|0.006965897389302839|\n",
            "|    GOOG|20120103|    15| 17496|9.169071669071874E-4|\n",
            "|     IBM|20120103|     9| 14064|0.003090531251665224|\n",
            "|     IBM|20120103|    10| 12055|7.964742738808329E-4|\n",
            "|     IBM|20120103|    11| 12863|-0.00201548742972...|\n",
            "|     IBM|20120103|    12| 11694|-0.00823898368149...|\n",
            "|     IBM|20120103|    13|  5109|0.001018002571796111|\n",
            "|     IBM|20120103|    14|  9033|8.028689182678223E-4|\n",
            "+--------+--------+------+------+--------------------+\n",
            "only showing top 20 rows\n",
            "\n"
          ],
          "name": "stdout"
        }
      ]
    },
    {
      "cell_type": "code",
      "metadata": {
        "id": "Tn7YTYCdhmz2",
        "colab_type": "code",
        "colab": {}
      },
      "source": [
        "dcalc11.repartition(1).write.format(\"com.databricks.spark.csv\").option(\"header\", \"true\").save(\"/content/drive/My Drive/anedun_HW3.csv\")"
      ],
      "execution_count": 0,
      "outputs": []
    }
  ]
}